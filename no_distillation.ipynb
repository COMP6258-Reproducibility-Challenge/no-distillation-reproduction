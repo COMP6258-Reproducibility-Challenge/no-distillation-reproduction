{
  "cells": [
    {
      "cell_type": "markdown",
      "metadata": {
        "id": "view-in-github",
        "colab_type": "text"
      },
      "source": [
        "<a href=\"https://colab.research.google.com/github/andrewpoile/6258-DPDL-Groupwork/blob/main/no_distillation.ipynb\" target=\"_parent\"><img src=\"https://colab.research.google.com/assets/colab-badge.svg\" alt=\"Open In Colab\"/></a>"
      ]
    },
    {
      "cell_type": "code",
      "execution_count": null,
      "metadata": {
        "colab": {
          "base_uri": "https://localhost:8080/"
        },
        "id": "gQemt2_J0opT",
        "outputId": "5527427a-c34f-4db9-938c-665a2852eec0"
      },
      "outputs": [
        {
          "name": "stdout",
          "output_type": "stream",
          "text": [
            "Cloning into 'no-distillation'...\n",
            "remote: Enumerating objects: 112, done.\u001b[K\n",
            "remote: Counting objects: 100% (112/112), done.\u001b[K\n",
            "remote: Compressing objects: 100% (92/92), done.\u001b[K\n",
            "remote: Total 112 (delta 38), reused 75 (delta 19), pack-reused 0 (from 0)\u001b[K\n",
            "Receiving objects: 100% (112/112), 13.22 MiB | 17.61 MiB/s, done.\n",
            "Resolving deltas: 100% (38/38), done.\n"
          ]
        }
      ],
      "source": [
        "!git clone https://github.com/sunnytqin/no-distillation.git"
      ]
    },
    {
      "cell_type": "code",
      "execution_count": null,
      "metadata": {
        "colab": {
          "base_uri": "https://localhost:8080/"
        },
        "id": "n9fmVC5CNUcM",
        "outputId": "03f75aa9-8cfd-4791-c31f-25ce9d83a021"
      },
      "outputs": [
        {
          "name": "stdout",
          "output_type": "stream",
          "text": [
            "Cloning into '6258-DPDL-Groupwork'...\n",
            "remote: Enumerating objects: 64, done.\u001b[K\n",
            "remote: Counting objects: 100% (64/64), done.\u001b[K\n",
            "remote: Compressing objects: 100% (62/62), done.\u001b[K\n",
            "remote: Total 64 (delta 7), reused 0 (delta 0), pack-reused 0 (from 0)\u001b[K\n",
            "Receiving objects: 100% (64/64), 13.25 MiB | 11.22 MiB/s, done.\n",
            "Resolving deltas: 100% (7/7), done.\n"
          ]
        }
      ],
      "source": [
        "!git clone https://github.com/andrewpoile/6258-DPDL-Groupwork.git"
      ]
    },
    {
      "cell_type": "code",
      "execution_count": null,
      "metadata": {
        "colab": {
          "base_uri": "https://localhost:8080/"
        },
        "id": "LYTfBskKnIJ2",
        "outputId": "cea049d1-527c-40ad-9954-4df69061550f"
      },
      "outputs": [
        {
          "name": "stdout",
          "output_type": "stream",
          "text": [
            "/content\n"
          ]
        }
      ],
      "source": [
        "!pwd"
      ]
    },
    {
      "cell_type": "code",
      "execution_count": null,
      "metadata": {
        "colab": {
          "base_uri": "https://localhost:8080/"
        },
        "id": "5U0JYdYK-iJk",
        "outputId": "a8590455-69b1-4826-c742-4faa19e63bdd"
      },
      "outputs": [
        {
          "name": "stdout",
          "output_type": "stream",
          "text": [
            "/content/no-distillation/train_expert\n"
          ]
        }
      ],
      "source": [
        "%cd /content/no-distillation/train_expert/"
      ]
    },
    {
      "cell_type": "code",
      "execution_count": null,
      "metadata": {
        "colab": {
          "base_uri": "https://localhost:8080/"
        },
        "id": "kkxFKfSIA20f",
        "outputId": "87ede37b-d02a-4857-e7e8-6382c8c080a3"
      },
      "outputs": [
        {
          "name": "stdout",
          "output_type": "stream",
          "text": [
            "Found existing installation: torch 2.6.0+cu124\n",
            "Uninstalling torch-2.6.0+cu124:\n",
            "  Successfully uninstalled torch-2.6.0+cu124\n",
            "Found existing installation: torchvision 0.21.0+cu124\n",
            "Uninstalling torchvision-0.21.0+cu124:\n",
            "  Successfully uninstalled torchvision-0.21.0+cu124\n",
            "Found existing installation: torchaudio 2.6.0+cu124\n",
            "Uninstalling torchaudio-2.6.0+cu124:\n",
            "  Successfully uninstalled torchaudio-2.6.0+cu124\n"
          ]
        }
      ],
      "source": [
        "!pip uninstall -y torch torchvision torchaudio"
      ]
    },
    {
      "cell_type": "code",
      "execution_count": null,
      "metadata": {
        "colab": {
          "base_uri": "https://localhost:8080/"
        },
        "id": "dBKhS_xV012B",
        "outputId": "d2f2b99f-323a-4e37-c6c1-29e69f2d6686"
      },
      "outputs": [
        {
          "name": "stdout",
          "output_type": "stream",
          "text": [
            "Looking in indexes: https://download.pytorch.org/whl/cu118\n",
            "Collecting torch\n",
            "  Downloading https://download.pytorch.org/whl/cu118/torch-2.7.0%2Bcu118-cp311-cp311-manylinux_2_28_x86_64.whl.metadata (28 kB)\n",
            "Requirement already satisfied: filelock in /usr/local/lib/python3.11/dist-packages (from torch) (3.18.0)\n",
            "Requirement already satisfied: typing-extensions>=4.10.0 in /usr/local/lib/python3.11/dist-packages (from torch) (4.13.2)\n",
            "Collecting sympy>=1.13.3 (from torch)\n",
            "  Downloading https://download.pytorch.org/whl/sympy-1.13.3-py3-none-any.whl.metadata (12 kB)\n",
            "Requirement already satisfied: networkx in /usr/local/lib/python3.11/dist-packages (from torch) (3.4.2)\n",
            "Requirement already satisfied: jinja2 in /usr/local/lib/python3.11/dist-packages (from torch) (3.1.6)\n",
            "Requirement already satisfied: fsspec in /usr/local/lib/python3.11/dist-packages (from torch) (2025.3.2)\n",
            "Collecting nvidia-cuda-nvrtc-cu11==11.8.89 (from torch)\n",
            "  Downloading https://download.pytorch.org/whl/cu118/nvidia_cuda_nvrtc_cu11-11.8.89-py3-none-manylinux1_x86_64.whl (23.2 MB)\n",
            "\u001b[2K     \u001b[90m━━━━━━━━━━━━━━━━━━━━━━━━━━━━━━━━━━━━━━━\u001b[0m \u001b[32m23.2/23.2 MB\u001b[0m \u001b[31m110.9 MB/s\u001b[0m eta \u001b[36m0:00:00\u001b[0m\n",
            "\u001b[?25hCollecting nvidia-cuda-runtime-cu11==11.8.89 (from torch)\n",
            "  Downloading https://download.pytorch.org/whl/cu118/nvidia_cuda_runtime_cu11-11.8.89-py3-none-manylinux1_x86_64.whl (875 kB)\n",
            "\u001b[2K     \u001b[90m━━━━━━━━━━━━━━━━━━━━━━━━━━━━━━━━━━━━━━\u001b[0m \u001b[32m875.6/875.6 kB\u001b[0m \u001b[31m62.6 MB/s\u001b[0m eta \u001b[36m0:00:00\u001b[0m\n",
            "\u001b[?25hCollecting nvidia-cuda-cupti-cu11==11.8.87 (from torch)\n",
            "  Downloading https://download.pytorch.org/whl/cu118/nvidia_cuda_cupti_cu11-11.8.87-py3-none-manylinux1_x86_64.whl (13.1 MB)\n",
            "\u001b[2K     \u001b[90m━━━━━━━━━━━━━━━━━━━━━━━━━━━━━━━━━━━━━━━\u001b[0m \u001b[32m13.1/13.1 MB\u001b[0m \u001b[31m133.5 MB/s\u001b[0m eta \u001b[36m0:00:00\u001b[0m\n",
            "\u001b[?25hCollecting nvidia-cudnn-cu11==9.1.0.70 (from torch)\n",
            "  Downloading https://download.pytorch.org/whl/cu118/nvidia_cudnn_cu11-9.1.0.70-py3-none-manylinux2014_x86_64.whl (663.9 MB)\n",
            "\u001b[2K     \u001b[90m━━━━━━━━━━━━━━━━━━━━━━━━━━━━━━━━━━━━━━━\u001b[0m \u001b[32m663.9/663.9 MB\u001b[0m \u001b[31m1.7 MB/s\u001b[0m eta \u001b[36m0:00:00\u001b[0m\n",
            "\u001b[?25hCollecting nvidia-cublas-cu11==11.11.3.6 (from torch)\n",
            "  Downloading https://download.pytorch.org/whl/cu118/nvidia_cublas_cu11-11.11.3.6-py3-none-manylinux1_x86_64.whl (417.9 MB)\n",
            "\u001b[2K     \u001b[90m━━━━━━━━━━━━━━━━━━━━━━━━━━━━━━━━━━━━━━━\u001b[0m \u001b[32m417.9/417.9 MB\u001b[0m \u001b[31m2.2 MB/s\u001b[0m eta \u001b[36m0:00:00\u001b[0m\n",
            "\u001b[?25hCollecting nvidia-cufft-cu11==10.9.0.58 (from torch)\n",
            "  Downloading https://download.pytorch.org/whl/cu118/nvidia_cufft_cu11-10.9.0.58-py3-none-manylinux1_x86_64.whl (168.4 MB)\n",
            "\u001b[2K     \u001b[90m━━━━━━━━━━━━━━━━━━━━━━━━━━━━━━━━━━━━━━\u001b[0m \u001b[32m168.4/168.4 MB\u001b[0m \u001b[31m12.7 MB/s\u001b[0m eta \u001b[36m0:00:00\u001b[0m\n",
            "\u001b[?25hCollecting nvidia-curand-cu11==10.3.0.86 (from torch)\n",
            "  Downloading https://download.pytorch.org/whl/cu118/nvidia_curand_cu11-10.3.0.86-py3-none-manylinux1_x86_64.whl (58.1 MB)\n",
            "\u001b[2K     \u001b[90m━━━━━━━━━━━━━━━━━━━━━━━━━━━━━━━━━━━━━━━━\u001b[0m \u001b[32m58.1/58.1 MB\u001b[0m \u001b[31m37.4 MB/s\u001b[0m eta \u001b[36m0:00:00\u001b[0m\n",
            "\u001b[?25hCollecting nvidia-cusolver-cu11==11.4.1.48 (from torch)\n",
            "  Downloading https://download.pytorch.org/whl/cu118/nvidia_cusolver_cu11-11.4.1.48-py3-none-manylinux1_x86_64.whl (128.2 MB)\n",
            "\u001b[2K     \u001b[90m━━━━━━━━━━━━━━━━━━━━━━━━━━━━━━━━━━━━━━━\u001b[0m \u001b[32m128.2/128.2 MB\u001b[0m \u001b[31m4.8 MB/s\u001b[0m eta \u001b[36m0:00:00\u001b[0m\n",
            "\u001b[?25hCollecting nvidia-cusparse-cu11==11.7.5.86 (from torch)\n",
            "  Downloading https://download.pytorch.org/whl/cu118/nvidia_cusparse_cu11-11.7.5.86-py3-none-manylinux1_x86_64.whl (204.1 MB)\n",
            "\u001b[2K     \u001b[90m━━━━━━━━━━━━━━━━━━━━━━━━━━━━━━━━━━━━━━━\u001b[0m \u001b[32m204.1/204.1 MB\u001b[0m \u001b[31m4.1 MB/s\u001b[0m eta \u001b[36m0:00:00\u001b[0m\n",
            "\u001b[?25hCollecting nvidia-nccl-cu11==2.21.5 (from torch)\n",
            "  Downloading https://download.pytorch.org/whl/cu118/nvidia_nccl_cu11-2.21.5-py3-none-manylinux2014_x86_64.whl (147.8 MB)\n",
            "\u001b[2K     \u001b[90m━━━━━━━━━━━━━━━━━━━━━━━━━━━━━━━━━━━━━━\u001b[0m \u001b[32m147.8/147.8 MB\u001b[0m \u001b[31m15.3 MB/s\u001b[0m eta \u001b[36m0:00:00\u001b[0m\n",
            "\u001b[?25hCollecting nvidia-nvtx-cu11==11.8.86 (from torch)\n",
            "  Downloading https://download.pytorch.org/whl/cu118/nvidia_nvtx_cu11-11.8.86-py3-none-manylinux1_x86_64.whl (99 kB)\n",
            "\u001b[2K     \u001b[90m━━━━━━━━━━━━━━━━━━━━━━━━━━━━━━━━━━━━━━━━\u001b[0m \u001b[32m99.1/99.1 kB\u001b[0m \u001b[31m11.9 MB/s\u001b[0m eta \u001b[36m0:00:00\u001b[0m\n",
            "\u001b[?25hCollecting triton==3.3.0 (from torch)\n",
            "  Downloading https://download.pytorch.org/whl/triton-3.3.0-cp311-cp311-manylinux_2_27_x86_64.manylinux_2_28_x86_64.whl.metadata (1.5 kB)\n",
            "Requirement already satisfied: setuptools>=40.8.0 in /usr/local/lib/python3.11/dist-packages (from triton==3.3.0->torch) (75.2.0)\n",
            "Requirement already satisfied: mpmath<1.4,>=1.1.0 in /usr/local/lib/python3.11/dist-packages (from sympy>=1.13.3->torch) (1.3.0)\n",
            "Requirement already satisfied: MarkupSafe>=2.0 in /usr/local/lib/python3.11/dist-packages (from jinja2->torch) (3.0.2)\n",
            "Downloading https://download.pytorch.org/whl/cu118/torch-2.7.0%2Bcu118-cp311-cp311-manylinux_2_28_x86_64.whl (955.6 MB)\n",
            "\u001b[2K   \u001b[90m━━━━━━━━━━━━━━━━━━━━━━━━━━━━━━━━━━━━━━━━\u001b[0m \u001b[32m955.6/955.6 MB\u001b[0m \u001b[31m1.4 MB/s\u001b[0m eta \u001b[36m0:00:00\u001b[0m\n",
            "\u001b[?25hDownloading https://download.pytorch.org/whl/triton-3.3.0-cp311-cp311-manylinux_2_27_x86_64.manylinux_2_28_x86_64.whl (156.5 MB)\n",
            "\u001b[2K   \u001b[90m━━━━━━━━━━━━━━━━━━━━━━━━━━━━━━━━━━━━━━━━\u001b[0m \u001b[32m156.5/156.5 MB\u001b[0m \u001b[31m13.9 MB/s\u001b[0m eta \u001b[36m0:00:00\u001b[0m\n",
            "\u001b[?25hDownloading https://download.pytorch.org/whl/sympy-1.13.3-py3-none-any.whl (6.2 MB)\n",
            "\u001b[2K   \u001b[90m━━━━━━━━━━━━━━━━━━━━━━━━━━━━━━━━━━━━━━━━\u001b[0m \u001b[32m6.2/6.2 MB\u001b[0m \u001b[31m131.4 MB/s\u001b[0m eta \u001b[36m0:00:00\u001b[0m\n",
            "\u001b[?25hInstalling collected packages: triton, sympy, nvidia-nvtx-cu11, nvidia-nccl-cu11, nvidia-cusparse-cu11, nvidia-curand-cu11, nvidia-cufft-cu11, nvidia-cuda-runtime-cu11, nvidia-cuda-nvrtc-cu11, nvidia-cuda-cupti-cu11, nvidia-cublas-cu11, nvidia-cusolver-cu11, nvidia-cudnn-cu11, torch\n",
            "  Attempting uninstall: triton\n",
            "    Found existing installation: triton 3.2.0\n",
            "    Uninstalling triton-3.2.0:\n",
            "      Successfully uninstalled triton-3.2.0\n",
            "  Attempting uninstall: sympy\n",
            "    Found existing installation: sympy 1.13.1\n",
            "    Uninstalling sympy-1.13.1:\n",
            "      Successfully uninstalled sympy-1.13.1\n",
            "\u001b[31mERROR: pip's dependency resolver does not currently take into account all the packages that are installed. This behaviour is the source of the following dependency conflicts.\n",
            "timm 1.0.15 requires torchvision, which is not installed.\n",
            "fastai 2.7.19 requires torchvision>=0.11, which is not installed.\n",
            "fastai 2.7.19 requires torch<2.7,>=1.10, but you have torch 2.7.0+cu118 which is incompatible.\u001b[0m\u001b[31m\n",
            "\u001b[0mSuccessfully installed nvidia-cublas-cu11-11.11.3.6 nvidia-cuda-cupti-cu11-11.8.87 nvidia-cuda-nvrtc-cu11-11.8.89 nvidia-cuda-runtime-cu11-11.8.89 nvidia-cudnn-cu11-9.1.0.70 nvidia-cufft-cu11-10.9.0.58 nvidia-curand-cu11-10.3.0.86 nvidia-cusolver-cu11-11.4.1.48 nvidia-cusparse-cu11-11.7.5.86 nvidia-nccl-cu11-2.21.5 nvidia-nvtx-cu11-11.8.86 sympy-1.13.3 torch-2.7.0+cu118 triton-3.3.0\n",
            "Looking in indexes: https://download.pytorch.org/whl/cu118\n",
            "Collecting torchvision\n",
            "  Downloading https://download.pytorch.org/whl/cu118/torchvision-0.22.0%2Bcu118-cp311-cp311-manylinux_2_28_x86_64.whl.metadata (6.1 kB)\n",
            "Requirement already satisfied: numpy in /usr/local/lib/python3.11/dist-packages (from torchvision) (2.0.2)\n",
            "Requirement already satisfied: torch==2.7.0 in /usr/local/lib/python3.11/dist-packages (from torchvision) (2.7.0+cu118)\n",
            "Requirement already satisfied: pillow!=8.3.*,>=5.3.0 in /usr/local/lib/python3.11/dist-packages (from torchvision) (11.2.1)\n",
            "Requirement already satisfied: filelock in /usr/local/lib/python3.11/dist-packages (from torch==2.7.0->torchvision) (3.18.0)\n",
            "Requirement already satisfied: typing-extensions>=4.10.0 in /usr/local/lib/python3.11/dist-packages (from torch==2.7.0->torchvision) (4.13.2)\n",
            "Requirement already satisfied: sympy>=1.13.3 in /usr/local/lib/python3.11/dist-packages (from torch==2.7.0->torchvision) (1.13.3)\n",
            "Requirement already satisfied: networkx in /usr/local/lib/python3.11/dist-packages (from torch==2.7.0->torchvision) (3.4.2)\n",
            "Requirement already satisfied: jinja2 in /usr/local/lib/python3.11/dist-packages (from torch==2.7.0->torchvision) (3.1.6)\n",
            "Requirement already satisfied: fsspec in /usr/local/lib/python3.11/dist-packages (from torch==2.7.0->torchvision) (2025.3.2)\n",
            "Requirement already satisfied: nvidia-cuda-nvrtc-cu11==11.8.89 in /usr/local/lib/python3.11/dist-packages (from torch==2.7.0->torchvision) (11.8.89)\n",
            "Requirement already satisfied: nvidia-cuda-runtime-cu11==11.8.89 in /usr/local/lib/python3.11/dist-packages (from torch==2.7.0->torchvision) (11.8.89)\n",
            "Requirement already satisfied: nvidia-cuda-cupti-cu11==11.8.87 in /usr/local/lib/python3.11/dist-packages (from torch==2.7.0->torchvision) (11.8.87)\n",
            "Requirement already satisfied: nvidia-cudnn-cu11==9.1.0.70 in /usr/local/lib/python3.11/dist-packages (from torch==2.7.0->torchvision) (9.1.0.70)\n",
            "Requirement already satisfied: nvidia-cublas-cu11==11.11.3.6 in /usr/local/lib/python3.11/dist-packages (from torch==2.7.0->torchvision) (11.11.3.6)\n",
            "Requirement already satisfied: nvidia-cufft-cu11==10.9.0.58 in /usr/local/lib/python3.11/dist-packages (from torch==2.7.0->torchvision) (10.9.0.58)\n",
            "Requirement already satisfied: nvidia-curand-cu11==10.3.0.86 in /usr/local/lib/python3.11/dist-packages (from torch==2.7.0->torchvision) (10.3.0.86)\n",
            "Requirement already satisfied: nvidia-cusolver-cu11==11.4.1.48 in /usr/local/lib/python3.11/dist-packages (from torch==2.7.0->torchvision) (11.4.1.48)\n",
            "Requirement already satisfied: nvidia-cusparse-cu11==11.7.5.86 in /usr/local/lib/python3.11/dist-packages (from torch==2.7.0->torchvision) (11.7.5.86)\n",
            "Requirement already satisfied: nvidia-nccl-cu11==2.21.5 in /usr/local/lib/python3.11/dist-packages (from torch==2.7.0->torchvision) (2.21.5)\n",
            "Requirement already satisfied: nvidia-nvtx-cu11==11.8.86 in /usr/local/lib/python3.11/dist-packages (from torch==2.7.0->torchvision) (11.8.86)\n",
            "Requirement already satisfied: triton==3.3.0 in /usr/local/lib/python3.11/dist-packages (from torch==2.7.0->torchvision) (3.3.0)\n",
            "Requirement already satisfied: setuptools>=40.8.0 in /usr/local/lib/python3.11/dist-packages (from triton==3.3.0->torch==2.7.0->torchvision) (75.2.0)\n",
            "Requirement already satisfied: mpmath<1.4,>=1.1.0 in /usr/local/lib/python3.11/dist-packages (from sympy>=1.13.3->torch==2.7.0->torchvision) (1.3.0)\n",
            "Requirement already satisfied: MarkupSafe>=2.0 in /usr/local/lib/python3.11/dist-packages (from jinja2->torch==2.7.0->torchvision) (3.0.2)\n",
            "Downloading https://download.pytorch.org/whl/cu118/torchvision-0.22.0%2Bcu118-cp311-cp311-manylinux_2_28_x86_64.whl (6.7 MB)\n",
            "\u001b[2K   \u001b[90m━━━━━━━━━━━━━━━━━━━━━━━━━━━━━━━━━━━━━━━━\u001b[0m \u001b[32m6.7/6.7 MB\u001b[0m \u001b[31m85.3 MB/s\u001b[0m eta \u001b[36m0:00:00\u001b[0m\n",
            "\u001b[?25hInstalling collected packages: torchvision\n",
            "\u001b[31mERROR: pip's dependency resolver does not currently take into account all the packages that are installed. This behaviour is the source of the following dependency conflicts.\n",
            "fastai 2.7.19 requires torch<2.7,>=1.10, but you have torch 2.7.0+cu118 which is incompatible.\u001b[0m\u001b[31m\n",
            "\u001b[0mSuccessfully installed torchvision-0.22.0+cu118\n",
            "Collecting kornia\n",
            "  Downloading kornia-0.8.1-py2.py3-none-any.whl.metadata (17 kB)\n",
            "Requirement already satisfied: einops in /usr/local/lib/python3.11/dist-packages (0.8.1)\n",
            "Requirement already satisfied: numpy in /usr/local/lib/python3.11/dist-packages (2.0.2)\n",
            "Requirement already satisfied: tqdm in /usr/local/lib/python3.11/dist-packages (4.67.1)\n",
            "Requirement already satisfied: wandb in /usr/local/lib/python3.11/dist-packages (0.19.11)\n",
            "Requirement already satisfied: scipy in /usr/local/lib/python3.11/dist-packages (1.15.3)\n",
            "Collecting kornia_rs>=0.1.9 (from kornia)\n",
            "  Downloading kornia_rs-0.1.9-cp311-cp311-manylinux_2_17_x86_64.manylinux2014_x86_64.whl.metadata (11 kB)\n",
            "Requirement already satisfied: packaging in /usr/local/lib/python3.11/dist-packages (from kornia) (24.2)\n",
            "Requirement already satisfied: torch>=1.9.1 in /usr/local/lib/python3.11/dist-packages (from kornia) (2.7.0+cu118)\n",
            "Requirement already satisfied: click!=8.0.0,>=7.1 in /usr/local/lib/python3.11/dist-packages (from wandb) (8.1.8)\n",
            "Requirement already satisfied: docker-pycreds>=0.4.0 in /usr/local/lib/python3.11/dist-packages (from wandb) (0.4.0)\n",
            "Requirement already satisfied: gitpython!=3.1.29,>=1.0.0 in /usr/local/lib/python3.11/dist-packages (from wandb) (3.1.44)\n",
            "Requirement already satisfied: platformdirs in /usr/local/lib/python3.11/dist-packages (from wandb) (4.3.8)\n",
            "Requirement already satisfied: protobuf!=4.21.0,!=5.28.0,<7,>=3.19.0 in /usr/local/lib/python3.11/dist-packages (from wandb) (5.29.4)\n",
            "Requirement already satisfied: psutil>=5.0.0 in /usr/local/lib/python3.11/dist-packages (from wandb) (5.9.5)\n",
            "Requirement already satisfied: pydantic<3 in /usr/local/lib/python3.11/dist-packages (from wandb) (2.11.4)\n",
            "Requirement already satisfied: pyyaml in /usr/local/lib/python3.11/dist-packages (from wandb) (6.0.2)\n",
            "Requirement already satisfied: requests<3,>=2.0.0 in /usr/local/lib/python3.11/dist-packages (from wandb) (2.32.3)\n",
            "Requirement already satisfied: sentry-sdk>=2.0.0 in /usr/local/lib/python3.11/dist-packages (from wandb) (2.27.0)\n",
            "Requirement already satisfied: setproctitle in /usr/local/lib/python3.11/dist-packages (from wandb) (1.3.6)\n",
            "Requirement already satisfied: setuptools in /usr/local/lib/python3.11/dist-packages (from wandb) (75.2.0)\n",
            "Requirement already satisfied: typing-extensions<5,>=4.4 in /usr/local/lib/python3.11/dist-packages (from wandb) (4.13.2)\n",
            "Requirement already satisfied: six>=1.4.0 in /usr/local/lib/python3.11/dist-packages (from docker-pycreds>=0.4.0->wandb) (1.17.0)\n",
            "Requirement already satisfied: gitdb<5,>=4.0.1 in /usr/local/lib/python3.11/dist-packages (from gitpython!=3.1.29,>=1.0.0->wandb) (4.0.12)\n",
            "Requirement already satisfied: annotated-types>=0.6.0 in /usr/local/lib/python3.11/dist-packages (from pydantic<3->wandb) (0.7.0)\n",
            "Requirement already satisfied: pydantic-core==2.33.2 in /usr/local/lib/python3.11/dist-packages (from pydantic<3->wandb) (2.33.2)\n",
            "Requirement already satisfied: typing-inspection>=0.4.0 in /usr/local/lib/python3.11/dist-packages (from pydantic<3->wandb) (0.4.0)\n",
            "Requirement already satisfied: charset-normalizer<4,>=2 in /usr/local/lib/python3.11/dist-packages (from requests<3,>=2.0.0->wandb) (3.4.2)\n",
            "Requirement already satisfied: idna<4,>=2.5 in /usr/local/lib/python3.11/dist-packages (from requests<3,>=2.0.0->wandb) (3.10)\n",
            "Requirement already satisfied: urllib3<3,>=1.21.1 in /usr/local/lib/python3.11/dist-packages (from requests<3,>=2.0.0->wandb) (2.4.0)\n",
            "Requirement already satisfied: certifi>=2017.4.17 in /usr/local/lib/python3.11/dist-packages (from requests<3,>=2.0.0->wandb) (2025.4.26)\n",
            "Requirement already satisfied: filelock in /usr/local/lib/python3.11/dist-packages (from torch>=1.9.1->kornia) (3.18.0)\n",
            "Requirement already satisfied: sympy>=1.13.3 in /usr/local/lib/python3.11/dist-packages (from torch>=1.9.1->kornia) (1.13.3)\n",
            "Requirement already satisfied: networkx in /usr/local/lib/python3.11/dist-packages (from torch>=1.9.1->kornia) (3.4.2)\n",
            "Requirement already satisfied: jinja2 in /usr/local/lib/python3.11/dist-packages (from torch>=1.9.1->kornia) (3.1.6)\n",
            "Requirement already satisfied: fsspec in /usr/local/lib/python3.11/dist-packages (from torch>=1.9.1->kornia) (2025.3.2)\n",
            "Requirement already satisfied: nvidia-cuda-nvrtc-cu11==11.8.89 in /usr/local/lib/python3.11/dist-packages (from torch>=1.9.1->kornia) (11.8.89)\n",
            "Requirement already satisfied: nvidia-cuda-runtime-cu11==11.8.89 in /usr/local/lib/python3.11/dist-packages (from torch>=1.9.1->kornia) (11.8.89)\n",
            "Requirement already satisfied: nvidia-cuda-cupti-cu11==11.8.87 in /usr/local/lib/python3.11/dist-packages (from torch>=1.9.1->kornia) (11.8.87)\n",
            "Requirement already satisfied: nvidia-cudnn-cu11==9.1.0.70 in /usr/local/lib/python3.11/dist-packages (from torch>=1.9.1->kornia) (9.1.0.70)\n",
            "Requirement already satisfied: nvidia-cublas-cu11==11.11.3.6 in /usr/local/lib/python3.11/dist-packages (from torch>=1.9.1->kornia) (11.11.3.6)\n",
            "Requirement already satisfied: nvidia-cufft-cu11==10.9.0.58 in /usr/local/lib/python3.11/dist-packages (from torch>=1.9.1->kornia) (10.9.0.58)\n",
            "Requirement already satisfied: nvidia-curand-cu11==10.3.0.86 in /usr/local/lib/python3.11/dist-packages (from torch>=1.9.1->kornia) (10.3.0.86)\n",
            "Requirement already satisfied: nvidia-cusolver-cu11==11.4.1.48 in /usr/local/lib/python3.11/dist-packages (from torch>=1.9.1->kornia) (11.4.1.48)\n",
            "Requirement already satisfied: nvidia-cusparse-cu11==11.7.5.86 in /usr/local/lib/python3.11/dist-packages (from torch>=1.9.1->kornia) (11.7.5.86)\n",
            "Requirement already satisfied: nvidia-nccl-cu11==2.21.5 in /usr/local/lib/python3.11/dist-packages (from torch>=1.9.1->kornia) (2.21.5)\n",
            "Requirement already satisfied: nvidia-nvtx-cu11==11.8.86 in /usr/local/lib/python3.11/dist-packages (from torch>=1.9.1->kornia) (11.8.86)\n",
            "Requirement already satisfied: triton==3.3.0 in /usr/local/lib/python3.11/dist-packages (from torch>=1.9.1->kornia) (3.3.0)\n",
            "Requirement already satisfied: smmap<6,>=3.0.1 in /usr/local/lib/python3.11/dist-packages (from gitdb<5,>=4.0.1->gitpython!=3.1.29,>=1.0.0->wandb) (5.0.2)\n",
            "Requirement already satisfied: mpmath<1.4,>=1.1.0 in /usr/local/lib/python3.11/dist-packages (from sympy>=1.13.3->torch>=1.9.1->kornia) (1.3.0)\n",
            "Requirement already satisfied: MarkupSafe>=2.0 in /usr/local/lib/python3.11/dist-packages (from jinja2->torch>=1.9.1->kornia) (3.0.2)\n",
            "Downloading kornia-0.8.1-py2.py3-none-any.whl (1.1 MB)\n",
            "\u001b[2K   \u001b[90m━━━━━━━━━━━━━━━━━━━━━━━━━━━━━━━━━━━━━━━━\u001b[0m \u001b[32m1.1/1.1 MB\u001b[0m \u001b[31m25.9 MB/s\u001b[0m eta \u001b[36m0:00:00\u001b[0m\n",
            "\u001b[?25hDownloading kornia_rs-0.1.9-cp311-cp311-manylinux_2_17_x86_64.manylinux2014_x86_64.whl (2.8 MB)\n",
            "\u001b[2K   \u001b[90m━━━━━━━━━━━━━━━━━━━━━━━━━━━━━━━━━━━━━━━━\u001b[0m \u001b[32m2.8/2.8 MB\u001b[0m \u001b[31m102.5 MB/s\u001b[0m eta \u001b[36m0:00:00\u001b[0m\n",
            "\u001b[?25hInstalling collected packages: kornia_rs, kornia\n",
            "Successfully installed kornia-0.8.1 kornia_rs-0.1.9\n"
          ]
        }
      ],
      "source": [
        "!pip3 install torch --index-url https://download.pytorch.org/whl/cu118\n",
        "!pip3 install torchvision --index-url https://download.pytorch.org/whl/cu118\n",
        "!pip3 install kornia einops numpy tqdm wandb scipy"
      ]
    },
    {
      "cell_type": "code",
      "execution_count": null,
      "metadata": {
        "colab": {
          "base_uri": "https://localhost:8080/"
        },
        "id": "TMG1iDORHW9B",
        "outputId": "b34301e0-db20-4b40-d76b-cfc37ae1f2a9"
      },
      "outputs": [
        {
          "name": "stderr",
          "output_type": "stream",
          "text": [
            "100%|██████████| 169M/169M [00:04<00:00, 39.5MB/s]\n"
          ]
        },
        {
          "data": {
            "text/plain": [
              "Dataset CIFAR100\n",
              "    Number of datapoints: 50000\n",
              "    Root location: /content/cifar100/\n",
              "    Split: Train"
            ]
          },
          "execution_count": 7,
          "metadata": {},
          "output_type": "execute_result"
        }
      ],
      "source": [
        "from torchvision.datasets.cifar import CIFAR100\n",
        "CIFAR100(root=\"/content/cifar100/\", train=True, download=True)"
      ]
    },
    {
      "cell_type": "code",
      "execution_count": null,
      "metadata": {
        "colab": {
          "base_uri": "https://localhost:8080/"
        },
        "id": "QlPuOprS2GbN",
        "outputId": "c63d4a00-5499-4aa8-9ed1-a199276eed2a"
      },
      "outputs": [
        {
          "name": "stdout",
          "output_type": "stream",
          "text": [
            "Hyper-parameters: \n",
            " {'dataset': 'CIFAR100', 'subset': 'imagenette', 'model': 'ConvNet', 'num_experts': 1, 'lr_teacher': 0.01, 'teacher_label': False, 'selection_strategy': 'random', 'batch_train': 256, 'batch_real': 256, 'dsa': True, 'dsa_strategy': 'color_crop_cutout_flip_scale_rotate', 'data_path': '/content/cifar100', 'buffer_path': '/content/EXPERT/CHECKPOINTS/results_100_S', 'train_epochs': 125, 'zca': False, 'decay': False, 'mom': 0, 'l2': 0, 'save_interval': 1, 'device': device(type='cuda'), 'dsa_param': <softlabel.utils.ParamDiffAug object at 0x7d8b71907290>, 'decoder': None}\n",
            "BUILDING DATASET\n",
            "BUILDING DATASET\n",
            "100% 50000/50000 [00:14<00:00, 3421.00it/s]\n",
            "50000it [00:00, 3528123.69it/s]\n",
            "class c = 0: 500 real images\n",
            "class c = 1: 500 real images\n",
            "class c = 2: 500 real images\n",
            "class c = 3: 500 real images\n",
            "class c = 4: 500 real images\n",
            "class c = 5: 500 real images\n",
            "class c = 6: 500 real images\n",
            "class c = 7: 500 real images\n",
            "class c = 8: 500 real images\n",
            "class c = 9: 500 real images\n",
            "class c = 10: 500 real images\n",
            "class c = 11: 500 real images\n",
            "class c = 12: 500 real images\n",
            "class c = 13: 500 real images\n",
            "class c = 14: 500 real images\n",
            "class c = 15: 500 real images\n",
            "class c = 16: 500 real images\n",
            "class c = 17: 500 real images\n",
            "class c = 18: 500 real images\n",
            "class c = 19: 500 real images\n",
            "class c = 20: 500 real images\n",
            "class c = 21: 500 real images\n",
            "class c = 22: 500 real images\n",
            "class c = 23: 500 real images\n",
            "class c = 24: 500 real images\n",
            "class c = 25: 500 real images\n",
            "class c = 26: 500 real images\n",
            "class c = 27: 500 real images\n",
            "class c = 28: 500 real images\n",
            "class c = 29: 500 real images\n",
            "class c = 30: 500 real images\n",
            "class c = 31: 500 real images\n",
            "class c = 32: 500 real images\n",
            "class c = 33: 500 real images\n",
            "class c = 34: 500 real images\n",
            "class c = 35: 500 real images\n",
            "class c = 36: 500 real images\n",
            "class c = 37: 500 real images\n",
            "class c = 38: 500 real images\n",
            "class c = 39: 500 real images\n",
            "class c = 40: 500 real images\n",
            "class c = 41: 500 real images\n",
            "class c = 42: 500 real images\n",
            "class c = 43: 500 real images\n",
            "class c = 44: 500 real images\n",
            "class c = 45: 500 real images\n",
            "class c = 46: 500 real images\n",
            "class c = 47: 500 real images\n",
            "class c = 48: 500 real images\n",
            "class c = 49: 500 real images\n",
            "class c = 50: 500 real images\n",
            "class c = 51: 500 real images\n",
            "class c = 52: 500 real images\n",
            "class c = 53: 500 real images\n",
            "class c = 54: 500 real images\n",
            "class c = 55: 500 real images\n",
            "class c = 56: 500 real images\n",
            "class c = 57: 500 real images\n",
            "class c = 58: 500 real images\n",
            "class c = 59: 500 real images\n",
            "class c = 60: 500 real images\n",
            "class c = 61: 500 real images\n",
            "class c = 62: 500 real images\n",
            "class c = 63: 500 real images\n",
            "class c = 64: 500 real images\n",
            "class c = 65: 500 real images\n",
            "class c = 66: 500 real images\n",
            "class c = 67: 500 real images\n",
            "class c = 68: 500 real images\n",
            "class c = 69: 500 real images\n",
            "class c = 70: 500 real images\n",
            "class c = 71: 500 real images\n",
            "class c = 72: 500 real images\n",
            "class c = 73: 500 real images\n",
            "class c = 74: 500 real images\n",
            "class c = 75: 500 real images\n",
            "class c = 76: 500 real images\n",
            "class c = 77: 500 real images\n",
            "class c = 78: 500 real images\n",
            "class c = 79: 500 real images\n",
            "class c = 80: 500 real images\n",
            "class c = 81: 500 real images\n",
            "class c = 82: 500 real images\n",
            "class c = 83: 500 real images\n",
            "class c = 84: 500 real images\n",
            "class c = 85: 500 real images\n",
            "class c = 86: 500 real images\n",
            "class c = 87: 500 real images\n",
            "class c = 88: 500 real images\n",
            "class c = 89: 500 real images\n",
            "class c = 90: 500 real images\n",
            "class c = 91: 500 real images\n",
            "class c = 92: 500 real images\n",
            "class c = 93: 500 real images\n",
            "class c = 94: 500 real images\n",
            "class c = 95: 500 real images\n",
            "class c = 96: 500 real images\n",
            "class c = 97: 500 real images\n",
            "class c = 98: 500 real images\n",
            "class c = 99: 500 real images\n",
            "real images channel 0, mean = 0.0775, std = 1.3215\n",
            "real images channel 1, mean = 0.0218, std = 1.2861\n",
            "real images channel 2, mean = -0.0278, std = 1.3739\n",
            "DC augmentation parameters: \n",
            " {'crop': 4, 'scale': 0.2, 'rotate': 45, 'noise': 0.001, 'strategy': 'crop_scale_rotate'}\n",
            "/usr/local/lib/python3.11/dist-packages/torch/functional.py:554: UserWarning: torch.meshgrid: in an upcoming release, it will be required to pass the indexing argument. (Triggered internally at /pytorch/aten/src/ATen/native/TensorShape.cpp:4314.)\n",
            "  return _VF.meshgrid(tensors, **kwargs)  # type: ignore[attr-defined]\n",
            "Itr: 0\tEpoch: 0\tTrain Acc: 0.05826\tTest Acc: 0.0966\n",
            "2025-05-14 10:42:20.355621 Itr: 0\tEpoch: 0\tTrain Acc: 0.05826\n",
            "Itr: 0\tEpoch: 1\tTrain Acc: 0.10982\tTest Acc: 0.1355\n",
            "2025-05-14 10:42:27.923899 Itr: 0\tEpoch: 1\tTrain Acc: 0.10982\n",
            "Itr: 0\tEpoch: 2\tTrain Acc: 0.1403\tTest Acc: 0.1577\n",
            "2025-05-14 10:42:35.578627 Itr: 0\tEpoch: 2\tTrain Acc: 0.1403\n",
            "Itr: 0\tEpoch: 3\tTrain Acc: 0.16368\tTest Acc: 0.1864\n",
            "2025-05-14 10:42:43.376222 Itr: 0\tEpoch: 3\tTrain Acc: 0.16368\n",
            "Itr: 0\tEpoch: 4\tTrain Acc: 0.18796\tTest Acc: 0.2041\n",
            "2025-05-14 10:42:51.028412 Itr: 0\tEpoch: 4\tTrain Acc: 0.18796\n",
            "Itr: 0\tEpoch: 5\tTrain Acc: 0.20802\tTest Acc: 0.2274\n",
            "2025-05-14 10:42:58.742694 Itr: 0\tEpoch: 5\tTrain Acc: 0.20802\n",
            "Itr: 0\tEpoch: 6\tTrain Acc: 0.22564\tTest Acc: 0.2467\n",
            "2025-05-14 10:43:06.369814 Itr: 0\tEpoch: 6\tTrain Acc: 0.22564\n",
            "Itr: 0\tEpoch: 7\tTrain Acc: 0.24716\tTest Acc: 0.2539\n",
            "2025-05-14 10:43:13.939974 Itr: 0\tEpoch: 7\tTrain Acc: 0.24716\n",
            "Itr: 0\tEpoch: 8\tTrain Acc: 0.2593\tTest Acc: 0.2648\n",
            "2025-05-14 10:43:21.630651 Itr: 0\tEpoch: 8\tTrain Acc: 0.2593\n",
            "Itr: 0\tEpoch: 9\tTrain Acc: 0.27298\tTest Acc: 0.2707\n",
            "2025-05-14 10:43:29.301897 Itr: 0\tEpoch: 9\tTrain Acc: 0.27298\n",
            "Itr: 0\tEpoch: 10\tTrain Acc: 0.2845\tTest Acc: 0.3026\n",
            "2025-05-14 10:43:36.896752 Itr: 0\tEpoch: 10\tTrain Acc: 0.2845\n",
            "Itr: 0\tEpoch: 11\tTrain Acc: 0.29612\tTest Acc: 0.3017\n",
            "2025-05-14 10:43:44.896317 Itr: 0\tEpoch: 11\tTrain Acc: 0.29612\n",
            "Itr: 0\tEpoch: 12\tTrain Acc: 0.30826\tTest Acc: 0.3171\n",
            "2025-05-14 10:43:52.703524 Itr: 0\tEpoch: 12\tTrain Acc: 0.30826\n",
            "Itr: 0\tEpoch: 13\tTrain Acc: 0.32018\tTest Acc: 0.3195\n",
            "2025-05-14 10:44:00.431752 Itr: 0\tEpoch: 13\tTrain Acc: 0.32018\n",
            "Itr: 0\tEpoch: 14\tTrain Acc: 0.331\tTest Acc: 0.3422\n",
            "2025-05-14 10:44:08.189679 Itr: 0\tEpoch: 14\tTrain Acc: 0.331\n",
            "Itr: 0\tEpoch: 15\tTrain Acc: 0.33382\tTest Acc: 0.341\n",
            "2025-05-14 10:44:15.849546 Itr: 0\tEpoch: 15\tTrain Acc: 0.33382\n",
            "Itr: 0\tEpoch: 16\tTrain Acc: 0.34308\tTest Acc: 0.3529\n",
            "2025-05-14 10:44:23.751908 Itr: 0\tEpoch: 16\tTrain Acc: 0.34308\n",
            "Itr: 0\tEpoch: 17\tTrain Acc: 0.35382\tTest Acc: 0.3602\n",
            "2025-05-14 10:44:31.508274 Itr: 0\tEpoch: 17\tTrain Acc: 0.35382\n",
            "Itr: 0\tEpoch: 18\tTrain Acc: 0.3585\tTest Acc: 0.3601\n",
            "2025-05-14 10:44:39.228213 Itr: 0\tEpoch: 18\tTrain Acc: 0.3585\n",
            "Itr: 0\tEpoch: 19\tTrain Acc: 0.36726\tTest Acc: 0.3637\n",
            "2025-05-14 10:44:47.024929 Itr: 0\tEpoch: 19\tTrain Acc: 0.36726\n",
            "Itr: 0\tEpoch: 20\tTrain Acc: 0.37458\tTest Acc: 0.3758\n",
            "2025-05-14 10:44:54.786674 Itr: 0\tEpoch: 20\tTrain Acc: 0.37458\n",
            "Itr: 0\tEpoch: 21\tTrain Acc: 0.38402\tTest Acc: 0.3705\n",
            "2025-05-14 10:45:02.711116 Itr: 0\tEpoch: 21\tTrain Acc: 0.38402\n",
            "Itr: 0\tEpoch: 22\tTrain Acc: 0.38906\tTest Acc: 0.3872\n",
            "2025-05-14 10:45:10.564107 Itr: 0\tEpoch: 22\tTrain Acc: 0.38906\n",
            "Itr: 0\tEpoch: 23\tTrain Acc: 0.39594\tTest Acc: 0.3923\n",
            "2025-05-14 10:45:18.401988 Itr: 0\tEpoch: 23\tTrain Acc: 0.39594\n",
            "Itr: 0\tEpoch: 24\tTrain Acc: 0.40226\tTest Acc: 0.3962\n",
            "2025-05-14 10:45:26.339242 Itr: 0\tEpoch: 24\tTrain Acc: 0.40226\n",
            "Itr: 0\tEpoch: 25\tTrain Acc: 0.40434\tTest Acc: 0.4044\n",
            "2025-05-14 10:45:34.161537 Itr: 0\tEpoch: 25\tTrain Acc: 0.40434\n",
            "Itr: 0\tEpoch: 26\tTrain Acc: 0.41572\tTest Acc: 0.4025\n",
            "2025-05-14 10:45:42.083966 Itr: 0\tEpoch: 26\tTrain Acc: 0.41572\n",
            "Itr: 0\tEpoch: 27\tTrain Acc: 0.42214\tTest Acc: 0.4123\n",
            "2025-05-14 10:45:49.839618 Itr: 0\tEpoch: 27\tTrain Acc: 0.42214\n",
            "Itr: 0\tEpoch: 28\tTrain Acc: 0.42104\tTest Acc: 0.4068\n",
            "2025-05-14 10:45:57.542526 Itr: 0\tEpoch: 28\tTrain Acc: 0.42104\n",
            "Itr: 0\tEpoch: 29\tTrain Acc: 0.43132\tTest Acc: 0.4239\n",
            "2025-05-14 10:46:05.232334 Itr: 0\tEpoch: 29\tTrain Acc: 0.43132\n",
            "Itr: 0\tEpoch: 30\tTrain Acc: 0.43848\tTest Acc: 0.4216\n",
            "2025-05-14 10:46:13.060550 Itr: 0\tEpoch: 30\tTrain Acc: 0.43848\n",
            "Itr: 0\tEpoch: 31\tTrain Acc: 0.43804\tTest Acc: 0.4068\n",
            "2025-05-14 10:46:20.970700 Itr: 0\tEpoch: 31\tTrain Acc: 0.43804\n",
            "Itr: 0\tEpoch: 32\tTrain Acc: 0.44812\tTest Acc: 0.4327\n",
            "2025-05-14 10:46:28.652616 Itr: 0\tEpoch: 32\tTrain Acc: 0.44812\n",
            "Itr: 0\tEpoch: 33\tTrain Acc: 0.45262\tTest Acc: 0.4096\n",
            "2025-05-14 10:46:36.370853 Itr: 0\tEpoch: 33\tTrain Acc: 0.45262\n",
            "Itr: 0\tEpoch: 34\tTrain Acc: 0.46078\tTest Acc: 0.4229\n",
            "2025-05-14 10:46:44.147705 Itr: 0\tEpoch: 34\tTrain Acc: 0.46078\n",
            "Itr: 0\tEpoch: 35\tTrain Acc: 0.4627\tTest Acc: 0.4464\n",
            "2025-05-14 10:46:51.861679 Itr: 0\tEpoch: 35\tTrain Acc: 0.4627\n",
            "Itr: 0\tEpoch: 36\tTrain Acc: 0.46686\tTest Acc: 0.441\n",
            "2025-05-14 10:46:59.666026 Itr: 0\tEpoch: 36\tTrain Acc: 0.46686\n",
            "Itr: 0\tEpoch: 37\tTrain Acc: 0.4755\tTest Acc: 0.4537\n",
            "2025-05-14 10:47:07.389905 Itr: 0\tEpoch: 37\tTrain Acc: 0.4755\n",
            "Itr: 0\tEpoch: 38\tTrain Acc: 0.4773\tTest Acc: 0.4434\n",
            "2025-05-14 10:47:15.161364 Itr: 0\tEpoch: 38\tTrain Acc: 0.4773\n",
            "Itr: 0\tEpoch: 39\tTrain Acc: 0.48214\tTest Acc: 0.4413\n",
            "2025-05-14 10:47:22.861361 Itr: 0\tEpoch: 39\tTrain Acc: 0.48214\n",
            "Itr: 0\tEpoch: 40\tTrain Acc: 0.48394\tTest Acc: 0.4541\n",
            "2025-05-14 10:47:30.562693 Itr: 0\tEpoch: 40\tTrain Acc: 0.48394\n",
            "Itr: 0\tEpoch: 41\tTrain Acc: 0.48626\tTest Acc: 0.4456\n",
            "2025-05-14 10:47:38.377114 Itr: 0\tEpoch: 41\tTrain Acc: 0.48626\n",
            "Itr: 0\tEpoch: 42\tTrain Acc: 0.491\tTest Acc: 0.4478\n",
            "2025-05-14 10:47:46.172430 Itr: 0\tEpoch: 42\tTrain Acc: 0.491\n",
            "Itr: 0\tEpoch: 43\tTrain Acc: 0.50036\tTest Acc: 0.4641\n",
            "2025-05-14 10:47:53.906546 Itr: 0\tEpoch: 43\tTrain Acc: 0.50036\n",
            "Itr: 0\tEpoch: 44\tTrain Acc: 0.49924\tTest Acc: 0.4655\n",
            "2025-05-14 10:48:01.657848 Itr: 0\tEpoch: 44\tTrain Acc: 0.49924\n",
            "Itr: 0\tEpoch: 45\tTrain Acc: 0.50544\tTest Acc: 0.4622\n",
            "2025-05-14 10:48:09.405095 Itr: 0\tEpoch: 45\tTrain Acc: 0.50544\n",
            "Itr: 0\tEpoch: 46\tTrain Acc: 0.51202\tTest Acc: 0.472\n",
            "2025-05-14 10:48:17.340936 Itr: 0\tEpoch: 46\tTrain Acc: 0.51202\n",
            "Itr: 0\tEpoch: 47\tTrain Acc: 0.51578\tTest Acc: 0.4699\n",
            "2025-05-14 10:48:25.057141 Itr: 0\tEpoch: 47\tTrain Acc: 0.51578\n",
            "Itr: 0\tEpoch: 48\tTrain Acc: 0.51572\tTest Acc: 0.471\n",
            "2025-05-14 10:48:32.830205 Itr: 0\tEpoch: 48\tTrain Acc: 0.51572\n",
            "Itr: 0\tEpoch: 49\tTrain Acc: 0.52584\tTest Acc: 0.463\n",
            "2025-05-14 10:48:40.602999 Itr: 0\tEpoch: 49\tTrain Acc: 0.52584\n",
            "Itr: 0\tEpoch: 50\tTrain Acc: 0.52242\tTest Acc: 0.4612\n",
            "2025-05-14 10:48:48.270973 Itr: 0\tEpoch: 50\tTrain Acc: 0.52242\n",
            "Itr: 0\tEpoch: 51\tTrain Acc: 0.52602\tTest Acc: 0.4775\n",
            "2025-05-14 10:48:56.192597 Itr: 0\tEpoch: 51\tTrain Acc: 0.52602\n",
            "Itr: 0\tEpoch: 52\tTrain Acc: 0.53218\tTest Acc: 0.471\n",
            "2025-05-14 10:49:03.865390 Itr: 0\tEpoch: 52\tTrain Acc: 0.53218\n",
            "Itr: 0\tEpoch: 53\tTrain Acc: 0.53512\tTest Acc: 0.4817\n",
            "2025-05-14 10:49:11.593492 Itr: 0\tEpoch: 53\tTrain Acc: 0.53512\n",
            "Itr: 0\tEpoch: 54\tTrain Acc: 0.5398\tTest Acc: 0.4757\n",
            "2025-05-14 10:49:19.277252 Itr: 0\tEpoch: 54\tTrain Acc: 0.5398\n",
            "Itr: 0\tEpoch: 55\tTrain Acc: 0.53942\tTest Acc: 0.4738\n",
            "2025-05-14 10:49:26.938352 Itr: 0\tEpoch: 55\tTrain Acc: 0.53942\n",
            "Itr: 0\tEpoch: 56\tTrain Acc: 0.54416\tTest Acc: 0.4814\n",
            "2025-05-14 10:49:34.602839 Itr: 0\tEpoch: 56\tTrain Acc: 0.54416\n",
            "Itr: 0\tEpoch: 57\tTrain Acc: 0.54562\tTest Acc: 0.4829\n",
            "2025-05-14 10:49:42.495722 Itr: 0\tEpoch: 57\tTrain Acc: 0.54562\n",
            "Itr: 0\tEpoch: 58\tTrain Acc: 0.5491\tTest Acc: 0.4732\n",
            "2025-05-14 10:49:50.236310 Itr: 0\tEpoch: 58\tTrain Acc: 0.5491\n",
            "Itr: 0\tEpoch: 59\tTrain Acc: 0.56028\tTest Acc: 0.4879\n",
            "2025-05-14 10:49:58.064963 Itr: 0\tEpoch: 59\tTrain Acc: 0.56028\n",
            "Itr: 0\tEpoch: 60\tTrain Acc: 0.55342\tTest Acc: 0.4683\n",
            "2025-05-14 10:50:05.775242 Itr: 0\tEpoch: 60\tTrain Acc: 0.55342\n",
            "Itr: 0\tEpoch: 61\tTrain Acc: 0.5578\tTest Acc: 0.4828\n",
            "2025-05-14 10:50:13.430410 Itr: 0\tEpoch: 61\tTrain Acc: 0.5578\n",
            "Itr: 0\tEpoch: 62\tTrain Acc: 0.56446\tTest Acc: 0.4882\n",
            "2025-05-14 10:50:21.279654 Itr: 0\tEpoch: 62\tTrain Acc: 0.56446\n",
            "Itr: 0\tEpoch: 63\tTrain Acc: 0.558\tTest Acc: 0.4948\n",
            "2025-05-14 10:50:29.077763 Itr: 0\tEpoch: 63\tTrain Acc: 0.558\n",
            "Itr: 0\tEpoch: 64\tTrain Acc: 0.56868\tTest Acc: 0.5038\n",
            "2025-05-14 10:50:36.702448 Itr: 0\tEpoch: 64\tTrain Acc: 0.56868\n",
            "Itr: 0\tEpoch: 65\tTrain Acc: 0.57186\tTest Acc: 0.4909\n",
            "2025-05-14 10:50:44.410629 Itr: 0\tEpoch: 65\tTrain Acc: 0.57186\n",
            "Itr: 0\tEpoch: 66\tTrain Acc: 0.57444\tTest Acc: 0.49\n",
            "2025-05-14 10:50:52.147456 Itr: 0\tEpoch: 66\tTrain Acc: 0.57444\n",
            "Itr: 0\tEpoch: 67\tTrain Acc: 0.57698\tTest Acc: 0.4897\n",
            "2025-05-14 10:51:00.025488 Itr: 0\tEpoch: 67\tTrain Acc: 0.57698\n",
            "Itr: 0\tEpoch: 68\tTrain Acc: 0.57804\tTest Acc: 0.4947\n",
            "2025-05-14 10:51:07.762902 Itr: 0\tEpoch: 68\tTrain Acc: 0.57804\n",
            "Itr: 0\tEpoch: 69\tTrain Acc: 0.58578\tTest Acc: 0.5023\n",
            "2025-05-14 10:51:15.417290 Itr: 0\tEpoch: 69\tTrain Acc: 0.58578\n",
            "Itr: 0\tEpoch: 70\tTrain Acc: 0.58538\tTest Acc: 0.5011\n",
            "2025-05-14 10:51:23.167784 Itr: 0\tEpoch: 70\tTrain Acc: 0.58538\n",
            "Itr: 0\tEpoch: 71\tTrain Acc: 0.58686\tTest Acc: 0.5047\n",
            "2025-05-14 10:51:30.901777 Itr: 0\tEpoch: 71\tTrain Acc: 0.58686\n",
            "Itr: 0\tEpoch: 72\tTrain Acc: 0.59466\tTest Acc: 0.4958\n",
            "2025-05-14 10:51:38.887210 Itr: 0\tEpoch: 72\tTrain Acc: 0.59466\n",
            "Itr: 0\tEpoch: 73\tTrain Acc: 0.59068\tTest Acc: 0.4888\n",
            "2025-05-14 10:51:46.750468 Itr: 0\tEpoch: 73\tTrain Acc: 0.59068\n",
            "Itr: 0\tEpoch: 74\tTrain Acc: 0.60068\tTest Acc: 0.4937\n",
            "2025-05-14 10:51:54.586297 Itr: 0\tEpoch: 74\tTrain Acc: 0.60068\n",
            "Itr: 0\tEpoch: 75\tTrain Acc: 0.60032\tTest Acc: 0.4928\n",
            "2025-05-14 10:52:02.403355 Itr: 0\tEpoch: 75\tTrain Acc: 0.60032\n",
            "Itr: 0\tEpoch: 76\tTrain Acc: 0.60916\tTest Acc: 0.5079\n",
            "2025-05-14 10:52:10.209315 Itr: 0\tEpoch: 76\tTrain Acc: 0.60916\n",
            "Itr: 0\tEpoch: 77\tTrain Acc: 0.60662\tTest Acc: 0.4969\n",
            "2025-05-14 10:52:18.169095 Itr: 0\tEpoch: 77\tTrain Acc: 0.60662\n",
            "Itr: 0\tEpoch: 78\tTrain Acc: 0.60912\tTest Acc: 0.5117\n",
            "2025-05-14 10:52:25.911559 Itr: 0\tEpoch: 78\tTrain Acc: 0.60912\n",
            "Itr: 0\tEpoch: 79\tTrain Acc: 0.61032\tTest Acc: 0.5137\n",
            "2025-05-14 10:52:33.638556 Itr: 0\tEpoch: 79\tTrain Acc: 0.61032\n",
            "Itr: 0\tEpoch: 80\tTrain Acc: 0.60932\tTest Acc: 0.5175\n",
            "2025-05-14 10:52:41.340766 Itr: 0\tEpoch: 80\tTrain Acc: 0.60932\n",
            "Itr: 0\tEpoch: 81\tTrain Acc: 0.60882\tTest Acc: 0.5194\n",
            "2025-05-14 10:52:49.051012 Itr: 0\tEpoch: 81\tTrain Acc: 0.60882\n",
            "Itr: 0\tEpoch: 82\tTrain Acc: 0.6156\tTest Acc: 0.5032\n",
            "2025-05-14 10:52:57.021993 Itr: 0\tEpoch: 82\tTrain Acc: 0.6156\n",
            "Itr: 0\tEpoch: 83\tTrain Acc: 0.61606\tTest Acc: 0.498\n",
            "2025-05-14 10:53:04.783250 Itr: 0\tEpoch: 83\tTrain Acc: 0.61606\n",
            "Itr: 0\tEpoch: 84\tTrain Acc: 0.62468\tTest Acc: 0.4999\n",
            "2025-05-14 10:53:12.528758 Itr: 0\tEpoch: 84\tTrain Acc: 0.62468\n",
            "Itr: 0\tEpoch: 85\tTrain Acc: 0.6216\tTest Acc: 0.5166\n",
            "2025-05-14 10:53:20.188826 Itr: 0\tEpoch: 85\tTrain Acc: 0.6216\n",
            "Itr: 0\tEpoch: 86\tTrain Acc: 0.62694\tTest Acc: 0.4916\n",
            "2025-05-14 10:53:27.920405 Itr: 0\tEpoch: 86\tTrain Acc: 0.62694\n",
            "Itr: 0\tEpoch: 87\tTrain Acc: 0.6224\tTest Acc: 0.5152\n",
            "2025-05-14 10:53:35.675391 Itr: 0\tEpoch: 87\tTrain Acc: 0.6224\n",
            "Itr: 0\tEpoch: 88\tTrain Acc: 0.6331\tTest Acc: 0.5201\n",
            "2025-05-14 10:53:43.695336 Itr: 0\tEpoch: 88\tTrain Acc: 0.6331\n",
            "Itr: 0\tEpoch: 89\tTrain Acc: 0.62142\tTest Acc: 0.4915\n",
            "2025-05-14 10:53:51.419147 Itr: 0\tEpoch: 89\tTrain Acc: 0.62142\n",
            "Itr: 0\tEpoch: 90\tTrain Acc: 0.63102\tTest Acc: 0.5164\n",
            "2025-05-14 10:53:59.255579 Itr: 0\tEpoch: 90\tTrain Acc: 0.63102\n",
            "Itr: 0\tEpoch: 91\tTrain Acc: 0.63616\tTest Acc: 0.5148\n",
            "2025-05-14 10:54:07.133996 Itr: 0\tEpoch: 91\tTrain Acc: 0.63616\n",
            "Itr: 0\tEpoch: 92\tTrain Acc: 0.6333\tTest Acc: 0.5063\n",
            "2025-05-14 10:54:14.922040 Itr: 0\tEpoch: 92\tTrain Acc: 0.6333\n",
            "Itr: 0\tEpoch: 93\tTrain Acc: 0.64286\tTest Acc: 0.5202\n",
            "2025-05-14 10:54:22.938499 Itr: 0\tEpoch: 93\tTrain Acc: 0.64286\n",
            "Itr: 0\tEpoch: 94\tTrain Acc: 0.64406\tTest Acc: 0.5212\n",
            "2025-05-14 10:54:30.822256 Itr: 0\tEpoch: 94\tTrain Acc: 0.64406\n",
            "Itr: 0\tEpoch: 95\tTrain Acc: 0.64458\tTest Acc: 0.5232\n",
            "2025-05-14 10:54:38.656167 Itr: 0\tEpoch: 95\tTrain Acc: 0.64458\n",
            "Itr: 0\tEpoch: 96\tTrain Acc: 0.65098\tTest Acc: 0.5194\n",
            "2025-05-14 10:54:46.423006 Itr: 0\tEpoch: 96\tTrain Acc: 0.65098\n",
            "Itr: 0\tEpoch: 97\tTrain Acc: 0.64692\tTest Acc: 0.5188\n",
            "2025-05-14 10:54:54.119952 Itr: 0\tEpoch: 97\tTrain Acc: 0.64692\n",
            "Itr: 0\tEpoch: 98\tTrain Acc: 0.64866\tTest Acc: 0.5165\n",
            "2025-05-14 10:55:02.141059 Itr: 0\tEpoch: 98\tTrain Acc: 0.64866\n",
            "Itr: 0\tEpoch: 99\tTrain Acc: 0.65308\tTest Acc: 0.5172\n",
            "2025-05-14 10:55:09.937143 Itr: 0\tEpoch: 99\tTrain Acc: 0.65308\n",
            "Itr: 0\tEpoch: 100\tTrain Acc: 0.65004\tTest Acc: 0.519\n",
            "2025-05-14 10:55:17.706158 Itr: 0\tEpoch: 100\tTrain Acc: 0.65004\n",
            "Itr: 0\tEpoch: 101\tTrain Acc: 0.65694\tTest Acc: 0.5323\n",
            "2025-05-14 10:55:25.473255 Itr: 0\tEpoch: 101\tTrain Acc: 0.65694\n",
            "Itr: 0\tEpoch: 102\tTrain Acc: 0.6563\tTest Acc: 0.5114\n",
            "2025-05-14 10:55:33.129728 Itr: 0\tEpoch: 102\tTrain Acc: 0.6563\n",
            "Itr: 0\tEpoch: 103\tTrain Acc: 0.6572\tTest Acc: 0.5257\n",
            "2025-05-14 10:55:41.107333 Itr: 0\tEpoch: 103\tTrain Acc: 0.6572\n",
            "Itr: 0\tEpoch: 104\tTrain Acc: 0.65916\tTest Acc: 0.5151\n",
            "2025-05-14 10:55:49.041754 Itr: 0\tEpoch: 104\tTrain Acc: 0.65916\n",
            "Itr: 0\tEpoch: 105\tTrain Acc: 0.6671\tTest Acc: 0.5279\n",
            "2025-05-14 10:55:56.954041 Itr: 0\tEpoch: 105\tTrain Acc: 0.6671\n",
            "Itr: 0\tEpoch: 106\tTrain Acc: 0.66558\tTest Acc: 0.506\n",
            "2025-05-14 10:56:04.696665 Itr: 0\tEpoch: 106\tTrain Acc: 0.66558\n",
            "Itr: 0\tEpoch: 107\tTrain Acc: 0.67618\tTest Acc: 0.5287\n",
            "2025-05-14 10:56:12.511621 Itr: 0\tEpoch: 107\tTrain Acc: 0.67618\n",
            "Itr: 0\tEpoch: 108\tTrain Acc: 0.66348\tTest Acc: 0.5279\n",
            "2025-05-14 10:56:20.363171 Itr: 0\tEpoch: 108\tTrain Acc: 0.66348\n",
            "Itr: 0\tEpoch: 109\tTrain Acc: 0.6742\tTest Acc: 0.5223\n",
            "2025-05-14 10:56:28.098405 Itr: 0\tEpoch: 109\tTrain Acc: 0.6742\n",
            "Itr: 0\tEpoch: 110\tTrain Acc: 0.67326\tTest Acc: 0.5216\n",
            "2025-05-14 10:56:35.861776 Itr: 0\tEpoch: 110\tTrain Acc: 0.67326\n",
            "Itr: 0\tEpoch: 111\tTrain Acc: 0.67402\tTest Acc: 0.52\n",
            "2025-05-14 10:56:43.659598 Itr: 0\tEpoch: 111\tTrain Acc: 0.67402\n",
            "Itr: 0\tEpoch: 112\tTrain Acc: 0.67262\tTest Acc: 0.5219\n",
            "2025-05-14 10:56:51.398126 Itr: 0\tEpoch: 112\tTrain Acc: 0.67262\n",
            "Itr: 0\tEpoch: 113\tTrain Acc: 0.67956\tTest Acc: 0.5322\n",
            "2025-05-14 10:56:59.335194 Itr: 0\tEpoch: 113\tTrain Acc: 0.67956\n",
            "Itr: 0\tEpoch: 114\tTrain Acc: 0.68642\tTest Acc: 0.5332\n",
            "2025-05-14 10:57:07.246332 Itr: 0\tEpoch: 114\tTrain Acc: 0.68642\n",
            "Itr: 0\tEpoch: 115\tTrain Acc: 0.68472\tTest Acc: 0.5295\n",
            "2025-05-14 10:57:15.023357 Itr: 0\tEpoch: 115\tTrain Acc: 0.68472\n",
            "Itr: 0\tEpoch: 116\tTrain Acc: 0.6848\tTest Acc: 0.502\n",
            "2025-05-14 10:57:22.853469 Itr: 0\tEpoch: 116\tTrain Acc: 0.6848\n",
            "Itr: 0\tEpoch: 117\tTrain Acc: 0.68494\tTest Acc: 0.5369\n",
            "2025-05-14 10:57:30.587027 Itr: 0\tEpoch: 117\tTrain Acc: 0.68494\n",
            "Itr: 0\tEpoch: 118\tTrain Acc: 0.6797\tTest Acc: 0.5262\n",
            "2025-05-14 10:57:38.225037 Itr: 0\tEpoch: 118\tTrain Acc: 0.6797\n",
            "Itr: 0\tEpoch: 119\tTrain Acc: 0.69072\tTest Acc: 0.5248\n",
            "2025-05-14 10:57:46.141350 Itr: 0\tEpoch: 119\tTrain Acc: 0.69072\n",
            "Itr: 0\tEpoch: 120\tTrain Acc: 0.6946\tTest Acc: 0.5387\n",
            "2025-05-14 10:57:53.957885 Itr: 0\tEpoch: 120\tTrain Acc: 0.6946\n",
            "Itr: 0\tEpoch: 121\tTrain Acc: 0.68842\tTest Acc: 0.5293\n",
            "2025-05-14 10:58:01.895988 Itr: 0\tEpoch: 121\tTrain Acc: 0.68842\n",
            "Itr: 0\tEpoch: 122\tTrain Acc: 0.69402\tTest Acc: 0.5249\n",
            "2025-05-14 10:58:09.578752 Itr: 0\tEpoch: 122\tTrain Acc: 0.69402\n",
            "Itr: 0\tEpoch: 123\tTrain Acc: 0.69626\tTest Acc: 0.5334\n",
            "2025-05-14 10:58:17.342922 Itr: 0\tEpoch: 123\tTrain Acc: 0.69626\n",
            "Itr: 0\tEpoch: 124\tTrain Acc: 0.69478\tTest Acc: 0.5377\n",
            "2025-05-14 10:58:25.184479 Itr: 0\tEpoch: 124\tTrain Acc: 0.69478\n",
            "Saving /content/EXPERT/CHECKPOINTS/results_100_S/CIFAR100_NO_ZCA/ConvNet/replay_buffer_0.pt\n"
          ]
        }
      ],
      "source": [
        "5# %cd no-distillation/train_expert\n",
        "!python buffer.py --dataset=CIFAR100 --model=ConvNet --train_epochs=125 --num_experts=1  \\\n",
        "  --buffer_path=/content/EXPERT/CHECKPOINTS/results_100_S  --data_path=/content/cifar100 --save_interval 1"
      ]
    },
    {
      "cell_type": "code",
      "execution_count": null,
      "metadata": {
        "colab": {
          "base_uri": "https://localhost:8080/"
        },
        "id": "fq8LXFb2v6VM",
        "outputId": "ba22f45e-8bcf-42c5-b813-d28689799a54"
      },
      "outputs": [
        {
          "name": "stdout",
          "output_type": "stream",
          "text": [
            "/content/no-distillation/softlabel\n"
          ]
        }
      ],
      "source": [
        "%cd /content/no-distillation/softlabel/"
      ]
    },
    {
      "cell_type": "markdown",
      "metadata": {
        "id": "K-POCVXntHwH"
      },
      "source": [
        "# IPC = 1"
      ]
    },
    {
      "cell_type": "code",
      "execution_count": null,
      "metadata": {
        "colab": {
          "base_uri": "https://localhost:8080/"
        },
        "id": "U3mneLvkJ0e9",
        "outputId": "530af716-dc65-4245-dac1-140623643853"
      },
      "outputs": [
        {
          "name": "stdout",
          "output_type": "stream",
          "text": [
            "CUDNN STATUS: True\n",
            "Hyper-parameters: \n",
            " {'dataset': 'CIFAR100', 'data_path': '/content/cifar100', 'expert_path': '/content/EXPERT/CHECKPOINTS/results_100_S', 'ipc': 1, 'teacher_model': 'ConvNet', 'student_model': 'ConvNet', 'epoch_eval_train': 3000, 'optimizer': 'SGD', 'lr_net': 0.01, 'expt_type': 'low_entropy_boost', 'num_eval': 5, 'batch_train': 256, 'batch_real': 256, 'zca': False, 'load_checkpoint': None, 'selection_strategy': 'random', 'dsa': True, 'dsa_strategy': 'color_crop_cutout_flip_scale_rotate', 'teacher_label': True, 'max_expert_epoch': 13, 'min_expert_epoch': 1, 'ensemble': False, 'temp': 1.0, 'num_low_entropy_images': 0.1, 'entropy_boost_alpha': 0.01, 'wandb': False, 'run_name': None, 'notes': 'No description', 'device': 'cuda', 'im_size': [32, 32], 'dc_aug_param': None, 'dsa_param': <utils.ParamDiffAug object at 0x7cb138addd90>, '_wandb': {}, 'zca_trans': None, 'distributed': False}\n",
            "Evaluation model:  ConvNet\n",
            "---------------Build label to index map--------------\n",
            "50000it [00:11, 4248.09it/s]\n",
            "initialize synthetic data from random real images\n",
            "Expert Dir: /content/EXPERT/CHECKPOINTS/results_100_S/CIFAR100_NO_ZCA/ConvNet 2 buffers detected\n",
            "Preparing low-entropy label noise injection experiment...\n",
            "Alpha (noise strength): 0.01\n",
            "Targeting bottom 0.1 low-entropy labels\n",
            "[2025-05-14 11:01:09] training begins\n",
            "-------------------------\n",
            "Experiment ID = 0\n",
            "loading file /content/EXPERT/CHECKPOINTS/results_100_S/CIFAR100_NO_ZCA/ConvNet/replay_buffer_1.pt\n",
            "Average entropy of bottom-k (pre-injection)=  tensor(2.3568, device='cuda:0')\n",
            "Average entropy of all (pre-injection)=  tensor(3.3077, device='cuda:0')\n",
            "Average entropy of bottom-k (post-injection)=  tensor(2.4015, device='cuda:0')\n",
            "Average entropy of all (post-injection)=  tensor(3.3211, device='cuda:0')\n",
            "Injected noise into 30 lowest-entropy labels with alpha=0.01\n",
            "-------------------------\n",
            "Evaluation\n",
            "Experiment ID = 0, model_train = ConvNet, model_eval = ConvNet\n",
            "DSA augmentation strategy: \n",
            " color_crop_cutout_flip_scale_rotate\n",
            "DSA augmentation parameters: \n",
            " {'aug_mode': 'S', 'prob_flip': 0.5, 'ratio_scale': 1.2, 'ratio_rotate': 15.0, 'ratio_crop_pad': 0.125, 'ratio_cutout': 0.5, 'ratio_noise': 0.05, 'brightness': 1.0, 'saturation': 2.0, 'contrast': 0.5}\n",
            "  0% 0/3001 [00:00<?, ?it/s]/usr/local/lib/python3.11/dist-packages/torch/functional.py:554: UserWarning: torch.meshgrid: in an upcoming release, it will be required to pass the indexing argument. (Triggered internally at /pytorch/aten/src/ATen/native/TensorShape.cpp:4314.)\n",
            "  return _VF.meshgrid(tensors, **kwargs)  # type: ignore[attr-defined]\n",
            "100% 3001/3001 [01:04<00:00, 46.66it/s] \n",
            "[2025-05-14 11:02:14] Evaluate_00: epoch = 3000 train time = 64 s train loss = 3.333844 train acc = 0.9200, test acc = 0.1556\n",
            "100% 3001/3001 [01:03<00:00, 47.11it/s] \n",
            "[2025-05-14 11:03:18] Evaluate_01: epoch = 3000 train time = 63 s train loss = 3.336862 train acc = 0.9200, test acc = 0.1520\n",
            "100% 3001/3001 [01:03<00:00, 47.20it/s] \n",
            "[2025-05-14 11:04:22] Evaluate_02: epoch = 3000 train time = 63 s train loss = 3.332666 train acc = 0.9400, test acc = 0.1492\n",
            "100% 3001/3001 [01:03<00:00, 47.05it/s] \n",
            "[2025-05-14 11:05:26] Evaluate_03: epoch = 3000 train time = 63 s train loss = 3.333315 train acc = 0.9600, test acc = 0.1522\n",
            "100% 3001/3001 [01:03<00:00, 47.05it/s] \n",
            "[2025-05-14 11:06:29] Evaluate_04: epoch = 3000 train time = 63 s train loss = 3.391794 train acc = 0.8800, test acc = 0.1458\n",
            "Evaluate 5 random ConvNet, mean = 0.1513 std = 0.0033\n",
            "-------------------------\n",
            "-------------------------\n",
            "Experiment ID = 1\n",
            "loading file /content/EXPERT/CHECKPOINTS/results_100_S/CIFAR100_NO_ZCA/ConvNet/replay_buffer_1.pt\n",
            "Average entropy of bottom-k (pre-injection)=  tensor(2.7738, device='cuda:0')\n",
            "Average entropy of all (pre-injection)=  tensor(3.3077, device='cuda:0')\n",
            "Average entropy of bottom-k (post-injection)=  tensor(2.8103, device='cuda:0')\n",
            "Average entropy of all (post-injection)=  tensor(3.3260, device='cuda:0')\n",
            "Injected noise into 50 lowest-entropy labels with alpha=0.01\n",
            "-------------------------\n",
            "Evaluation\n",
            "Experiment ID = 1, model_train = ConvNet, model_eval = ConvNet\n",
            "DSA augmentation strategy: \n",
            " color_crop_cutout_flip_scale_rotate\n",
            "DSA augmentation parameters: \n",
            " {'aug_mode': 'S', 'prob_flip': 0.5, 'ratio_scale': 1.2, 'ratio_rotate': 15.0, 'ratio_crop_pad': 0.125, 'ratio_cutout': 0.5, 'ratio_noise': 0.05, 'brightness': 1.0, 'saturation': 2.0, 'contrast': 0.5, 'batchmode': False, 'latestseed': -1}\n",
            "100% 3001/3001 [01:03<00:00, 47.22it/s] \n",
            "[2025-05-14 11:07:33] Evaluate_00: epoch = 3000 train time = 63 s train loss = 3.349605 train acc = 0.9600, test acc = 0.1497\n",
            "100% 3001/3001 [01:04<00:00, 46.83it/s] \n",
            "[2025-05-14 11:08:37] Evaluate_01: epoch = 3000 train time = 64 s train loss = 3.386418 train acc = 0.8400, test acc = 0.1538\n",
            "100% 3001/3001 [01:04<00:00, 46.62it/s] \n",
            "[2025-05-14 11:09:42] Evaluate_02: epoch = 3000 train time = 64 s train loss = 3.378638 train acc = 0.8700, test acc = 0.1544\n",
            "100% 3001/3001 [01:04<00:00, 46.34it/s] \n",
            "[2025-05-14 11:10:46] Evaluate_03: epoch = 3000 train time = 64 s train loss = 3.377465 train acc = 0.8900, test acc = 0.1516\n",
            "100% 3001/3001 [01:04<00:00, 46.76it/s] \n",
            "[2025-05-14 11:11:51] Evaluate_04: epoch = 3000 train time = 64 s train loss = 3.371894 train acc = 0.7800, test acc = 0.1511\n",
            "Evaluate 5 random ConvNet, mean = 0.1523 std = 0.0017\n",
            "-------------------------\n"
          ]
        }
      ],
      "source": [
        "!python nodistill.py --dataset=CIFAR100 --ipc=1 \\\n",
        "--expt_type=low_entropy_boost \\\n",
        "--num_low_entropy_images=0.1 \\\n",
        "--entropy_boost_alpha=0.01 \\\n",
        "--teacher_label --max_expert_epoch=13 --lr_net=1.e-02 \\\n",
        "--expert_path=/content/EXPERT/CHECKPOINTS/results_100_S \\\n",
        "--data_path=/content/cifar100 \\\n",
        "--selection_strategy=random --num_eval=5 --student_model=ConvNet \\\n",
        "--teacher_model=ConvNet --epoch_eval_train=3000 --optimizer=SGD"
      ]
    },
    {
      "cell_type": "code",
      "execution_count": null,
      "metadata": {
        "colab": {
          "base_uri": "https://localhost:8080/"
        },
        "id": "sgsWv_BkOEBX",
        "outputId": "ee2e2acc-5d00-43dc-9eff-a0115b494745"
      },
      "outputs": [
        {
          "name": "stdout",
          "output_type": "stream",
          "text": [
            "CUDNN STATUS: True\n",
            "Hyper-parameters: \n",
            " {'dataset': 'CIFAR100', 'data_path': '/content/cifar100', 'expert_path': '/content/EXPERT/CHECKPOINTS/results_100_S', 'ipc': 1, 'teacher_model': 'ConvNet', 'student_model': 'ConvNet', 'epoch_eval_train': 3000, 'optimizer': 'SGD', 'lr_net': 0.01, 'expt_type': 'low_entropy_boost', 'num_eval': 5, 'batch_train': 256, 'batch_real': 256, 'zca': False, 'load_checkpoint': None, 'selection_strategy': 'random', 'dsa': True, 'dsa_strategy': 'color_crop_cutout_flip_scale_rotate', 'teacher_label': True, 'max_expert_epoch': 13, 'min_expert_epoch': 1, 'ensemble': False, 'temp': 1.0, 'num_low_entropy_images': 0.1, 'entropy_boost_alpha': 0.05, 'wandb': False, 'run_name': None, 'notes': 'No description', 'device': 'cuda', 'im_size': [32, 32], 'dc_aug_param': None, 'dsa_param': <utils.ParamDiffAug object at 0x7b3e5e5b7fd0>, '_wandb': {}, 'zca_trans': None, 'distributed': False}\n",
            "Evaluation model:  ConvNet\n",
            "---------------Build label to index map--------------\n",
            "50000it [00:11, 4180.83it/s]\n",
            "initialize synthetic data from random real images\n",
            "Expert Dir: /content/EXPERT/CHECKPOINTS/results_100_S/CIFAR100_NO_ZCA/ConvNet 2 buffers detected\n",
            "Preparing low-entropy label noise injection experiment...\n",
            "Alpha (noise strength): 0.05\n",
            "Targeting bottom 0.1 low-entropy labels\n",
            "[2025-05-14 11:12:11] training begins\n",
            "-------------------------\n",
            "Experiment ID = 0\n",
            "loading file /content/EXPERT/CHECKPOINTS/results_100_S/CIFAR100_NO_ZCA/ConvNet/replay_buffer_1.pt\n",
            "Average entropy of bottom-k (pre-injection)=  tensor(2.3568, device='cuda:0')\n",
            "Average entropy of all (pre-injection)=  tensor(3.3077, device='cuda:0')\n",
            "Average entropy of bottom-k (post-injection)=  tensor(2.5593, device='cuda:0')\n",
            "Average entropy of all (post-injection)=  tensor(3.3685, device='cuda:0')\n",
            "Injected noise into 30 lowest-entropy labels with alpha=0.05\n",
            "-------------------------\n",
            "Evaluation\n",
            "Experiment ID = 0, model_train = ConvNet, model_eval = ConvNet\n",
            "DSA augmentation strategy: \n",
            " color_crop_cutout_flip_scale_rotate\n",
            "DSA augmentation parameters: \n",
            " {'aug_mode': 'S', 'prob_flip': 0.5, 'ratio_scale': 1.2, 'ratio_rotate': 15.0, 'ratio_crop_pad': 0.125, 'ratio_cutout': 0.5, 'ratio_noise': 0.05, 'brightness': 1.0, 'saturation': 2.0, 'contrast': 0.5}\n",
            "  0% 0/3001 [00:00<?, ?it/s]/usr/local/lib/python3.11/dist-packages/torch/functional.py:554: UserWarning: torch.meshgrid: in an upcoming release, it will be required to pass the indexing argument. (Triggered internally at /pytorch/aten/src/ATen/native/TensorShape.cpp:4314.)\n",
            "  return _VF.meshgrid(tensors, **kwargs)  # type: ignore[attr-defined]\n",
            "100% 3001/3001 [01:04<00:00, 46.86it/s] \n",
            "[2025-05-14 11:13:16] Evaluate_00: epoch = 3000 train time = 64 s train loss = 3.389004 train acc = 0.9300, test acc = 0.1469\n",
            "100% 3001/3001 [01:03<00:00, 47.33it/s] \n",
            "[2025-05-14 11:14:19] Evaluate_01: epoch = 3000 train time = 63 s train loss = 3.391563 train acc = 0.9600, test acc = 0.1470\n",
            "100% 3001/3001 [01:03<00:00, 47.17it/s] \n",
            "[2025-05-14 11:15:23] Evaluate_02: epoch = 3000 train time = 63 s train loss = 3.381622 train acc = 0.9700, test acc = 0.1528\n",
            "100% 3001/3001 [01:03<00:00, 47.24it/s] \n",
            "[2025-05-14 11:16:26] Evaluate_03: epoch = 3000 train time = 63 s train loss = 3.381717 train acc = 0.9600, test acc = 0.1478\n",
            "100% 3001/3001 [01:03<00:00, 47.50it/s] \n",
            "[2025-05-14 11:17:30] Evaluate_04: epoch = 3000 train time = 63 s train loss = 3.394078 train acc = 0.9800, test acc = 0.1475\n",
            "Evaluate 5 random ConvNet, mean = 0.1492 std = 0.0024\n",
            "-------------------------\n",
            "-------------------------\n",
            "Experiment ID = 1\n",
            "loading file /content/EXPERT/CHECKPOINTS/results_100_S/CIFAR100_NO_ZCA/ConvNet/replay_buffer_1.pt\n",
            "Average entropy of bottom-k (pre-injection)=  tensor(2.7738, device='cuda:0')\n",
            "Average entropy of all (pre-injection)=  tensor(3.3077, device='cuda:0')\n",
            "Average entropy of bottom-k (post-injection)=  tensor(2.9413, device='cuda:0')\n",
            "Average entropy of all (post-injection)=  tensor(3.3915, device='cuda:0')\n",
            "Injected noise into 50 lowest-entropy labels with alpha=0.05\n",
            "-------------------------\n",
            "Evaluation\n",
            "Experiment ID = 1, model_train = ConvNet, model_eval = ConvNet\n",
            "DSA augmentation strategy: \n",
            " color_crop_cutout_flip_scale_rotate\n",
            "DSA augmentation parameters: \n",
            " {'aug_mode': 'S', 'prob_flip': 0.5, 'ratio_scale': 1.2, 'ratio_rotate': 15.0, 'ratio_crop_pad': 0.125, 'ratio_cutout': 0.5, 'ratio_noise': 0.05, 'brightness': 1.0, 'saturation': 2.0, 'contrast': 0.5, 'batchmode': False, 'latestseed': -1}\n",
            "100% 3001/3001 [01:03<00:00, 47.16it/s] \n",
            "[2025-05-14 11:18:33] Evaluate_00: epoch = 3000 train time = 63 s train loss = 3.414034 train acc = 0.9400, test acc = 0.1448\n",
            "100% 3001/3001 [01:03<00:00, 47.26it/s] \n",
            "[2025-05-14 11:19:37] Evaluate_01: epoch = 3000 train time = 63 s train loss = 3.440260 train acc = 0.8400, test acc = 0.1466\n",
            "100% 3001/3001 [01:03<00:00, 47.15it/s] \n",
            "[2025-05-14 11:20:41] Evaluate_02: epoch = 3000 train time = 63 s train loss = 3.447855 train acc = 0.8600, test acc = 0.1542\n",
            "100% 3001/3001 [01:03<00:00, 47.08it/s] \n",
            "[2025-05-14 11:21:44] Evaluate_03: epoch = 3000 train time = 63 s train loss = 3.412244 train acc = 0.8900, test acc = 0.1480\n",
            "100% 3001/3001 [01:03<00:00, 47.46it/s] \n",
            "[2025-05-14 11:22:48] Evaluate_04: epoch = 3000 train time = 63 s train loss = 3.405023 train acc = 0.9200, test acc = 0.1486\n",
            "Evaluate 5 random ConvNet, mean = 0.1489 std = 0.0035\n",
            "-------------------------\n"
          ]
        }
      ],
      "source": [
        "!python nodistill.py --dataset=CIFAR100 --ipc=1 \\\n",
        "--expt_type=low_entropy_boost \\\n",
        "--num_low_entropy_images=0.1 \\\n",
        "--entropy_boost_alpha=0.05 \\\n",
        "--teacher_label --max_expert_epoch=13 --lr_net=1.e-02 \\\n",
        "--expert_path=/content/EXPERT/CHECKPOINTS/results_100_S \\\n",
        "--data_path=/content/cifar100 \\\n",
        "--selection_strategy=random --num_eval=5 --student_model=ConvNet \\\n",
        "--teacher_model=ConvNet --epoch_eval_train=3000 --optimizer=SGD"
      ]
    },
    {
      "cell_type": "code",
      "execution_count": null,
      "metadata": {
        "colab": {
          "base_uri": "https://localhost:8080/"
        },
        "id": "uW199yhfsmBB",
        "outputId": "10c0aa68-416b-4cf9-b7ac-22bc8e34a511"
      },
      "outputs": [
        {
          "name": "stdout",
          "output_type": "stream",
          "text": [
            "CUDNN STATUS: True\n",
            "Hyper-parameters: \n",
            " {'dataset': 'CIFAR100', 'data_path': '/content/cifar100', 'expert_path': '/content/EXPERT/CHECKPOINTS/results_100_S', 'ipc': 1, 'teacher_model': 'ConvNet', 'student_model': 'ConvNet', 'epoch_eval_train': 3000, 'optimizer': 'SGD', 'lr_net': 0.01, 'expt_type': 'low_entropy_boost', 'num_eval': 5, 'batch_train': 256, 'batch_real': 256, 'zca': False, 'load_checkpoint': None, 'selection_strategy': 'random', 'dsa': True, 'dsa_strategy': 'color_crop_cutout_flip_scale_rotate', 'teacher_label': True, 'max_expert_epoch': 13, 'min_expert_epoch': 1, 'ensemble': False, 'temp': 1.0, 'num_low_entropy_images': 0.1, 'entropy_boost_alpha': 0.1, 'wandb': False, 'run_name': None, 'notes': 'No description', 'device': 'cuda', 'im_size': [32, 32], 'dc_aug_param': None, 'dsa_param': <utils.ParamDiffAug object at 0x7dda0d600bd0>, '_wandb': {}, 'zca_trans': None, 'distributed': False}\n",
            "Evaluation model:  ConvNet\n",
            "---------------Build label to index map--------------\n",
            "50000it [00:11, 4172.04it/s]\n",
            "initialize synthetic data from random real images\n",
            "Expert Dir: /content/EXPERT/CHECKPOINTS/results_100_S/CIFAR100_NO_ZCA/ConvNet 2 buffers detected\n",
            "Preparing low-entropy label noise injection experiment...\n",
            "Alpha (noise strength): 0.1\n",
            "Targeting bottom 0.1 low-entropy labels\n",
            "[2025-05-14 11:23:08] training begins\n",
            "-------------------------\n",
            "Experiment ID = 0\n",
            "loading file /content/EXPERT/CHECKPOINTS/results_100_S/CIFAR100_NO_ZCA/ConvNet/replay_buffer_1.pt\n",
            "Average entropy of bottom-k (pre-injection)=  tensor(2.3568, device='cuda:0')\n",
            "Average entropy of all (pre-injection)=  tensor(3.3077, device='cuda:0')\n",
            "Average entropy of bottom-k (post-injection)=  tensor(2.7377, device='cuda:0')\n",
            "Average entropy of all (post-injection)=  tensor(3.4220, device='cuda:0')\n",
            "Injected noise into 30 lowest-entropy labels with alpha=0.1\n",
            "-------------------------\n",
            "Evaluation\n",
            "Experiment ID = 0, model_train = ConvNet, model_eval = ConvNet\n",
            "DSA augmentation strategy: \n",
            " color_crop_cutout_flip_scale_rotate\n",
            "DSA augmentation parameters: \n",
            " {'aug_mode': 'S', 'prob_flip': 0.5, 'ratio_scale': 1.2, 'ratio_rotate': 15.0, 'ratio_crop_pad': 0.125, 'ratio_cutout': 0.5, 'ratio_noise': 0.05, 'brightness': 1.0, 'saturation': 2.0, 'contrast': 0.5}\n",
            "  0% 0/3001 [00:00<?, ?it/s]/usr/local/lib/python3.11/dist-packages/torch/functional.py:554: UserWarning: torch.meshgrid: in an upcoming release, it will be required to pass the indexing argument. (Triggered internally at /pytorch/aten/src/ATen/native/TensorShape.cpp:4314.)\n",
            "  return _VF.meshgrid(tensors, **kwargs)  # type: ignore[attr-defined]\n",
            "100% 3001/3001 [01:03<00:00, 47.57it/s] \n",
            "[2025-05-14 11:24:12] Evaluate_00: epoch = 3000 train time = 63 s train loss = 3.437347 train acc = 0.9400, test acc = 0.1426\n",
            "100% 3001/3001 [01:03<00:00, 47.49it/s] \n",
            "[2025-05-14 11:25:15] Evaluate_01: epoch = 3000 train time = 63 s train loss = 3.447224 train acc = 0.9100, test acc = 0.1448\n",
            "100% 3001/3001 [01:02<00:00, 47.68it/s] \n",
            "[2025-05-14 11:26:18] Evaluate_02: epoch = 3000 train time = 62 s train loss = 3.439429 train acc = 0.8700, test acc = 0.1429\n",
            "100% 3001/3001 [01:03<00:00, 47.48it/s] \n",
            "[2025-05-14 11:27:21] Evaluate_03: epoch = 3000 train time = 63 s train loss = 3.448380 train acc = 0.9200, test acc = 0.1449\n",
            "100% 3001/3001 [01:03<00:00, 47.42it/s] \n",
            "[2025-05-14 11:28:24] Evaluate_04: epoch = 3000 train time = 63 s train loss = 3.461128 train acc = 0.8600, test acc = 0.1487\n",
            "Evaluate 5 random ConvNet, mean = 0.1453 std = 0.0021\n",
            "-------------------------\n",
            "-------------------------\n",
            "Experiment ID = 1\n",
            "loading file /content/EXPERT/CHECKPOINTS/results_100_S/CIFAR100_NO_ZCA/ConvNet/replay_buffer_1.pt\n",
            "Average entropy of bottom-k (pre-injection)=  tensor(2.7738, device='cuda:0')\n",
            "Average entropy of all (pre-injection)=  tensor(3.3077, device='cuda:0')\n",
            "Average entropy of bottom-k (post-injection)=  tensor(3.0886, device='cuda:0')\n",
            "Average entropy of all (post-injection)=  tensor(3.4651, device='cuda:0')\n",
            "Injected noise into 50 lowest-entropy labels with alpha=0.1\n",
            "-------------------------\n",
            "Evaluation\n",
            "Experiment ID = 1, model_train = ConvNet, model_eval = ConvNet\n",
            "DSA augmentation strategy: \n",
            " color_crop_cutout_flip_scale_rotate\n",
            "DSA augmentation parameters: \n",
            " {'aug_mode': 'S', 'prob_flip': 0.5, 'ratio_scale': 1.2, 'ratio_rotate': 15.0, 'ratio_crop_pad': 0.125, 'ratio_cutout': 0.5, 'ratio_noise': 0.05, 'brightness': 1.0, 'saturation': 2.0, 'contrast': 0.5, 'batchmode': False, 'latestseed': -1}\n",
            "100% 3001/3001 [01:03<00:00, 47.08it/s] \n",
            "[2025-05-14 11:29:28] Evaluate_00: epoch = 3000 train time = 63 s train loss = 3.482383 train acc = 0.9200, test acc = 0.1416\n",
            "100% 3001/3001 [01:03<00:00, 47.41it/s] \n",
            "[2025-05-14 11:30:32] Evaluate_01: epoch = 3000 train time = 63 s train loss = 3.492843 train acc = 0.9800, test acc = 0.1423\n",
            "100% 3001/3001 [01:03<00:00, 47.41it/s] \n",
            "[2025-05-14 11:31:35] Evaluate_02: epoch = 3000 train time = 63 s train loss = 3.512915 train acc = 0.8400, test acc = 0.1452\n",
            "100% 3001/3001 [01:03<00:00, 47.35it/s] \n",
            "[2025-05-14 11:32:38] Evaluate_03: epoch = 3000 train time = 63 s train loss = 3.482330 train acc = 0.9500, test acc = 0.1476\n",
            "100% 3001/3001 [01:02<00:00, 47.64it/s] \n",
            "[2025-05-14 11:33:41] Evaluate_04: epoch = 3000 train time = 62 s train loss = 3.515870 train acc = 0.8600, test acc = 0.1429\n",
            "Evaluate 5 random ConvNet, mean = 0.1448 std = 0.0020\n",
            "-------------------------\n"
          ]
        }
      ],
      "source": [
        "!python nodistill.py --dataset=CIFAR100 --ipc=1 \\\n",
        "--expt_type=low_entropy_boost \\\n",
        "--num_low_entropy_images=0.1 \\\n",
        "--entropy_boost_alpha=0.1 \\\n",
        "--teacher_label --max_expert_epoch=13 --lr_net=1.e-02 \\\n",
        "--expert_path=/content/EXPERT/CHECKPOINTS/results_100_S \\\n",
        "--data_path=/content/cifar100 \\\n",
        "--selection_strategy=random --num_eval=5 --student_model=ConvNet \\\n",
        "--teacher_model=ConvNet --epoch_eval_train=3000 --optimizer=SGD"
      ]
    },
    {
      "cell_type": "markdown",
      "metadata": {
        "id": "E4FL_0eStMl9"
      },
      "source": [
        "# IPC = 10"
      ]
    },
    {
      "cell_type": "code",
      "execution_count": null,
      "metadata": {
        "colab": {
          "background_save": true,
          "base_uri": "https://localhost:8080/"
        },
        "id": "AJsNngkNtCXJ",
        "outputId": "f8357047-87c8-4591-9200-3ddd8fd59bfd"
      },
      "outputs": [
        {
          "name": "stdout",
          "output_type": "stream",
          "text": [
            "CUDNN STATUS: True\n",
            "Hyper-parameters: \n",
            " {'dataset': 'CIFAR100', 'data_path': '/content/cifar100', 'expert_path': '/content/EXPERT/CHECKPOINTS/results_100_S', 'ipc': 10, 'teacher_model': 'ConvNet', 'student_model': 'ConvNet', 'epoch_eval_train': 3000, 'optimizer': 'SGD', 'lr_net': 0.01, 'expt_type': 'low_entropy_boost', 'num_eval': 5, 'batch_train': 256, 'batch_real': 256, 'zca': False, 'load_checkpoint': None, 'selection_strategy': 'random', 'dsa': True, 'dsa_strategy': 'color_crop_cutout_flip_scale_rotate', 'teacher_label': True, 'max_expert_epoch': 36, 'min_expert_epoch': 1, 'ensemble': False, 'temp': 1.0, 'num_low_entropy_images': 0.1, 'entropy_boost_alpha': 0.01, 'wandb': False, 'run_name': None, 'notes': 'No description', 'device': 'cuda', 'im_size': [32, 32], 'dc_aug_param': None, 'dsa_param': <utils.ParamDiffAug object at 0x7d991ea43e90>, '_wandb': {}, 'zca_trans': None, 'distributed': False}\n",
            "Evaluation model:  ConvNet\n",
            "---------------Build label to index map--------------\n",
            "50000it [00:12, 4131.14it/s]\n",
            "initialize synthetic data from random real images\n",
            "Expert Dir: /content/EXPERT/CHECKPOINTS/results_100_S/CIFAR100_NO_ZCA/ConvNet 2 buffers detected\n",
            "Preparing low-entropy label noise injection experiment...\n",
            "Alpha (noise strength): 0.01\n",
            "Targeting bottom 0.1 low-entropy labels\n",
            "[2025-05-14 11:44:26] training begins\n",
            "-------------------------\n",
            "Experiment ID = 0\n",
            "loading file /content/EXPERT/CHECKPOINTS/results_100_S/CIFAR100_NO_ZCA/ConvNet/replay_buffer_1.pt\n",
            "Average entropy of bottom-k (pre-injection)=  tensor(1.1526, device='cuda:0')\n",
            "Average entropy of all (pre-injection)=  tensor(2.4211, device='cuda:0')\n",
            "Average entropy of bottom-k (post-injection)=  tensor(1.2220, device='cuda:0')\n",
            "Average entropy of all (post-injection)=  tensor(2.4419, device='cuda:0')\n",
            "Injected noise into 300 lowest-entropy labels with alpha=0.01\n",
            "-------------------------\n",
            "Evaluation\n",
            "Experiment ID = 0, model_train = ConvNet, model_eval = ConvNet\n",
            "DSA augmentation strategy: \n",
            " color_crop_cutout_flip_scale_rotate\n",
            "DSA augmentation parameters: \n",
            " {'aug_mode': 'S', 'prob_flip': 0.5, 'ratio_scale': 1.2, 'ratio_rotate': 15.0, 'ratio_crop_pad': 0.125, 'ratio_cutout': 0.5, 'ratio_noise': 0.05, 'brightness': 1.0, 'saturation': 2.0, 'contrast': 0.5}\n",
            "  0% 1/3001 [00:00<06:49,  7.32it/s]/usr/local/lib/python3.11/dist-packages/torch/functional.py:554: UserWarning: torch.meshgrid: in an upcoming release, it will be required to pass the indexing argument. (Triggered internally at /pytorch/aten/src/ATen/native/TensorShape.cpp:4314.)\n",
            "  return _VF.meshgrid(tensors, **kwargs)  # type: ignore[attr-defined]\n",
            "100% 3001/3001 [05:21<00:00,  9.33it/s]\n",
            "[2025-05-14 11:49:49] Evaluate_00: epoch = 3000 train time = 321 s train loss = 2.505014 train acc = 0.8690, test acc = 0.3344\n",
            "100% 3001/3001 [05:21<00:00,  9.34it/s]\n",
            "[2025-05-14 11:55:10] Evaluate_01: epoch = 3000 train time = 321 s train loss = 2.485104 train acc = 0.9360, test acc = 0.3411\n",
            "100% 3001/3001 [05:21<00:00,  9.34it/s]\n",
            "[2025-05-14 12:00:32] Evaluate_02: epoch = 3000 train time = 321 s train loss = 2.485033 train acc = 0.9280, test acc = 0.3389\n",
            "100% 3001/3001 [05:19<00:00,  9.39it/s]\n",
            "[2025-05-14 12:05:51] Evaluate_03: epoch = 3000 train time = 319 s train loss = 2.522532 train acc = 0.8700, test acc = 0.3382\n",
            "100% 3001/3001 [05:20<00:00,  9.37it/s]\n",
            "[2025-05-14 12:11:11] Evaluate_04: epoch = 3000 train time = 320 s train loss = 2.525900 train acc = 0.8640, test acc = 0.3451\n",
            "Evaluate 5 random ConvNet, mean = 0.3402 std = 0.0035\n",
            "-------------------------\n",
            "-------------------------\n",
            "Experiment ID = 1\n",
            "loading file /content/EXPERT/CHECKPOINTS/results_100_S/CIFAR100_NO_ZCA/ConvNet/replay_buffer_1.pt\n",
            "Average entropy of bottom-k (pre-injection)=  tensor(1.6300, device='cuda:0')\n",
            "Average entropy of all (pre-injection)=  tensor(2.4211, device='cuda:0')\n",
            "Average entropy of bottom-k (post-injection)=  tensor(1.6904, device='cuda:0')\n",
            "Average entropy of all (post-injection)=  tensor(2.4514, device='cuda:0')\n",
            "Injected noise into 500 lowest-entropy labels with alpha=0.01\n",
            "-------------------------\n",
            "Evaluation\n",
            "Experiment ID = 1, model_train = ConvNet, model_eval = ConvNet\n",
            "DSA augmentation strategy: \n",
            " color_crop_cutout_flip_scale_rotate\n",
            "DSA augmentation parameters: \n",
            " {'aug_mode': 'S', 'prob_flip': 0.5, 'ratio_scale': 1.2, 'ratio_rotate': 15.0, 'ratio_crop_pad': 0.125, 'ratio_cutout': 0.5, 'ratio_noise': 0.05, 'brightness': 1.0, 'saturation': 2.0, 'contrast': 0.5, 'batchmode': False, 'latestseed': -1}\n",
            "100% 3001/3001 [05:21<00:00,  9.34it/s]\n",
            "[2025-05-14 12:16:33] Evaluate_00: epoch = 3000 train time = 321 s train loss = 2.534140 train acc = 0.8700, test acc = 0.3374\n",
            "100% 3001/3001 [05:20<00:00,  9.36it/s]\n",
            "[2025-05-14 12:21:54] Evaluate_01: epoch = 3000 train time = 320 s train loss = 2.519497 train acc = 0.8790, test acc = 0.3439\n",
            "100% 3001/3001 [05:21<00:00,  9.35it/s]\n",
            "[2025-05-14 12:27:15] Evaluate_02: epoch = 3000 train time = 321 s train loss = 2.513227 train acc = 0.9010, test acc = 0.3343\n",
            "100% 3001/3001 [05:20<00:00,  9.35it/s]\n",
            "[2025-05-14 12:32:36] Evaluate_03: epoch = 3000 train time = 320 s train loss = 2.516648 train acc = 0.8890, test acc = 0.3409\n",
            "100% 3001/3001 [05:20<00:00,  9.35it/s]\n",
            "[2025-05-14 12:37:57] Evaluate_04: epoch = 3000 train time = 320 s train loss = 2.493518 train acc = 0.9070, test acc = 0.3422\n",
            "Evaluate 5 random ConvNet, mean = 0.3410 std = 0.0038\n",
            "-------------------------\n"
          ]
        }
      ],
      "source": [
        "!python nodistill.py --dataset=CIFAR100 --ipc=10 \\\n",
        "--expt_type=low_entropy_boost \\\n",
        "--num_low_entropy_images=0.1 \\\n",
        "--entropy_boost_alpha=0.01 \\\n",
        "--teacher_label --max_expert_epoch=36 --lr_net=1.e-02 \\\n",
        "--expert_path=/content/EXPERT/CHECKPOINTS/results_100_S \\\n",
        "--data_path=/content/cifar100 \\\n",
        "--selection_strategy=random --num_eval=5 --student_model=ConvNet \\\n",
        "--teacher_model=ConvNet --epoch_eval_train=3000 --optimizer=SGD"
      ]
    },
    {
      "cell_type": "code",
      "execution_count": null,
      "metadata": {
        "id": "GhwGGvHOtqzj"
      },
      "outputs": [],
      "source": [
        "!python nodistill.py --dataset=CIFAR100 --ipc=10 \\\n",
        "--expt_type=low_entropy_boost \\\n",
        "--num_low_entropy_images=0.1 \\\n",
        "--entropy_boost_alpha=0.05 \\\n",
        "--teacher_label --max_expert_epoch=36 --lr_net=1.e-02 \\\n",
        "--expert_path=/content/EXPERT/CHECKPOINTS/results_100_S \\\n",
        "--data_path=/content/cifar100 \\\n",
        "--selection_strategy=random --num_eval=5 --student_model=ConvNet \\\n",
        "--teacher_model=ConvNet --epoch_eval_train=3000 --optimizer=SGD"
      ]
    },
    {
      "cell_type": "code",
      "execution_count": null,
      "metadata": {
        "id": "--b8jXqOtuB0"
      },
      "outputs": [],
      "source": [
        "!python nodistill.py --dataset=CIFAR100 --ipc=10 \\\n",
        "--expt_type=low_entropy_boost \\\n",
        "--num_low_entropy_images=0.1 \\\n",
        "--entropy_boost_alpha=0.1 \\\n",
        "--teacher_label --max_expert_epoch=36 --lr_net=1.e-02 \\\n",
        "--expert_path=/content/EXPERT/CHECKPOINTS/results_100_S \\\n",
        "--data_path=/content/cifar100 \\\n",
        "--selection_strategy=random --num_eval=5 --student_model=ConvNet \\\n",
        "--teacher_model=ConvNet --epoch_eval_train=3000 --optimizer=SGD"
      ]
    },
    {
      "cell_type": "markdown",
      "metadata": {
        "id": "lxb8_c-SthXj"
      },
      "source": [
        "# IPC = 50"
      ]
    },
    {
      "cell_type": "code",
      "execution_count": null,
      "metadata": {
        "id": "hOQ4YidRtjST"
      },
      "outputs": [],
      "source": [
        "!python nodistill.py --dataset=CIFAR100 --ipc=50 \\\n",
        "--expt_type=low_entropy_boost \\\n",
        "--num_low_entropy_images=0.1 \\\n",
        "--entropy_boost_alpha=0.01 \\\n",
        "--teacher_label --max_expert_epoch=125 --lr_net=1.e-02 \\\n",
        "--expert_path=/content/EXPERT/CHECKPOINTS/results_100_S \\\n",
        "--data_path=/content/cifar100 \\\n",
        "--selection_strategy=random --num_eval=5 --student_model=ConvNet \\\n",
        "--teacher_model=ConvNet --epoch_eval_train=3000 --optimizer=SGD"
      ]
    },
    {
      "cell_type": "code",
      "execution_count": null,
      "metadata": {
        "id": "Z3tDuEg9tyh1"
      },
      "outputs": [],
      "source": [
        "!python nodistill.py --dataset=CIFAR100 --ipc=50 \\\n",
        "--expt_type=low_entropy_boost \\\n",
        "--num_low_entropy_images=0.1 \\\n",
        "--entropy_boost_alpha=0.05 \\\n",
        "--teacher_label --max_expert_epoch=125 --lr_net=1.e-02 \\\n",
        "--expert_path=/content/EXPERT/CHECKPOINTS/results_100_S \\\n",
        "--data_path=/content/cifar100 \\\n",
        "--selection_strategy=random --num_eval=5 --student_model=ConvNet \\\n",
        "--teacher_model=ConvNet --epoch_eval_train=3000 --optimizer=SGD"
      ]
    },
    {
      "cell_type": "code",
      "execution_count": null,
      "metadata": {
        "id": "SD1vpMrtt54F"
      },
      "outputs": [],
      "source": [
        "!python nodistill.py --dataset=CIFAR100 --ipc=50 \\\n",
        "--expt_type=low_entropy_boost \\\n",
        "--num_low_entropy_images=0.1 \\\n",
        "--entropy_boost_alpha=0.1 \\\n",
        "--teacher_label --max_expert_epoch=125 --lr_net=1.e-02 \\\n",
        "--expert_path=/content/EXPERT/CHECKPOINTS/results_100_S \\\n",
        "--data_path=/content/cifar100 \\\n",
        "--selection_strategy=random --num_eval=5 --student_model=ConvNet \\\n",
        "--teacher_model=ConvNet --epoch_eval_train=3000 --optimizer=SGD"
      ]
    },
    {
      "cell_type": "code",
      "execution_count": null,
      "metadata": {
        "colab": {
          "base_uri": "https://localhost:8080/"
        },
        "id": "JwboHhgT5qRs",
        "outputId": "52c2a315-2447-40ec-a1fa-dad8f87671ea"
      },
      "outputs": [
        {
          "name": "stdout",
          "output_type": "stream",
          "text": [
            "/content/no-distillation/softlabel\n"
          ]
        }
      ],
      "source": [
        "!pwd"
      ]
    },
    {
      "cell_type": "markdown",
      "metadata": {
        "id": "fmzmtVvsxcRN"
      },
      "source": [
        "Change name to replay_buffer_1.pt"
      ]
    },
    {
      "cell_type": "code",
      "execution_count": null,
      "metadata": {
        "colab": {
          "base_uri": "https://localhost:8080/"
        },
        "id": "WsiOa5cOt1mc",
        "outputId": "32d5ee16-6005-4590-a4ac-00ad98be27e7"
      },
      "outputs": [
        {
          "name": "stdout",
          "output_type": "stream",
          "text": [
            "CUDNN STATUS: True\n",
            "Hyper-parameters: \n",
            " {'dataset': 'CIFAR100', 'data_path': '/content/cifar100', 'expert_path': '/content/EXPERT/CHECKPOINTS/results_100_S', 'ipc': 1, 'teacher_model': 'ConvNet', 'student_model': 'ConvNet', 'epoch_eval_train': 3000, 'optimizer': 'SGD', 'lr_net': 0.01, 'expt_type': 'nothing', 'num_eval': 5, 'batch_train': 256, 'batch_real': 256, 'zca': False, 'load_checkpoint': None, 'selection_strategy': 'random', 'dsa': True, 'dsa_strategy': 'color_crop_cutout_flip_scale_rotate', 'teacher_label': True, 'max_expert_epoch': 13, 'min_expert_epoch': 1, 'ensemble': False, 'temp': 1.0, 'wandb': False, 'run_name': None, 'notes': 'No description', 'device': 'cuda', 'im_size': [32, 32], 'dc_aug_param': None, 'dsa_param': <utils.ParamDiffAug object at 0x7d102b0c16d0>, '_wandb': {}, 'zca_trans': None, 'distributed': False}\n",
            "Evaluation model:  ConvNet\n",
            "---------------Build label to index map--------------\n",
            "50000it [00:12, 3943.29it/s]\n",
            "initialize synthetic data from random real images\n",
            "Expert Dir: /content/EXPERT/CHECKPOINTS/results_100_S/CIFAR100_NO_ZCA/ConvNet 2 buffers detected\n",
            "[2025-05-11 14:47:42] training begins\n",
            "-------------------------\n",
            "Experiment ID = 0\n",
            "loading file /content/EXPERT/CHECKPOINTS/results_100_S/CIFAR100_NO_ZCA/ConvNet/replay_buffer_1.pt\n",
            "-------------------------\n",
            "Evaluation\n",
            "Experiment ID = 0, model_train = ConvNet, model_eval = ConvNet\n",
            "DSA augmentation strategy: \n",
            " color_crop_cutout_flip_scale_rotate\n",
            "DSA augmentation parameters: \n",
            " {'aug_mode': 'S', 'prob_flip': 0.5, 'ratio_scale': 1.2, 'ratio_rotate': 15.0, 'ratio_crop_pad': 0.125, 'ratio_cutout': 0.5, 'ratio_noise': 0.05, 'brightness': 1.0, 'saturation': 2.0, 'contrast': 0.5}\n",
            "  0% 2/3001 [00:00<02:39, 18.78it/s]/usr/local/lib/python3.11/dist-packages/torch/functional.py:554: UserWarning: torch.meshgrid: in an upcoming release, it will be required to pass the indexing argument. (Triggered internally at /pytorch/aten/src/ATen/native/TensorShape.cpp:4314.)\n",
            "  return _VF.meshgrid(tensors, **kwargs)  # type: ignore[attr-defined]\n",
            "100% 3001/3001 [01:26<00:00, 34.72it/s]\n",
            "[2025-05-11 14:49:09] Evaluate_00: epoch = 3000 train time = 86 s train loss = 3.387602 train acc = 0.8900, test acc = 0.1455\n",
            "100% 3001/3001 [01:26<00:00, 34.61it/s]\n",
            "[2025-05-11 14:50:36] Evaluate_01: epoch = 3000 train time = 86 s train loss = 3.428800 train acc = 0.8200, test acc = 0.1498\n",
            "100% 3001/3001 [01:26<00:00, 34.63it/s]\n",
            "[2025-05-11 14:52:02] Evaluate_02: epoch = 3000 train time = 86 s train loss = 3.411015 train acc = 0.8700, test acc = 0.1491\n",
            "100% 3001/3001 [01:26<00:00, 34.61it/s]\n",
            "[2025-05-11 14:53:29] Evaluate_03: epoch = 3000 train time = 86 s train loss = 3.409614 train acc = 0.8600, test acc = 0.1506\n",
            "100% 3001/3001 [01:26<00:00, 34.69it/s]\n",
            "[2025-05-11 14:54:55] Evaluate_04: epoch = 3000 train time = 86 s train loss = 3.414814 train acc = 0.7500, test acc = 0.1519\n",
            "Evaluate 5 random ConvNet, mean = 0.1501 std = 0.0024\n",
            "-------------------------\n"
          ]
        }
      ],
      "source": [
        "!python nodistill.py --dataset=CIFAR100 --ipc=1 --expt_type=nothing  --teacher_label  \\\n",
        "  --max_expert_epoch=13 --lr_net=1.e-02  --expert_path=/content/EXPERT/CHECKPOINTS/results_100_S  \\\n",
        "  --data_path=/content/cifar100  --student_model=ConvNet \\\n",
        "  --teacher_model=ConvNet --epoch_eval_train 3000"
      ]
    },
    {
      "cell_type": "code",
      "execution_count": null,
      "metadata": {
        "colab": {
          "base_uri": "https://localhost:8080/"
        },
        "id": "RLs-0dNjDAOW",
        "outputId": "5be0af9f-e5f5-4437-b080-af141116a999"
      },
      "outputs": [
        {
          "name": "stdout",
          "output_type": "stream",
          "text": [
            "CUDNN STATUS: True\n",
            "Hyper-parameters: \n",
            " {'dataset': 'CIFAR100', 'data_path': '/content/cifar100', 'expert_path': '/content/EXPERT/CHECKPOINTS/results_100_S', 'ipc': 10, 'teacher_model': 'ConvNet', 'student_model': 'ConvNet', 'epoch_eval_train': 3000, 'optimizer': 'SGD', 'lr_net': 0.01, 'expt_type': 'nothing', 'num_eval': 1, 'batch_train': 256, 'batch_real': 256, 'zca': False, 'load_checkpoint': None, 'selection_strategy': 'random', 'dsa': True, 'dsa_strategy': 'color_crop_cutout_flip_scale_rotate', 'teacher_label': True, 'max_expert_epoch': 36, 'min_expert_epoch': 1, 'ensemble': False, 'temp': 1.0, 'wandb': False, 'run_name': None, 'notes': 'No description', 'device': 'cuda', 'im_size': [32, 32], 'dc_aug_param': None, 'dsa_param': <utils.ParamDiffAug object at 0x7caeae4e8f90>, '_wandb': {}, 'zca_trans': None, 'distributed': False}\n",
            "Evaluation model:  ConvNet\n",
            "---------------Build label to index map--------------\n",
            "50000it [00:11, 4264.22it/s]\n",
            "initialize synthetic data from random real images\n",
            "Expert Dir: /content/EXPERT/CHECKPOINTS/results_100_S/CIFAR100_NO_ZCA/ConvNet 2 buffers detected\n",
            "[2025-05-12 13:47:52] training begins\n",
            "-------------------------\n",
            "Experiment ID = 0\n",
            "loading file /content/EXPERT/CHECKPOINTS/results_100_S/CIFAR100_NO_ZCA/ConvNet/replay_buffer_1.pt\n",
            "-------------------------\n",
            "Evaluation\n",
            "Experiment ID = 0, model_train = ConvNet, model_eval = ConvNet\n",
            "DSA augmentation strategy: \n",
            " color_crop_cutout_flip_scale_rotate\n",
            "DSA augmentation parameters: \n",
            " {'aug_mode': 'S', 'prob_flip': 0.5, 'ratio_scale': 1.2, 'ratio_rotate': 15.0, 'ratio_crop_pad': 0.125, 'ratio_cutout': 0.5, 'ratio_noise': 0.05, 'brightness': 1.0, 'saturation': 2.0, 'contrast': 0.5}\n",
            "  0% 2/3001 [00:00<09:00,  5.55it/s]/usr/local/lib/python3.11/dist-packages/torch/functional.py:554: UserWarning: torch.meshgrid: in an upcoming release, it will be required to pass the indexing argument. (Triggered internally at /pytorch/aten/src/ATen/native/TensorShape.cpp:4314.)\n",
            "  return _VF.meshgrid(tensors, **kwargs)  # type: ignore[attr-defined]\n",
            "100% 3001/3001 [06:45<00:00,  7.40it/s]\n",
            "[2025-05-12 13:54:38] Evaluate_00: epoch = 3000 train time = 405 s train loss = 2.412983 train acc = 0.9060, test acc = 0.3463\n",
            "Evaluate 1 random ConvNet, mean = 0.3474 std = 0.0000\n",
            "-------------------------\n"
          ]
        }
      ],
      "source": [
        "!python nodistill.py --dataset=CIFAR100 --ipc=10 --expt_type=nothing  --teacher_label  \\\n",
        "  --max_expert_epoch=36 --lr_net=1.e-02  --expert_path=/content/EXPERT/CHECKPOINTS/results_100_S  \\\n",
        "  --data_path=/content/cifar100  --student_model=ConvNet --num_eval=1\\\n",
        "  --teacher_model=ConvNet --epoch_eval_train 3000"
      ]
    },
    {
      "cell_type": "code",
      "execution_count": null,
      "metadata": {
        "colab": {
          "base_uri": "https://localhost:8080/"
        },
        "id": "Hnu6IFyHDFk5",
        "outputId": "4c9c7fb3-96c3-4ae0-d0dc-93d753bb2941"
      },
      "outputs": [
        {
          "name": "stdout",
          "output_type": "stream",
          "text": [
            "CUDNN STATUS: True\n",
            "Hyper-parameters: \n",
            " {'dataset': 'CIFAR100', 'data_path': '/content/cifar100', 'expert_path': '/content/replay_buffer_1.pt', 'ipc': 100, 'teacher_model': 'ConvNet', 'student_model': 'ConvNet', 'epoch_eval_train': 3000, 'optimizer': 'SGD', 'lr_net': 0.01, 'expt_type': 'nothing', 'num_eval': 5, 'batch_train': 256, 'batch_real': 256, 'zca': False, 'load_checkpoint': None, 'selection_strategy': 'random', 'dsa': True, 'dsa_strategy': 'color_crop_cutout_flip_scale_rotate', 'teacher_label': True, 'max_expert_epoch': 125, 'min_expert_epoch': 1, 'ensemble': False, 'temp': 1.0, 'wandb': False, 'run_name': None, 'notes': 'No description', 'device': 'cuda', 'im_size': [32, 32], 'dc_aug_param': None, 'dsa_param': <utils.ParamDiffAug object at 0x7d2b1127a710>, '_wandb': {}, 'zca_trans': None, 'distributed': False}\n",
            "Evaluation model:  ConvNet\n",
            "---------------Build label to index map--------------\n",
            "50000it [00:12, 4014.64it/s]\n",
            "initialize synthetic data from random real images\n",
            "Traceback (most recent call last):\n",
            "  File \"/content/no-distillation/softlabel/nodistill.py\", line 566, in <module>\n",
            "    main(args)\n",
            "  File \"/content/no-distillation/softlabel/nodistill.py\", line 207, in main\n",
            "    raise AssertionError(\"No buffers detected at {}\".format(expert_dir))\n",
            "AssertionError: No buffers detected at /content/replay_buffer_1.pt/CIFAR100_NO_ZCA/ConvNet\n",
            "^C\n"
          ]
        }
      ],
      "source": [
        "!python nodistill.py --dataset=CIFAR100 --ipc=100 --expt_type=nothing  --teacher_label  \\\n",
        "  --max_expert_epoch=125 --lr_net=1.e-02  --expert_path=/content/replay_buffer_1.pt  \\\n",
        "  --data_path=/content/cifar100  --student_model=ConvNet \\\n",
        "  --teacher_model=ConvNet --epoch_eval_train 3000"
      ]
    },
    {
      "cell_type": "code",
      "execution_count": null,
      "metadata": {
        "colab": {
          "base_uri": "https://localhost:8080/"
        },
        "id": "DFj9ZInD4Cic",
        "outputId": "20a52736-095b-4657-cc34-94284ee2be3c"
      },
      "outputs": [
        {
          "name": "stdout",
          "output_type": "stream",
          "text": [
            "Traceback (most recent call last):\n",
            "  File \"<frozen importlib._bootstrap>\", line 1147, in _find_and_load_unlocked\n",
            "  File \"<frozen importlib._bootstrap>\", line 690, in _load_unlocked\n",
            "  File \"<frozen importlib._bootstrap_external>\", line 940, in exec_module\n",
            "  File \"<frozen importlib._bootstrap>\", line 241, in _call_with_frames_removed\n",
            "  File \"/usr/local/lib/python3.11/dist-packages/torch/_prims/__init__.py\", line 525, in <module>\n",
            "    abs = _make_elementwise_unary_prim(\n",
            "          ^^^^^^^^^^^^^^^^^^^^^^^^^^^^^\n",
            "  File \"/usr/local/lib/python3.11/dist-packages/torch/_prims/__init__.py\", line 493, in _make_elementwise_unary_prim\n",
            "    return _make_prim(\n",
            "           ^^^^^^^^^^^\n",
            "  File \"/usr/local/lib/python3.11/dist-packages/torch/_prims/__init__.py\", line 321, in _make_prim\n",
            "    prim_def = torch.library.custom_op(\n",
            "               ^^^^^^^^^^^^^^^^^^^^^^^^\n",
            "  File \"/usr/local/lib/python3.11/dist-packages/torch/_library/custom_ops.py\", line 173, in custom_op\n",
            "    return inner(fn)\n",
            "           ^^^^^^^^^\n",
            "  File \"/usr/local/lib/python3.11/dist-packages/torch/_library/custom_ops.py\", line 154, in inner\n",
            "    result = CustomOpDef(namespace, opname, schema_str, fn)\n",
            "             ^^^^^^^^^^^^^^^^^^^^^^^^^^^^^^^^^^^^^^^^^^^^^^\n",
            "  File \"/usr/local/lib/python3.11/dist-packages/torch/_library/custom_ops.py\", line 204, in __init__\n",
            "    self._register_to_dispatcher()\n",
            "  File \"/usr/local/lib/python3.11/dist-packages/torch/_library/custom_ops.py\", line 624, in _register_to_dispatcher\n",
            "    lib._register_fake(self._name, fake_impl, _stacklevel=4)\n",
            "  File \"/usr/local/lib/python3.11/dist-packages/torch/library.py\", line 193, in _register_fake\n",
            "    source = torch._library.utils.get_source(_stacklevel + 1)\n",
            "             ^^^^^^^^^^^^^^^^^^^^^^^^^^^^^^^^^^^^^^^^^^^^^^^^\n",
            "  File \"/usr/local/lib/python3.11/dist-packages/torch/_library/utils.py\", line 54, in get_source\n",
            "    frame = inspect.getframeinfo(sys._getframe(stacklevel))\n",
            "            ^^^^^^^^^^^^^^^^^^^^^^^^^^^^^^^^^^^^^^^^^^^^^^^\n",
            "  File \"/usr/lib/python3.11/inspect.py\", line 1688, in getframeinfo\n",
            "    lines, lnum = findsource(frame)\n",
            "                  ^^^^^^^^^^^^^^^^^\n",
            "  File \"/usr/lib/python3.11/inspect.py\", line 1071, in findsource\n",
            "    module = getmodule(object, file)\n",
            "             ^^^^^^^^^^^^^^^^^^^^^^^\n",
            "  File \"/usr/lib/python3.11/inspect.py\", line 994, in getmodule\n",
            "    f = getabsfile(module)\n",
            "        ^^^^^^^^^^^^^^^^^^\n",
            "  File \"/usr/lib/python3.11/inspect.py\", line 964, in getabsfile\n",
            "    return os.path.normcase(os.path.abspath(_filename))\n",
            "           ^^^^^^^^^^^^^^^^^^^^^^^^^^^^^^^^^^^^^^^^^^^^\n",
            "  File \"<frozen posixpath>\", line 52, in normcase\n",
            "KeyboardInterrupt\n",
            "\n",
            "During handling of the above exception, another exception occurred:\n",
            "\n",
            "Traceback (most recent call last):\n",
            "  File \"/content/no-distillation/softlabel/nodistill.py\", line 4, in <module>\n",
            "    import torch\n",
            "  File \"/usr/local/lib/python3.11/dist-packages/torch/__init__.py\", line 2611, in <module>\n",
            "    from torch import _meta_registrations\n",
            "  File \"/usr/local/lib/python3.11/dist-packages/torch/_meta_registrations.py\", line 12, in <module>\n",
            "    from torch._decomp import (\n",
            "  File \"/usr/local/lib/python3.11/dist-packages/torch/_decomp/__init__.py\", line 276, in <module>\n",
            "    import torch._decomp.decompositions\n",
            "  File \"/usr/local/lib/python3.11/dist-packages/torch/_decomp/decompositions.py\", line 16, in <module>\n",
            "    import torch._prims as prims\n",
            "  File \"<frozen importlib._bootstrap>\", line 1176, in _find_and_load\n",
            "  File \"<frozen importlib._bootstrap>\", line 1150, in _find_and_load_unlocked\n",
            "KeyboardInterrupt\n",
            "^C\n"
          ]
        }
      ],
      "source": [
        "!python nodistill.py --dataset=CIFAR100 --ipc=50 --expt_type=nothing  --teacher_label  \\\n",
        "  --max_expert_epoch=125 --lr_net=1.e-02  --expert_path=/content/replay_buffer_1.pt  \\\n",
        "  --data_path=/content/cifar100  --student_model=ConvNet \\\n",
        "  --teacher_model=ConvNet --epoch_eval_train 3000"
      ]
    }
  ],
  "metadata": {
    "accelerator": "GPU",
    "colab": {
      "gpuType": "L4",
      "provenance": [],
      "mount_file_id": "1FE_VRF89y3mRLEfk8sFBk1WKlKMSQisw",
      "authorship_tag": "ABX9TyOEU8hjpiPnY+CjpjhHe8fQ",
      "include_colab_link": true
    },
    "kernelspec": {
      "display_name": "Python 3",
      "name": "python3"
    },
    "language_info": {
      "name": "python"
    }
  },
  "nbformat": 4,
  "nbformat_minor": 0
}