{
  "nbformat": 4,
  "nbformat_minor": 0,
  "metadata": {
    "colab": {
      "provenance": [],
      "gpuType": "T4",
      "authorship_tag": "ABX9TyN5VP75JlRvgA7hFZ14mZXg",
      "include_colab_link": true
    },
    "kernelspec": {
      "name": "python3",
      "display_name": "Python 3"
    },
    "language_info": {
      "name": "python"
    },
    "accelerator": "GPU"
  },
  "cells": [
    {
      "cell_type": "markdown",
      "metadata": {
        "id": "view-in-github",
        "colab_type": "text"
      },
      "source": [
        "<a href=\"https://colab.research.google.com/github/andrewpoile/6258-DPDL-Groupwork/blob/main/no_distillation.ipynb\" target=\"_parent\"><img src=\"https://colab.research.google.com/assets/colab-badge.svg\" alt=\"Open In Colab\"/></a>"
      ]
    },
    {
      "cell_type": "code",
      "execution_count": 1,
      "metadata": {
        "colab": {
          "base_uri": "https://localhost:8080/"
        },
        "id": "gQemt2_J0opT",
        "outputId": "eb659d04-f644-4f6b-9d0f-38e024d461f9"
      },
      "outputs": [
        {
          "output_type": "stream",
          "name": "stdout",
          "text": [
            "Cloning into 'no-distillation'...\n",
            "remote: Enumerating objects: 112, done.\u001b[K\n",
            "remote: Counting objects: 100% (112/112), done.\u001b[K\n",
            "remote: Compressing objects: 100% (92/92), done.\u001b[K\n",
            "remote: Total 112 (delta 38), reused 75 (delta 19), pack-reused 0 (from 0)\u001b[K\n",
            "Receiving objects: 100% (112/112), 13.22 MiB | 14.72 MiB/s, done.\n",
            "Resolving deltas: 100% (38/38), done.\n"
          ]
        }
      ],
      "source": [
        "!git clone https://github.com/sunnytqin/no-distillation.git"
      ]
    },
    {
      "cell_type": "code",
      "source": [
        "!pwd"
      ],
      "metadata": {
        "colab": {
          "base_uri": "https://localhost:8080/"
        },
        "id": "LYTfBskKnIJ2",
        "outputId": "f6aa328f-bc55-443f-f17a-8cc4b706c5f9"
      },
      "execution_count": 2,
      "outputs": [
        {
          "output_type": "stream",
          "name": "stdout",
          "text": [
            "/content\n"
          ]
        }
      ]
    },
    {
      "cell_type": "code",
      "source": [
        "import kagglehub\n",
        "\n",
        "# Download latest version\n",
        "path = kagglehub.dataset_download(\"akash2sharma/tiny-imagenet\")\n",
        "\n",
        "print(\"Path to dataset files:\", path)"
      ],
      "metadata": {
        "colab": {
          "base_uri": "https://localhost:8080/"
        },
        "id": "z0iBtVyMMfUb",
        "outputId": "fb6b3573-db2d-4999-da86-238e0aff1981"
      },
      "execution_count": 3,
      "outputs": [
        {
          "output_type": "stream",
          "name": "stdout",
          "text": [
            "Path to dataset files: /kaggle/input/tiny-imagenet\n"
          ]
        }
      ]
    },
    {
      "cell_type": "code",
      "source": [
        "%cd no-distillation/train_expert/"
      ],
      "metadata": {
        "colab": {
          "base_uri": "https://localhost:8080/"
        },
        "id": "5U0JYdYK-iJk",
        "outputId": "1465e2a2-7e20-405e-87ad-3c40f99cdd91"
      },
      "execution_count": 4,
      "outputs": [
        {
          "output_type": "stream",
          "name": "stdout",
          "text": [
            "/content/no-distillation/train_expert\n"
          ]
        }
      ]
    },
    {
      "cell_type": "code",
      "source": [
        "!pip uninstall -y torch torchvision torchaudio"
      ],
      "metadata": {
        "colab": {
          "base_uri": "https://localhost:8080/"
        },
        "id": "kkxFKfSIA20f",
        "outputId": "5610f926-be1d-4095-e3d7-df15dbeb76a2"
      },
      "execution_count": 5,
      "outputs": [
        {
          "output_type": "stream",
          "name": "stdout",
          "text": [
            "Found existing installation: torch 2.6.0+cu124\n",
            "Uninstalling torch-2.6.0+cu124:\n",
            "  Successfully uninstalled torch-2.6.0+cu124\n",
            "Found existing installation: torchvision 0.21.0+cu124\n",
            "Uninstalling torchvision-0.21.0+cu124:\n",
            "  Successfully uninstalled torchvision-0.21.0+cu124\n",
            "Found existing installation: torchaudio 2.6.0+cu124\n",
            "Uninstalling torchaudio-2.6.0+cu124:\n",
            "  Successfully uninstalled torchaudio-2.6.0+cu124\n"
          ]
        }
      ]
    },
    {
      "cell_type": "code",
      "source": [
        "!pip3 install torch --index-url https://download.pytorch.org/whl/cu118\n",
        "!pip3 install torchvision --index-url https://download.pytorch.org/whl/cu118\n",
        "!pip3 install kornia einops numpy tqdm wandb scipy"
      ],
      "metadata": {
        "colab": {
          "base_uri": "https://localhost:8080/"
        },
        "id": "dBKhS_xV012B",
        "outputId": "f9b01057-f1f4-4f67-ad73-104edf743835"
      },
      "execution_count": 6,
      "outputs": [
        {
          "output_type": "stream",
          "name": "stdout",
          "text": [
            "Looking in indexes: https://download.pytorch.org/whl/cu118\n",
            "Collecting torch\n",
            "  Downloading https://download.pytorch.org/whl/cu118/torch-2.7.0%2Bcu118-cp311-cp311-manylinux_2_28_x86_64.whl.metadata (28 kB)\n",
            "Requirement already satisfied: filelock in /usr/local/lib/python3.11/dist-packages (from torch) (3.18.0)\n",
            "Requirement already satisfied: typing-extensions>=4.10.0 in /usr/local/lib/python3.11/dist-packages (from torch) (4.13.2)\n",
            "Collecting sympy>=1.13.3 (from torch)\n",
            "  Downloading https://download.pytorch.org/whl/sympy-1.13.3-py3-none-any.whl.metadata (12 kB)\n",
            "Requirement already satisfied: networkx in /usr/local/lib/python3.11/dist-packages (from torch) (3.4.2)\n",
            "Requirement already satisfied: jinja2 in /usr/local/lib/python3.11/dist-packages (from torch) (3.1.6)\n",
            "Requirement already satisfied: fsspec in /usr/local/lib/python3.11/dist-packages (from torch) (2025.3.2)\n",
            "Collecting nvidia-cuda-nvrtc-cu11==11.8.89 (from torch)\n",
            "  Downloading https://download.pytorch.org/whl/cu118/nvidia_cuda_nvrtc_cu11-11.8.89-py3-none-manylinux1_x86_64.whl (23.2 MB)\n",
            "\u001b[2K     \u001b[90m━━━━━━━━━━━━━━━━━━━━━━━━━━━━━━━━━━━━━━━━\u001b[0m \u001b[32m23.2/23.2 MB\u001b[0m \u001b[31m76.8 MB/s\u001b[0m eta \u001b[36m0:00:00\u001b[0m\n",
            "\u001b[?25hCollecting nvidia-cuda-runtime-cu11==11.8.89 (from torch)\n",
            "  Downloading https://download.pytorch.org/whl/cu118/nvidia_cuda_runtime_cu11-11.8.89-py3-none-manylinux1_x86_64.whl (875 kB)\n",
            "\u001b[2K     \u001b[90m━━━━━━━━━━━━━━━━━━━━━━━━━━━━━━━━━━━━━━\u001b[0m \u001b[32m875.6/875.6 kB\u001b[0m \u001b[31m62.7 MB/s\u001b[0m eta \u001b[36m0:00:00\u001b[0m\n",
            "\u001b[?25hCollecting nvidia-cuda-cupti-cu11==11.8.87 (from torch)\n",
            "  Downloading https://download.pytorch.org/whl/cu118/nvidia_cuda_cupti_cu11-11.8.87-py3-none-manylinux1_x86_64.whl (13.1 MB)\n",
            "\u001b[2K     \u001b[90m━━━━━━━━━━━━━━━━━━━━━━━━━━━━━━━━━━━━━━━\u001b[0m \u001b[32m13.1/13.1 MB\u001b[0m \u001b[31m123.7 MB/s\u001b[0m eta \u001b[36m0:00:00\u001b[0m\n",
            "\u001b[?25hCollecting nvidia-cudnn-cu11==9.1.0.70 (from torch)\n",
            "  Downloading https://download.pytorch.org/whl/cu118/nvidia_cudnn_cu11-9.1.0.70-py3-none-manylinux2014_x86_64.whl (663.9 MB)\n",
            "\u001b[2K     \u001b[90m━━━━━━━━━━━━━━━━━━━━━━━━━━━━━━━━━━━━━━━\u001b[0m \u001b[32m663.9/663.9 MB\u001b[0m \u001b[31m2.0 MB/s\u001b[0m eta \u001b[36m0:00:00\u001b[0m\n",
            "\u001b[?25hCollecting nvidia-cublas-cu11==11.11.3.6 (from torch)\n",
            "  Downloading https://download.pytorch.org/whl/cu118/nvidia_cublas_cu11-11.11.3.6-py3-none-manylinux1_x86_64.whl (417.9 MB)\n",
            "\u001b[2K     \u001b[90m━━━━━━━━━━━━━━━━━━━━━━━━━━━━━━━━━━━━━━━\u001b[0m \u001b[32m417.9/417.9 MB\u001b[0m \u001b[31m3.8 MB/s\u001b[0m eta \u001b[36m0:00:00\u001b[0m\n",
            "\u001b[?25hCollecting nvidia-cufft-cu11==10.9.0.58 (from torch)\n",
            "  Downloading https://download.pytorch.org/whl/cu118/nvidia_cufft_cu11-10.9.0.58-py3-none-manylinux1_x86_64.whl (168.4 MB)\n",
            "\u001b[2K     \u001b[90m━━━━━━━━━━━━━━━━━━━━━━━━━━━━━━━━━━━━━━━\u001b[0m \u001b[32m168.4/168.4 MB\u001b[0m \u001b[31m7.4 MB/s\u001b[0m eta \u001b[36m0:00:00\u001b[0m\n",
            "\u001b[?25hCollecting nvidia-curand-cu11==10.3.0.86 (from torch)\n",
            "  Downloading https://download.pytorch.org/whl/cu118/nvidia_curand_cu11-10.3.0.86-py3-none-manylinux1_x86_64.whl (58.1 MB)\n",
            "\u001b[2K     \u001b[90m━━━━━━━━━━━━━━━━━━━━━━━━━━━━━━━━━━━━━━━━\u001b[0m \u001b[32m58.1/58.1 MB\u001b[0m \u001b[31m13.3 MB/s\u001b[0m eta \u001b[36m0:00:00\u001b[0m\n",
            "\u001b[?25hCollecting nvidia-cusolver-cu11==11.4.1.48 (from torch)\n",
            "  Downloading https://download.pytorch.org/whl/cu118/nvidia_cusolver_cu11-11.4.1.48-py3-none-manylinux1_x86_64.whl (128.2 MB)\n",
            "\u001b[2K     \u001b[90m━━━━━━━━━━━━━━━━━━━━━━━━━━━━━━━━━━━━━━━\u001b[0m \u001b[32m128.2/128.2 MB\u001b[0m \u001b[31m7.2 MB/s\u001b[0m eta \u001b[36m0:00:00\u001b[0m\n",
            "\u001b[?25hCollecting nvidia-cusparse-cu11==11.7.5.86 (from torch)\n",
            "  Downloading https://download.pytorch.org/whl/cu118/nvidia_cusparse_cu11-11.7.5.86-py3-none-manylinux1_x86_64.whl (204.1 MB)\n",
            "\u001b[2K     \u001b[90m━━━━━━━━━━━━━━━━━━━━━━━━━━━━━━━━━━━━━━━\u001b[0m \u001b[32m204.1/204.1 MB\u001b[0m \u001b[31m5.7 MB/s\u001b[0m eta \u001b[36m0:00:00\u001b[0m\n",
            "\u001b[?25hCollecting nvidia-nccl-cu11==2.21.5 (from torch)\n",
            "  Downloading https://download.pytorch.org/whl/cu118/nvidia_nccl_cu11-2.21.5-py3-none-manylinux2014_x86_64.whl (147.8 MB)\n",
            "\u001b[2K     \u001b[90m━━━━━━━━━━━━━━━━━━━━━━━━━━━━━━━━━━━━━━━\u001b[0m \u001b[32m147.8/147.8 MB\u001b[0m \u001b[31m7.1 MB/s\u001b[0m eta \u001b[36m0:00:00\u001b[0m\n",
            "\u001b[?25hCollecting nvidia-nvtx-cu11==11.8.86 (from torch)\n",
            "  Downloading https://download.pytorch.org/whl/cu118/nvidia_nvtx_cu11-11.8.86-py3-none-manylinux1_x86_64.whl (99 kB)\n",
            "\u001b[2K     \u001b[90m━━━━━━━━━━━━━━━━━━━━━━━━━━━━━━━━━━━━━━━━\u001b[0m \u001b[32m99.1/99.1 kB\u001b[0m \u001b[31m9.8 MB/s\u001b[0m eta \u001b[36m0:00:00\u001b[0m\n",
            "\u001b[?25hCollecting triton==3.3.0 (from torch)\n",
            "  Downloading https://download.pytorch.org/whl/triton-3.3.0-cp311-cp311-manylinux_2_27_x86_64.manylinux_2_28_x86_64.whl.metadata (1.5 kB)\n",
            "Requirement already satisfied: setuptools>=40.8.0 in /usr/local/lib/python3.11/dist-packages (from triton==3.3.0->torch) (75.2.0)\n",
            "Requirement already satisfied: mpmath<1.4,>=1.1.0 in /usr/local/lib/python3.11/dist-packages (from sympy>=1.13.3->torch) (1.3.0)\n",
            "Requirement already satisfied: MarkupSafe>=2.0 in /usr/local/lib/python3.11/dist-packages (from jinja2->torch) (3.0.2)\n",
            "Downloading https://download.pytorch.org/whl/cu118/torch-2.7.0%2Bcu118-cp311-cp311-manylinux_2_28_x86_64.whl (955.6 MB)\n",
            "\u001b[2K   \u001b[90m━━━━━━━━━━━━━━━━━━━━━━━━━━━━━━━━━━━━━━━\u001b[0m \u001b[32m955.6/955.6 MB\u001b[0m \u001b[31m906.7 kB/s\u001b[0m eta \u001b[36m0:00:00\u001b[0m\n",
            "\u001b[?25hDownloading https://download.pytorch.org/whl/triton-3.3.0-cp311-cp311-manylinux_2_27_x86_64.manylinux_2_28_x86_64.whl (156.5 MB)\n",
            "\u001b[2K   \u001b[90m━━━━━━━━━━━━━━━━━━━━━━━━━━━━━━━━━━━━━━━━\u001b[0m \u001b[32m156.5/156.5 MB\u001b[0m \u001b[31m6.3 MB/s\u001b[0m eta \u001b[36m0:00:00\u001b[0m\n",
            "\u001b[?25hDownloading https://download.pytorch.org/whl/sympy-1.13.3-py3-none-any.whl (6.2 MB)\n",
            "\u001b[2K   \u001b[90m━━━━━━━━━━━━━━━━━━━━━━━━━━━━━━━━━━━━━━━━\u001b[0m \u001b[32m6.2/6.2 MB\u001b[0m \u001b[31m86.3 MB/s\u001b[0m eta \u001b[36m0:00:00\u001b[0m\n",
            "\u001b[?25hInstalling collected packages: triton, sympy, nvidia-nvtx-cu11, nvidia-nccl-cu11, nvidia-cusparse-cu11, nvidia-curand-cu11, nvidia-cufft-cu11, nvidia-cuda-runtime-cu11, nvidia-cuda-nvrtc-cu11, nvidia-cuda-cupti-cu11, nvidia-cublas-cu11, nvidia-cusolver-cu11, nvidia-cudnn-cu11, torch\n",
            "  Attempting uninstall: triton\n",
            "    Found existing installation: triton 3.2.0\n",
            "    Uninstalling triton-3.2.0:\n",
            "      Successfully uninstalled triton-3.2.0\n",
            "  Attempting uninstall: sympy\n",
            "    Found existing installation: sympy 1.13.1\n",
            "    Uninstalling sympy-1.13.1:\n",
            "      Successfully uninstalled sympy-1.13.1\n",
            "\u001b[31mERROR: pip's dependency resolver does not currently take into account all the packages that are installed. This behaviour is the source of the following dependency conflicts.\n",
            "fastai 2.7.19 requires torchvision>=0.11, which is not installed.\n",
            "timm 1.0.15 requires torchvision, which is not installed.\n",
            "fastai 2.7.19 requires torch<2.7,>=1.10, but you have torch 2.7.0+cu118 which is incompatible.\u001b[0m\u001b[31m\n",
            "\u001b[0mSuccessfully installed nvidia-cublas-cu11-11.11.3.6 nvidia-cuda-cupti-cu11-11.8.87 nvidia-cuda-nvrtc-cu11-11.8.89 nvidia-cuda-runtime-cu11-11.8.89 nvidia-cudnn-cu11-9.1.0.70 nvidia-cufft-cu11-10.9.0.58 nvidia-curand-cu11-10.3.0.86 nvidia-cusolver-cu11-11.4.1.48 nvidia-cusparse-cu11-11.7.5.86 nvidia-nccl-cu11-2.21.5 nvidia-nvtx-cu11-11.8.86 sympy-1.13.3 torch-2.7.0+cu118 triton-3.3.0\n",
            "Looking in indexes: https://download.pytorch.org/whl/cu118\n",
            "Collecting torchvision\n",
            "  Downloading https://download.pytorch.org/whl/cu118/torchvision-0.22.0%2Bcu118-cp311-cp311-manylinux_2_28_x86_64.whl.metadata (6.1 kB)\n",
            "Requirement already satisfied: numpy in /usr/local/lib/python3.11/dist-packages (from torchvision) (2.0.2)\n",
            "Requirement already satisfied: torch==2.7.0 in /usr/local/lib/python3.11/dist-packages (from torchvision) (2.7.0+cu118)\n",
            "Requirement already satisfied: pillow!=8.3.*,>=5.3.0 in /usr/local/lib/python3.11/dist-packages (from torchvision) (11.2.1)\n",
            "Requirement already satisfied: filelock in /usr/local/lib/python3.11/dist-packages (from torch==2.7.0->torchvision) (3.18.0)\n",
            "Requirement already satisfied: typing-extensions>=4.10.0 in /usr/local/lib/python3.11/dist-packages (from torch==2.7.0->torchvision) (4.13.2)\n",
            "Requirement already satisfied: sympy>=1.13.3 in /usr/local/lib/python3.11/dist-packages (from torch==2.7.0->torchvision) (1.13.3)\n",
            "Requirement already satisfied: networkx in /usr/local/lib/python3.11/dist-packages (from torch==2.7.0->torchvision) (3.4.2)\n",
            "Requirement already satisfied: jinja2 in /usr/local/lib/python3.11/dist-packages (from torch==2.7.0->torchvision) (3.1.6)\n",
            "Requirement already satisfied: fsspec in /usr/local/lib/python3.11/dist-packages (from torch==2.7.0->torchvision) (2025.3.2)\n",
            "Requirement already satisfied: nvidia-cuda-nvrtc-cu11==11.8.89 in /usr/local/lib/python3.11/dist-packages (from torch==2.7.0->torchvision) (11.8.89)\n",
            "Requirement already satisfied: nvidia-cuda-runtime-cu11==11.8.89 in /usr/local/lib/python3.11/dist-packages (from torch==2.7.0->torchvision) (11.8.89)\n",
            "Requirement already satisfied: nvidia-cuda-cupti-cu11==11.8.87 in /usr/local/lib/python3.11/dist-packages (from torch==2.7.0->torchvision) (11.8.87)\n",
            "Requirement already satisfied: nvidia-cudnn-cu11==9.1.0.70 in /usr/local/lib/python3.11/dist-packages (from torch==2.7.0->torchvision) (9.1.0.70)\n",
            "Requirement already satisfied: nvidia-cublas-cu11==11.11.3.6 in /usr/local/lib/python3.11/dist-packages (from torch==2.7.0->torchvision) (11.11.3.6)\n",
            "Requirement already satisfied: nvidia-cufft-cu11==10.9.0.58 in /usr/local/lib/python3.11/dist-packages (from torch==2.7.0->torchvision) (10.9.0.58)\n",
            "Requirement already satisfied: nvidia-curand-cu11==10.3.0.86 in /usr/local/lib/python3.11/dist-packages (from torch==2.7.0->torchvision) (10.3.0.86)\n",
            "Requirement already satisfied: nvidia-cusolver-cu11==11.4.1.48 in /usr/local/lib/python3.11/dist-packages (from torch==2.7.0->torchvision) (11.4.1.48)\n",
            "Requirement already satisfied: nvidia-cusparse-cu11==11.7.5.86 in /usr/local/lib/python3.11/dist-packages (from torch==2.7.0->torchvision) (11.7.5.86)\n",
            "Requirement already satisfied: nvidia-nccl-cu11==2.21.5 in /usr/local/lib/python3.11/dist-packages (from torch==2.7.0->torchvision) (2.21.5)\n",
            "Requirement already satisfied: nvidia-nvtx-cu11==11.8.86 in /usr/local/lib/python3.11/dist-packages (from torch==2.7.0->torchvision) (11.8.86)\n",
            "Requirement already satisfied: triton==3.3.0 in /usr/local/lib/python3.11/dist-packages (from torch==2.7.0->torchvision) (3.3.0)\n",
            "Requirement already satisfied: setuptools>=40.8.0 in /usr/local/lib/python3.11/dist-packages (from triton==3.3.0->torch==2.7.0->torchvision) (75.2.0)\n",
            "Requirement already satisfied: mpmath<1.4,>=1.1.0 in /usr/local/lib/python3.11/dist-packages (from sympy>=1.13.3->torch==2.7.0->torchvision) (1.3.0)\n",
            "Requirement already satisfied: MarkupSafe>=2.0 in /usr/local/lib/python3.11/dist-packages (from jinja2->torch==2.7.0->torchvision) (3.0.2)\n",
            "Downloading https://download.pytorch.org/whl/cu118/torchvision-0.22.0%2Bcu118-cp311-cp311-manylinux_2_28_x86_64.whl (6.7 MB)\n",
            "\u001b[2K   \u001b[90m━━━━━━━━━━━━━━━━━━━━━━━━━━━━━━━━━━━━━━━━\u001b[0m \u001b[32m6.7/6.7 MB\u001b[0m \u001b[31m87.5 MB/s\u001b[0m eta \u001b[36m0:00:00\u001b[0m\n",
            "\u001b[?25hInstalling collected packages: torchvision\n",
            "\u001b[31mERROR: pip's dependency resolver does not currently take into account all the packages that are installed. This behaviour is the source of the following dependency conflicts.\n",
            "fastai 2.7.19 requires torch<2.7,>=1.10, but you have torch 2.7.0+cu118 which is incompatible.\u001b[0m\u001b[31m\n",
            "\u001b[0mSuccessfully installed torchvision-0.22.0+cu118\n",
            "Collecting kornia\n",
            "  Downloading kornia-0.8.0-py2.py3-none-any.whl.metadata (17 kB)\n",
            "Requirement already satisfied: einops in /usr/local/lib/python3.11/dist-packages (0.8.1)\n",
            "Requirement already satisfied: numpy in /usr/local/lib/python3.11/dist-packages (2.0.2)\n",
            "Requirement already satisfied: tqdm in /usr/local/lib/python3.11/dist-packages (4.67.1)\n",
            "Requirement already satisfied: wandb in /usr/local/lib/python3.11/dist-packages (0.19.10)\n",
            "Requirement already satisfied: scipy in /usr/local/lib/python3.11/dist-packages (1.15.2)\n",
            "Collecting kornia_rs>=0.1.0 (from kornia)\n",
            "  Downloading kornia_rs-0.1.8-cp311-cp311-manylinux_2_17_x86_64.manylinux2014_x86_64.whl.metadata (10 kB)\n",
            "Requirement already satisfied: packaging in /usr/local/lib/python3.11/dist-packages (from kornia) (24.2)\n",
            "Requirement already satisfied: torch>=1.9.1 in /usr/local/lib/python3.11/dist-packages (from kornia) (2.7.0+cu118)\n",
            "Requirement already satisfied: click!=8.0.0,>=7.1 in /usr/local/lib/python3.11/dist-packages (from wandb) (8.1.8)\n",
            "Requirement already satisfied: docker-pycreds>=0.4.0 in /usr/local/lib/python3.11/dist-packages (from wandb) (0.4.0)\n",
            "Requirement already satisfied: gitpython!=3.1.29,>=1.0.0 in /usr/local/lib/python3.11/dist-packages (from wandb) (3.1.44)\n",
            "Requirement already satisfied: platformdirs in /usr/local/lib/python3.11/dist-packages (from wandb) (4.3.7)\n",
            "Requirement already satisfied: protobuf!=4.21.0,!=5.28.0,<7,>=3.19.0 in /usr/local/lib/python3.11/dist-packages (from wandb) (5.29.4)\n",
            "Requirement already satisfied: psutil>=5.0.0 in /usr/local/lib/python3.11/dist-packages (from wandb) (5.9.5)\n",
            "Requirement already satisfied: pydantic<3 in /usr/local/lib/python3.11/dist-packages (from wandb) (2.11.4)\n",
            "Requirement already satisfied: pyyaml in /usr/local/lib/python3.11/dist-packages (from wandb) (6.0.2)\n",
            "Requirement already satisfied: requests<3,>=2.0.0 in /usr/local/lib/python3.11/dist-packages (from wandb) (2.32.3)\n",
            "Requirement already satisfied: sentry-sdk>=2.0.0 in /usr/local/lib/python3.11/dist-packages (from wandb) (2.27.0)\n",
            "Requirement already satisfied: setproctitle in /usr/local/lib/python3.11/dist-packages (from wandb) (1.3.6)\n",
            "Requirement already satisfied: setuptools in /usr/local/lib/python3.11/dist-packages (from wandb) (75.2.0)\n",
            "Requirement already satisfied: typing-extensions<5,>=4.4 in /usr/local/lib/python3.11/dist-packages (from wandb) (4.13.2)\n",
            "Requirement already satisfied: six>=1.4.0 in /usr/local/lib/python3.11/dist-packages (from docker-pycreds>=0.4.0->wandb) (1.17.0)\n",
            "Requirement already satisfied: gitdb<5,>=4.0.1 in /usr/local/lib/python3.11/dist-packages (from gitpython!=3.1.29,>=1.0.0->wandb) (4.0.12)\n",
            "Requirement already satisfied: annotated-types>=0.6.0 in /usr/local/lib/python3.11/dist-packages (from pydantic<3->wandb) (0.7.0)\n",
            "Requirement already satisfied: pydantic-core==2.33.2 in /usr/local/lib/python3.11/dist-packages (from pydantic<3->wandb) (2.33.2)\n",
            "Requirement already satisfied: typing-inspection>=0.4.0 in /usr/local/lib/python3.11/dist-packages (from pydantic<3->wandb) (0.4.0)\n",
            "Requirement already satisfied: charset-normalizer<4,>=2 in /usr/local/lib/python3.11/dist-packages (from requests<3,>=2.0.0->wandb) (3.4.1)\n",
            "Requirement already satisfied: idna<4,>=2.5 in /usr/local/lib/python3.11/dist-packages (from requests<3,>=2.0.0->wandb) (3.10)\n",
            "Requirement already satisfied: urllib3<3,>=1.21.1 in /usr/local/lib/python3.11/dist-packages (from requests<3,>=2.0.0->wandb) (2.4.0)\n",
            "Requirement already satisfied: certifi>=2017.4.17 in /usr/local/lib/python3.11/dist-packages (from requests<3,>=2.0.0->wandb) (2025.4.26)\n",
            "Requirement already satisfied: filelock in /usr/local/lib/python3.11/dist-packages (from torch>=1.9.1->kornia) (3.18.0)\n",
            "Requirement already satisfied: sympy>=1.13.3 in /usr/local/lib/python3.11/dist-packages (from torch>=1.9.1->kornia) (1.13.3)\n",
            "Requirement already satisfied: networkx in /usr/local/lib/python3.11/dist-packages (from torch>=1.9.1->kornia) (3.4.2)\n",
            "Requirement already satisfied: jinja2 in /usr/local/lib/python3.11/dist-packages (from torch>=1.9.1->kornia) (3.1.6)\n",
            "Requirement already satisfied: fsspec in /usr/local/lib/python3.11/dist-packages (from torch>=1.9.1->kornia) (2025.3.2)\n",
            "Requirement already satisfied: nvidia-cuda-nvrtc-cu11==11.8.89 in /usr/local/lib/python3.11/dist-packages (from torch>=1.9.1->kornia) (11.8.89)\n",
            "Requirement already satisfied: nvidia-cuda-runtime-cu11==11.8.89 in /usr/local/lib/python3.11/dist-packages (from torch>=1.9.1->kornia) (11.8.89)\n",
            "Requirement already satisfied: nvidia-cuda-cupti-cu11==11.8.87 in /usr/local/lib/python3.11/dist-packages (from torch>=1.9.1->kornia) (11.8.87)\n",
            "Requirement already satisfied: nvidia-cudnn-cu11==9.1.0.70 in /usr/local/lib/python3.11/dist-packages (from torch>=1.9.1->kornia) (9.1.0.70)\n",
            "Requirement already satisfied: nvidia-cublas-cu11==11.11.3.6 in /usr/local/lib/python3.11/dist-packages (from torch>=1.9.1->kornia) (11.11.3.6)\n",
            "Requirement already satisfied: nvidia-cufft-cu11==10.9.0.58 in /usr/local/lib/python3.11/dist-packages (from torch>=1.9.1->kornia) (10.9.0.58)\n",
            "Requirement already satisfied: nvidia-curand-cu11==10.3.0.86 in /usr/local/lib/python3.11/dist-packages (from torch>=1.9.1->kornia) (10.3.0.86)\n",
            "Requirement already satisfied: nvidia-cusolver-cu11==11.4.1.48 in /usr/local/lib/python3.11/dist-packages (from torch>=1.9.1->kornia) (11.4.1.48)\n",
            "Requirement already satisfied: nvidia-cusparse-cu11==11.7.5.86 in /usr/local/lib/python3.11/dist-packages (from torch>=1.9.1->kornia) (11.7.5.86)\n",
            "Requirement already satisfied: nvidia-nccl-cu11==2.21.5 in /usr/local/lib/python3.11/dist-packages (from torch>=1.9.1->kornia) (2.21.5)\n",
            "Requirement already satisfied: nvidia-nvtx-cu11==11.8.86 in /usr/local/lib/python3.11/dist-packages (from torch>=1.9.1->kornia) (11.8.86)\n",
            "Requirement already satisfied: triton==3.3.0 in /usr/local/lib/python3.11/dist-packages (from torch>=1.9.1->kornia) (3.3.0)\n",
            "Requirement already satisfied: smmap<6,>=3.0.1 in /usr/local/lib/python3.11/dist-packages (from gitdb<5,>=4.0.1->gitpython!=3.1.29,>=1.0.0->wandb) (5.0.2)\n",
            "Requirement already satisfied: mpmath<1.4,>=1.1.0 in /usr/local/lib/python3.11/dist-packages (from sympy>=1.13.3->torch>=1.9.1->kornia) (1.3.0)\n",
            "Requirement already satisfied: MarkupSafe>=2.0 in /usr/local/lib/python3.11/dist-packages (from jinja2->torch>=1.9.1->kornia) (3.0.2)\n",
            "Downloading kornia-0.8.0-py2.py3-none-any.whl (1.1 MB)\n",
            "\u001b[2K   \u001b[90m━━━━━━━━━━━━━━━━━━━━━━━━━━━━━━━━━━━━━━━━\u001b[0m \u001b[32m1.1/1.1 MB\u001b[0m \u001b[31m30.4 MB/s\u001b[0m eta \u001b[36m0:00:00\u001b[0m\n",
            "\u001b[?25hDownloading kornia_rs-0.1.8-cp311-cp311-manylinux_2_17_x86_64.manylinux2014_x86_64.whl (2.1 MB)\n",
            "\u001b[2K   \u001b[90m━━━━━━━━━━━━━━━━━━━━━━━━━━━━━━━━━━━━━━━━\u001b[0m \u001b[32m2.1/2.1 MB\u001b[0m \u001b[31m65.0 MB/s\u001b[0m eta \u001b[36m0:00:00\u001b[0m\n",
            "\u001b[?25hInstalling collected packages: kornia_rs, kornia\n",
            "Successfully installed kornia-0.8.0 kornia_rs-0.1.8\n"
          ]
        }
      ]
    },
    {
      "cell_type": "code",
      "source": [
        "from torchvision.datasets.cifar import CIFAR100\n",
        "CIFAR100(root=\"/content/cifar100/\", train=True, download=True)"
      ],
      "metadata": {
        "colab": {
          "base_uri": "https://localhost:8080/"
        },
        "id": "TMG1iDORHW9B",
        "outputId": "eca36bb5-6e7f-4476-8ba3-4ce16456257d"
      },
      "execution_count": 7,
      "outputs": [
        {
          "output_type": "stream",
          "name": "stderr",
          "text": [
            "100%|██████████| 169M/169M [00:05<00:00, 30.4MB/s]\n"
          ]
        },
        {
          "output_type": "execute_result",
          "data": {
            "text/plain": [
              "Dataset CIFAR100\n",
              "    Number of datapoints: 50000\n",
              "    Root location: /content/cifar100/\n",
              "    Split: Train"
            ]
          },
          "metadata": {},
          "execution_count": 7
        }
      ]
    },
    {
      "cell_type": "code",
      "source": [
        "# %cd no-distillation/train_expert\n",
        "!python buffer.py --dataset=CIFAR100 --model=ConvNet --train_epochs=60 --num_experts=1  \\\n",
        "  --buffer_path=/content/EXPERT/CHECKPOINTS/results_100_S  --data_path=/content/cifar100 --save_interval 1"
      ],
      "metadata": {
        "colab": {
          "base_uri": "https://localhost:8080/"
        },
        "id": "QlPuOprS2GbN",
        "outputId": "9ec4facf-b08f-4d06-cd9d-5dfa9e8defcf"
      },
      "execution_count": 8,
      "outputs": [
        {
          "output_type": "stream",
          "name": "stdout",
          "text": [
            "Hyper-parameters: \n",
            " {'dataset': 'CIFAR100', 'subset': 'imagenette', 'model': 'ConvNet', 'num_experts': 1, 'lr_teacher': 0.01, 'teacher_label': False, 'selection_strategy': 'random', 'batch_train': 256, 'batch_real': 256, 'dsa': True, 'dsa_strategy': 'color_crop_cutout_flip_scale_rotate', 'data_path': '/content/cifar100', 'buffer_path': '/content/EXPERT/CHECKPOINTS/results_100_S', 'train_epochs': 60, 'zca': False, 'decay': False, 'mom': 0, 'l2': 0, 'save_interval': 1, 'device': device(type='cuda'), 'dsa_param': <softlabel.utils.ParamDiffAug object at 0x7c0a65217690>, 'decoder': None}\n",
            "BUILDING DATASET\n",
            "BUILDING DATASET\n",
            "100% 50000/50000 [00:15<00:00, 3237.20it/s]\n",
            "50000it [00:00, 3941496.42it/s]\n",
            "class c = 0: 500 real images\n",
            "class c = 1: 500 real images\n",
            "class c = 2: 500 real images\n",
            "class c = 3: 500 real images\n",
            "class c = 4: 500 real images\n",
            "class c = 5: 500 real images\n",
            "class c = 6: 500 real images\n",
            "class c = 7: 500 real images\n",
            "class c = 8: 500 real images\n",
            "class c = 9: 500 real images\n",
            "class c = 10: 500 real images\n",
            "class c = 11: 500 real images\n",
            "class c = 12: 500 real images\n",
            "class c = 13: 500 real images\n",
            "class c = 14: 500 real images\n",
            "class c = 15: 500 real images\n",
            "class c = 16: 500 real images\n",
            "class c = 17: 500 real images\n",
            "class c = 18: 500 real images\n",
            "class c = 19: 500 real images\n",
            "class c = 20: 500 real images\n",
            "class c = 21: 500 real images\n",
            "class c = 22: 500 real images\n",
            "class c = 23: 500 real images\n",
            "class c = 24: 500 real images\n",
            "class c = 25: 500 real images\n",
            "class c = 26: 500 real images\n",
            "class c = 27: 500 real images\n",
            "class c = 28: 500 real images\n",
            "class c = 29: 500 real images\n",
            "class c = 30: 500 real images\n",
            "class c = 31: 500 real images\n",
            "class c = 32: 500 real images\n",
            "class c = 33: 500 real images\n",
            "class c = 34: 500 real images\n",
            "class c = 35: 500 real images\n",
            "class c = 36: 500 real images\n",
            "class c = 37: 500 real images\n",
            "class c = 38: 500 real images\n",
            "class c = 39: 500 real images\n",
            "class c = 40: 500 real images\n",
            "class c = 41: 500 real images\n",
            "class c = 42: 500 real images\n",
            "class c = 43: 500 real images\n",
            "class c = 44: 500 real images\n",
            "class c = 45: 500 real images\n",
            "class c = 46: 500 real images\n",
            "class c = 47: 500 real images\n",
            "class c = 48: 500 real images\n",
            "class c = 49: 500 real images\n",
            "class c = 50: 500 real images\n",
            "class c = 51: 500 real images\n",
            "class c = 52: 500 real images\n",
            "class c = 53: 500 real images\n",
            "class c = 54: 500 real images\n",
            "class c = 55: 500 real images\n",
            "class c = 56: 500 real images\n",
            "class c = 57: 500 real images\n",
            "class c = 58: 500 real images\n",
            "class c = 59: 500 real images\n",
            "class c = 60: 500 real images\n",
            "class c = 61: 500 real images\n",
            "class c = 62: 500 real images\n",
            "class c = 63: 500 real images\n",
            "class c = 64: 500 real images\n",
            "class c = 65: 500 real images\n",
            "class c = 66: 500 real images\n",
            "class c = 67: 500 real images\n",
            "class c = 68: 500 real images\n",
            "class c = 69: 500 real images\n",
            "class c = 70: 500 real images\n",
            "class c = 71: 500 real images\n",
            "class c = 72: 500 real images\n",
            "class c = 73: 500 real images\n",
            "class c = 74: 500 real images\n",
            "class c = 75: 500 real images\n",
            "class c = 76: 500 real images\n",
            "class c = 77: 500 real images\n",
            "class c = 78: 500 real images\n",
            "class c = 79: 500 real images\n",
            "class c = 80: 500 real images\n",
            "class c = 81: 500 real images\n",
            "class c = 82: 500 real images\n",
            "class c = 83: 500 real images\n",
            "class c = 84: 500 real images\n",
            "class c = 85: 500 real images\n",
            "class c = 86: 500 real images\n",
            "class c = 87: 500 real images\n",
            "class c = 88: 500 real images\n",
            "class c = 89: 500 real images\n",
            "class c = 90: 500 real images\n",
            "class c = 91: 500 real images\n",
            "class c = 92: 500 real images\n",
            "class c = 93: 500 real images\n",
            "class c = 94: 500 real images\n",
            "class c = 95: 500 real images\n",
            "class c = 96: 500 real images\n",
            "class c = 97: 500 real images\n",
            "class c = 98: 500 real images\n",
            "class c = 99: 500 real images\n",
            "real images channel 0, mean = 0.0775, std = 1.3215\n",
            "real images channel 1, mean = 0.0218, std = 1.2861\n",
            "real images channel 2, mean = -0.0278, std = 1.3739\n",
            "DC augmentation parameters: \n",
            " {'crop': 4, 'scale': 0.2, 'rotate': 45, 'noise': 0.001, 'strategy': 'crop_scale_rotate'}\n",
            "/usr/local/lib/python3.11/dist-packages/torch/functional.py:554: UserWarning: torch.meshgrid: in an upcoming release, it will be required to pass the indexing argument. (Triggered internally at /pytorch/aten/src/ATen/native/TensorShape.cpp:4314.)\n",
            "  return _VF.meshgrid(tensors, **kwargs)  # type: ignore[attr-defined]\n",
            "Itr: 0\tEpoch: 0\tTrain Acc: 0.0569\tTest Acc: 0.091\n",
            "2025-05-06 13:02:03.169025 Itr: 0\tEpoch: 0\tTrain Acc: 0.0569\n",
            "Itr: 0\tEpoch: 1\tTrain Acc: 0.10998\tTest Acc: 0.1301\n",
            "2025-05-06 13:02:12.172146 Itr: 0\tEpoch: 1\tTrain Acc: 0.10998\n",
            "Itr: 0\tEpoch: 2\tTrain Acc: 0.14168\tTest Acc: 0.1569\n",
            "2025-05-06 13:02:21.028098 Itr: 0\tEpoch: 2\tTrain Acc: 0.14168\n",
            "Itr: 0\tEpoch: 3\tTrain Acc: 0.1656\tTest Acc: 0.1823\n",
            "2025-05-06 13:02:29.956668 Itr: 0\tEpoch: 3\tTrain Acc: 0.1656\n",
            "Itr: 0\tEpoch: 4\tTrain Acc: 0.19086\tTest Acc: 0.2121\n",
            "2025-05-06 13:02:39.430215 Itr: 0\tEpoch: 4\tTrain Acc: 0.19086\n",
            "Itr: 0\tEpoch: 5\tTrain Acc: 0.21122\tTest Acc: 0.2302\n",
            "2025-05-06 13:02:48.425820 Itr: 0\tEpoch: 5\tTrain Acc: 0.21122\n",
            "Itr: 0\tEpoch: 6\tTrain Acc: 0.23138\tTest Acc: 0.2436\n",
            "2025-05-06 13:02:57.549084 Itr: 0\tEpoch: 6\tTrain Acc: 0.23138\n",
            "Itr: 0\tEpoch: 7\tTrain Acc: 0.24874\tTest Acc: 0.2716\n",
            "2025-05-06 13:03:06.523502 Itr: 0\tEpoch: 7\tTrain Acc: 0.24874\n",
            "Itr: 0\tEpoch: 8\tTrain Acc: 0.25724\tTest Acc: 0.2719\n",
            "2025-05-06 13:03:16.245672 Itr: 0\tEpoch: 8\tTrain Acc: 0.25724\n",
            "Itr: 0\tEpoch: 9\tTrain Acc: 0.27456\tTest Acc: 0.2893\n",
            "2025-05-06 13:03:25.180294 Itr: 0\tEpoch: 9\tTrain Acc: 0.27456\n",
            "Itr: 0\tEpoch: 10\tTrain Acc: 0.28792\tTest Acc: 0.2964\n",
            "2025-05-06 13:03:34.245274 Itr: 0\tEpoch: 10\tTrain Acc: 0.28792\n",
            "Itr: 0\tEpoch: 11\tTrain Acc: 0.30186\tTest Acc: 0.3135\n",
            "2025-05-06 13:03:43.523441 Itr: 0\tEpoch: 11\tTrain Acc: 0.30186\n",
            "Itr: 0\tEpoch: 12\tTrain Acc: 0.31006\tTest Acc: 0.3232\n",
            "2025-05-06 13:03:53.417222 Itr: 0\tEpoch: 12\tTrain Acc: 0.31006\n",
            "Itr: 0\tEpoch: 13\tTrain Acc: 0.32364\tTest Acc: 0.3353\n",
            "2025-05-06 13:04:02.519117 Itr: 0\tEpoch: 13\tTrain Acc: 0.32364\n",
            "Itr: 0\tEpoch: 14\tTrain Acc: 0.32982\tTest Acc: 0.3318\n",
            "2025-05-06 13:04:11.745189 Itr: 0\tEpoch: 14\tTrain Acc: 0.32982\n",
            "Itr: 0\tEpoch: 15\tTrain Acc: 0.33874\tTest Acc: 0.344\n",
            "2025-05-06 13:04:20.979009 Itr: 0\tEpoch: 15\tTrain Acc: 0.33874\n",
            "Itr: 0\tEpoch: 16\tTrain Acc: 0.3463\tTest Acc: 0.3466\n",
            "2025-05-06 13:04:30.932014 Itr: 0\tEpoch: 16\tTrain Acc: 0.3463\n",
            "Itr: 0\tEpoch: 17\tTrain Acc: 0.35364\tTest Acc: 0.3542\n",
            "2025-05-06 13:04:40.678650 Itr: 0\tEpoch: 17\tTrain Acc: 0.35364\n",
            "Itr: 0\tEpoch: 18\tTrain Acc: 0.36106\tTest Acc: 0.3456\n",
            "2025-05-06 13:04:50.016424 Itr: 0\tEpoch: 18\tTrain Acc: 0.36106\n",
            "Itr: 0\tEpoch: 19\tTrain Acc: 0.36732\tTest Acc: 0.3649\n",
            "2025-05-06 13:04:59.363740 Itr: 0\tEpoch: 19\tTrain Acc: 0.36732\n",
            "Itr: 0\tEpoch: 20\tTrain Acc: 0.37372\tTest Acc: 0.3721\n",
            "2025-05-06 13:05:08.562740 Itr: 0\tEpoch: 20\tTrain Acc: 0.37372\n",
            "Itr: 0\tEpoch: 21\tTrain Acc: 0.38644\tTest Acc: 0.3807\n",
            "2025-05-06 13:05:18.685552 Itr: 0\tEpoch: 21\tTrain Acc: 0.38644\n",
            "Itr: 0\tEpoch: 22\tTrain Acc: 0.39376\tTest Acc: 0.3888\n",
            "2025-05-06 13:05:27.935082 Itr: 0\tEpoch: 22\tTrain Acc: 0.39376\n",
            "Itr: 0\tEpoch: 23\tTrain Acc: 0.39244\tTest Acc: 0.383\n",
            "2025-05-06 13:05:37.272629 Itr: 0\tEpoch: 23\tTrain Acc: 0.39244\n",
            "Itr: 0\tEpoch: 24\tTrain Acc: 0.40704\tTest Acc: 0.3825\n",
            "2025-05-06 13:05:46.763384 Itr: 0\tEpoch: 24\tTrain Acc: 0.40704\n",
            "Itr: 0\tEpoch: 25\tTrain Acc: 0.41216\tTest Acc: 0.3816\n",
            "2025-05-06 13:05:56.419280 Itr: 0\tEpoch: 25\tTrain Acc: 0.41216\n",
            "Itr: 0\tEpoch: 26\tTrain Acc: 0.41094\tTest Acc: 0.3975\n",
            "2025-05-06 13:06:06.534578 Itr: 0\tEpoch: 26\tTrain Acc: 0.41094\n",
            "Itr: 0\tEpoch: 27\tTrain Acc: 0.41618\tTest Acc: 0.394\n",
            "2025-05-06 13:06:15.755268 Itr: 0\tEpoch: 27\tTrain Acc: 0.41618\n",
            "Itr: 0\tEpoch: 28\tTrain Acc: 0.42722\tTest Acc: 0.4045\n",
            "2025-05-06 13:06:25.065212 Itr: 0\tEpoch: 28\tTrain Acc: 0.42722\n",
            "Itr: 0\tEpoch: 29\tTrain Acc: 0.43308\tTest Acc: 0.4125\n",
            "2025-05-06 13:06:34.382054 Itr: 0\tEpoch: 29\tTrain Acc: 0.43308\n",
            "Itr: 0\tEpoch: 30\tTrain Acc: 0.4369\tTest Acc: 0.4036\n",
            "2025-05-06 13:06:44.397893 Itr: 0\tEpoch: 30\tTrain Acc: 0.4369\n",
            "Itr: 0\tEpoch: 31\tTrain Acc: 0.4423\tTest Acc: 0.4227\n",
            "2025-05-06 13:06:54.065954 Itr: 0\tEpoch: 31\tTrain Acc: 0.4423\n",
            "Itr: 0\tEpoch: 32\tTrain Acc: 0.44752\tTest Acc: 0.4256\n",
            "2025-05-06 13:07:03.314167 Itr: 0\tEpoch: 32\tTrain Acc: 0.44752\n",
            "Itr: 0\tEpoch: 33\tTrain Acc: 0.45448\tTest Acc: 0.4264\n",
            "2025-05-06 13:07:12.658647 Itr: 0\tEpoch: 33\tTrain Acc: 0.45448\n",
            "Itr: 0\tEpoch: 34\tTrain Acc: 0.46084\tTest Acc: 0.4259\n",
            "2025-05-06 13:07:21.968204 Itr: 0\tEpoch: 34\tTrain Acc: 0.46084\n",
            "Itr: 0\tEpoch: 35\tTrain Acc: 0.45992\tTest Acc: 0.4364\n",
            "2025-05-06 13:07:32.088604 Itr: 0\tEpoch: 35\tTrain Acc: 0.45992\n",
            "Itr: 0\tEpoch: 36\tTrain Acc: 0.47028\tTest Acc: 0.429\n",
            "2025-05-06 13:07:41.443498 Itr: 0\tEpoch: 36\tTrain Acc: 0.47028\n",
            "Itr: 0\tEpoch: 37\tTrain Acc: 0.47252\tTest Acc: 0.4432\n",
            "2025-05-06 13:07:50.726824 Itr: 0\tEpoch: 37\tTrain Acc: 0.47252\n",
            "Itr: 0\tEpoch: 38\tTrain Acc: 0.47694\tTest Acc: 0.4433\n",
            "2025-05-06 13:08:00.029125 Itr: 0\tEpoch: 38\tTrain Acc: 0.47694\n",
            "Itr: 0\tEpoch: 39\tTrain Acc: 0.48276\tTest Acc: 0.453\n",
            "2025-05-06 13:08:09.708717 Itr: 0\tEpoch: 39\tTrain Acc: 0.48276\n",
            "Itr: 0\tEpoch: 40\tTrain Acc: 0.48102\tTest Acc: 0.4458\n",
            "2025-05-06 13:08:19.633721 Itr: 0\tEpoch: 40\tTrain Acc: 0.48102\n",
            "Itr: 0\tEpoch: 41\tTrain Acc: 0.48682\tTest Acc: 0.4533\n",
            "2025-05-06 13:08:28.884718 Itr: 0\tEpoch: 41\tTrain Acc: 0.48682\n",
            "Itr: 0\tEpoch: 42\tTrain Acc: 0.49276\tTest Acc: 0.4507\n",
            "2025-05-06 13:08:38.117140 Itr: 0\tEpoch: 42\tTrain Acc: 0.49276\n",
            "Itr: 0\tEpoch: 43\tTrain Acc: 0.49616\tTest Acc: 0.4519\n",
            "2025-05-06 13:08:47.355904 Itr: 0\tEpoch: 43\tTrain Acc: 0.49616\n",
            "Itr: 0\tEpoch: 44\tTrain Acc: 0.50054\tTest Acc: 0.4425\n",
            "2025-05-06 13:08:57.355539 Itr: 0\tEpoch: 44\tTrain Acc: 0.50054\n",
            "Itr: 0\tEpoch: 45\tTrain Acc: 0.5045\tTest Acc: 0.4625\n",
            "2025-05-06 13:09:06.835444 Itr: 0\tEpoch: 45\tTrain Acc: 0.5045\n",
            "Itr: 0\tEpoch: 46\tTrain Acc: 0.50844\tTest Acc: 0.4697\n",
            "2025-05-06 13:09:16.139495 Itr: 0\tEpoch: 46\tTrain Acc: 0.50844\n",
            "Itr: 0\tEpoch: 47\tTrain Acc: 0.5104\tTest Acc: 0.4739\n",
            "2025-05-06 13:09:25.468670 Itr: 0\tEpoch: 47\tTrain Acc: 0.5104\n",
            "Itr: 0\tEpoch: 48\tTrain Acc: 0.5196\tTest Acc: 0.4718\n",
            "2025-05-06 13:09:34.802010 Itr: 0\tEpoch: 48\tTrain Acc: 0.5196\n",
            "Itr: 0\tEpoch: 49\tTrain Acc: 0.51946\tTest Acc: 0.4666\n",
            "2025-05-06 13:09:45.022207 Itr: 0\tEpoch: 49\tTrain Acc: 0.51946\n",
            "Itr: 0\tEpoch: 50\tTrain Acc: 0.52346\tTest Acc: 0.4725\n",
            "2025-05-06 13:09:54.608779 Itr: 0\tEpoch: 50\tTrain Acc: 0.52346\n",
            "Itr: 0\tEpoch: 51\tTrain Acc: 0.52678\tTest Acc: 0.4748\n",
            "2025-05-06 13:10:03.900946 Itr: 0\tEpoch: 51\tTrain Acc: 0.52678\n",
            "Itr: 0\tEpoch: 52\tTrain Acc: 0.53098\tTest Acc: 0.4645\n",
            "2025-05-06 13:10:13.207413 Itr: 0\tEpoch: 52\tTrain Acc: 0.53098\n",
            "Itr: 0\tEpoch: 53\tTrain Acc: 0.53786\tTest Acc: 0.478\n",
            "2025-05-06 13:10:22.942851 Itr: 0\tEpoch: 53\tTrain Acc: 0.53786\n",
            "Itr: 0\tEpoch: 54\tTrain Acc: 0.536\tTest Acc: 0.4633\n",
            "2025-05-06 13:10:32.934064 Itr: 0\tEpoch: 54\tTrain Acc: 0.536\n",
            "Itr: 0\tEpoch: 55\tTrain Acc: 0.53714\tTest Acc: 0.4787\n",
            "2025-05-06 13:10:42.135512 Itr: 0\tEpoch: 55\tTrain Acc: 0.53714\n",
            "Itr: 0\tEpoch: 56\tTrain Acc: 0.54286\tTest Acc: 0.4883\n",
            "2025-05-06 13:10:51.525180 Itr: 0\tEpoch: 56\tTrain Acc: 0.54286\n",
            "Itr: 0\tEpoch: 57\tTrain Acc: 0.54662\tTest Acc: 0.4679\n",
            "2025-05-06 13:11:00.872027 Itr: 0\tEpoch: 57\tTrain Acc: 0.54662\n",
            "Itr: 0\tEpoch: 58\tTrain Acc: 0.54934\tTest Acc: 0.491\n",
            "2025-05-06 13:11:10.798890 Itr: 0\tEpoch: 58\tTrain Acc: 0.54934\n",
            "Itr: 0\tEpoch: 59\tTrain Acc: 0.55592\tTest Acc: 0.4883\n",
            "2025-05-06 13:11:20.380079 Itr: 0\tEpoch: 59\tTrain Acc: 0.55592\n",
            "Saving /content/EXPERT/CHECKPOINTS/results_100_S/CIFAR100_NO_ZCA/ConvNet/replay_buffer_0.pt\n"
          ]
        }
      ]
    },
    {
      "cell_type": "code",
      "source": [
        "%cd /content/no-distillation/softlabel/"
      ],
      "metadata": {
        "id": "fq8LXFb2v6VM"
      },
      "execution_count": null,
      "outputs": []
    },
    {
      "cell_type": "markdown",
      "source": [
        "Chnage name to replay_buffer_1.pt"
      ],
      "metadata": {
        "id": "fmzmtVvsxcRN"
      }
    },
    {
      "cell_type": "code",
      "source": [
        "!python nodistill.py --dataset=CIFAR100 --ipc=50 --expt_type=nothing  --teacher_label  \\\n",
        "  --max_expert_epoch=60 --lr_net=1.e-02  --expert_path=/content/EXPERT/CHECKPOINTS/results_100_S  \\\n",
        "  --data_path=/content/cifar100  --student_model=ConvNet \\\n",
        "  --teacher_model=ConvNet --epoch_eval_train 3000"
      ],
      "metadata": {
        "colab": {
          "base_uri": "https://localhost:8080/"
        },
        "id": "WsiOa5cOt1mc",
        "outputId": "22657759-8e55-405b-8580-e50556f708b1"
      },
      "execution_count": null,
      "outputs": [
        {
          "output_type": "stream",
          "name": "stdout",
          "text": [
            "CUDNN STATUS: True\n",
            "Hyper-parameters: \n",
            " {'dataset': 'CIFAR100', 'data_path': '/content/cifar100', 'expert_path': '/content/EXPERT/CHECKPOINTS/results_100_S', 'ipc': 50, 'teacher_model': 'ConvNet', 'student_model': 'ConvNet', 'epoch_eval_train': 3000, 'optimizer': 'SGD', 'lr_net': 0.01, 'expt_type': 'nothing', 'num_eval': 5, 'batch_train': 256, 'batch_real': 256, 'zca': False, 'load_checkpoint': None, 'selection_strategy': 'random', 'dsa': True, 'dsa_strategy': 'color_crop_cutout_flip_scale_rotate', 'teacher_label': True, 'max_expert_epoch': 60, 'min_expert_epoch': 1, 'ensemble': False, 'temp': 1.0, 'wandb': False, 'run_name': None, 'notes': 'No description', 'device': 'cuda', 'im_size': [32, 32], 'dc_aug_param': None, 'dsa_param': <utils.ParamDiffAug object at 0x128ed7f95290>, '_wandb': {}, 'zca_trans': None, 'distributed': False}\n",
            "Evaluation model:  ConvNet\n",
            "---------------Build label to index map--------------\n",
            "50000it [00:11, 4250.85it/s]\n",
            "initialize synthetic data from random real images\n",
            "Expert Dir: /content/EXPERT/CHECKPOINTS/results_100_S/CIFAR100_NO_ZCA/ConvNet 2 buffers detected\n",
            "[2025-05-06 13:25:01] training begins\n",
            "-------------------------\n",
            "Experiment ID = 0\n",
            "loading file /content/EXPERT/CHECKPOINTS/results_100_S/CIFAR100_NO_ZCA/ConvNet/replay_buffer_1.pt\n",
            "-------------------------\n",
            "Evaluation\n",
            "Experiment ID = 0, model_train = ConvNet, model_eval = ConvNet\n",
            "DSA augmentation strategy: \n",
            " color_crop_cutout_flip_scale_rotate\n",
            "DSA augmentation parameters: \n",
            " {'aug_mode': 'S', 'prob_flip': 0.5, 'ratio_scale': 1.2, 'ratio_rotate': 15.0, 'ratio_crop_pad': 0.125, 'ratio_cutout': 0.5, 'ratio_noise': 0.05, 'brightness': 1.0, 'saturation': 2.0, 'contrast': 0.5}\n",
            "  0% 0/3001 [00:00<?, ?it/s]/usr/local/lib/python3.11/dist-packages/torch/functional.py:554: UserWarning: torch.meshgrid: in an upcoming release, it will be required to pass the indexing argument. (Triggered internally at /pytorch/aten/src/ATen/native/TensorShape.cpp:4314.)\n",
            "  return _VF.meshgrid(tensors, **kwargs)  # type: ignore[attr-defined]\n",
            " 76% 2285/3001 [24:22<07:27,  1.60it/s]"
          ]
        }
      ]
    }
  ]
}