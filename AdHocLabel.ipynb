{
  "nbformat": 4,
  "nbformat_minor": 0,
  "metadata": {
    "colab": {
      "provenance": [],
      "gpuType": "T4",
      "collapsed_sections": [
        "wyR7lH3JCwP0"
      ]
    },
    "kernelspec": {
      "name": "python3",
      "display_name": "Python 3"
    },
    "language_info": {
      "name": "python"
    },
    "accelerator": "GPU"
  },
  "cells": [
    {
      "cell_type": "markdown",
      "source": [
        "#Pre-reqs"
      ],
      "metadata": {
        "id": "wyR7lH3JCwP0"
      }
    },
    {
      "cell_type": "code",
      "execution_count": null,
      "metadata": {
        "colab": {
          "base_uri": "https://localhost:8080/"
        },
        "id": "gQemt2_J0opT",
        "outputId": "061bf19a-c7fa-49bc-c6dc-49e029691aff"
      },
      "outputs": [
        {
          "output_type": "stream",
          "name": "stdout",
          "text": [
            "Cloning into 'no-distillation'...\n",
            "remote: Enumerating objects: 112, done.\u001b[K\n",
            "remote: Counting objects: 100% (112/112), done.\u001b[K\n",
            "remote: Compressing objects: 100% (92/92), done.\u001b[K\n",
            "remote: Total 112 (delta 38), reused 75 (delta 19), pack-reused 0 (from 0)\u001b[K\n",
            "Receiving objects: 100% (112/112), 13.22 MiB | 23.27 MiB/s, done.\n",
            "Resolving deltas: 100% (38/38), done.\n"
          ]
        }
      ],
      "source": [
        "!git clone https://github.com/sunnytqin/no-distillation.git"
      ]
    },
    {
      "cell_type": "code",
      "source": [
        "!pwd"
      ],
      "metadata": {
        "colab": {
          "base_uri": "https://localhost:8080/"
        },
        "id": "LYTfBskKnIJ2",
        "outputId": "eba3b574-b86e-42a7-db8d-38fb303d0f65"
      },
      "execution_count": null,
      "outputs": [
        {
          "output_type": "stream",
          "name": "stdout",
          "text": [
            "/content\n"
          ]
        }
      ]
    },
    {
      "cell_type": "code",
      "source": [
        "import kagglehub\n",
        "\n",
        "# Download latest version\n",
        "path = kagglehub.dataset_download(\"akash2sharma/tiny-imagenet\")\n",
        "\n",
        "print(\"Path to dataset files:\", path)"
      ],
      "metadata": {
        "colab": {
          "base_uri": "https://localhost:8080/",
          "height": 176
        },
        "id": "z0iBtVyMMfUb",
        "outputId": "185cd969-531f-46a7-cc05-bc096efeb6d5"
      },
      "execution_count": null,
      "outputs": [
        {
          "output_type": "error",
          "ename": "ModuleNotFoundError",
          "evalue": "No module named 'kagglehub'",
          "traceback": [
            "\u001b[31m---------------------------------------------------------------------------\u001b[39m",
            "\u001b[31mModuleNotFoundError\u001b[39m                       Traceback (most recent call last)",
            "\u001b[36mCell\u001b[39m\u001b[36m \u001b[39m\u001b[32mIn[1]\u001b[39m\u001b[32m, line 1\u001b[39m\n\u001b[32m----> \u001b[39m\u001b[32m1\u001b[39m \u001b[38;5;28;01mimport\u001b[39;00m\u001b[38;5;250m \u001b[39m\u001b[34;01mkagglehub\u001b[39;00m\n\u001b[32m      3\u001b[39m \u001b[38;5;66;03m# Download latest version\u001b[39;00m\n\u001b[32m      4\u001b[39m path = kagglehub.dataset_download(\u001b[33m\"\u001b[39m\u001b[33makash2sharma/tiny-imagenet\u001b[39m\u001b[33m\"\u001b[39m)\n",
            "\u001b[31mModuleNotFoundError\u001b[39m: No module named 'kagglehub'"
          ]
        }
      ]
    },
    {
      "cell_type": "code",
      "source": [
        "%cd no-distillation/train_expert/"
      ],
      "metadata": {
        "colab": {
          "base_uri": "https://localhost:8080/"
        },
        "id": "5U0JYdYK-iJk",
        "outputId": "8e9b5e3b-1fcf-4920-fba2-e7824732b947"
      },
      "execution_count": null,
      "outputs": [
        {
          "output_type": "stream",
          "name": "stdout",
          "text": [
            "[Errno 2] No such file or directory: 'no-distillation/train_expert/'\n",
            "/content/no-distillation/softlabel\n"
          ]
        }
      ]
    },
    {
      "cell_type": "code",
      "source": [
        "!pip uninstall -y torch torchvision torchaudio"
      ],
      "metadata": {
        "colab": {
          "base_uri": "https://localhost:8080/"
        },
        "id": "kkxFKfSIA20f",
        "outputId": "dd399cf5-49a9-4fca-967f-218a330f28b0"
      },
      "execution_count": null,
      "outputs": [
        {
          "output_type": "stream",
          "name": "stdout",
          "text": [
            "Found existing installation: torch 2.6.0+cu124\n",
            "Uninstalling torch-2.6.0+cu124:\n",
            "  Successfully uninstalled torch-2.6.0+cu124\n",
            "Found existing installation: torchvision 0.21.0+cu124\n",
            "Uninstalling torchvision-0.21.0+cu124:\n",
            "  Successfully uninstalled torchvision-0.21.0+cu124\n",
            "Found existing installation: torchaudio 2.6.0+cu124\n",
            "Uninstalling torchaudio-2.6.0+cu124:\n",
            "  Successfully uninstalled torchaudio-2.6.0+cu124\n"
          ]
        }
      ]
    },
    {
      "cell_type": "code",
      "source": [
        "!pip3 install torch --index-url https://download.pytorch.org/whl/cu118\n",
        "!pip3 install torchvision --index-url https://download.pytorch.org/whl/cu118\n",
        "!pip3 install kornia einops numpy tqdm wandb scipy"
      ],
      "metadata": {
        "colab": {
          "base_uri": "https://localhost:8080/"
        },
        "id": "dBKhS_xV012B",
        "outputId": "340a2238-51a1-4979-dd1f-61861469541a"
      },
      "execution_count": null,
      "outputs": [
        {
          "output_type": "stream",
          "name": "stdout",
          "text": [
            "Looking in indexes: https://download.pytorch.org/whl/cu118\n",
            "Collecting torch\n",
            "  Downloading https://download.pytorch.org/whl/cu118/torch-2.7.0%2Bcu118-cp311-cp311-manylinux_2_28_x86_64.whl.metadata (28 kB)\n",
            "Requirement already satisfied: filelock in /usr/local/lib/python3.11/dist-packages (from torch) (3.18.0)\n",
            "Requirement already satisfied: typing-extensions>=4.10.0 in /usr/local/lib/python3.11/dist-packages (from torch) (4.13.2)\n",
            "Collecting sympy>=1.13.3 (from torch)\n",
            "  Downloading https://download.pytorch.org/whl/sympy-1.13.3-py3-none-any.whl.metadata (12 kB)\n",
            "Requirement already satisfied: networkx in /usr/local/lib/python3.11/dist-packages (from torch) (3.4.2)\n",
            "Requirement already satisfied: jinja2 in /usr/local/lib/python3.11/dist-packages (from torch) (3.1.6)\n",
            "Requirement already satisfied: fsspec in /usr/local/lib/python3.11/dist-packages (from torch) (2025.3.2)\n",
            "Collecting nvidia-cuda-nvrtc-cu11==11.8.89 (from torch)\n",
            "  Downloading https://download.pytorch.org/whl/cu118/nvidia_cuda_nvrtc_cu11-11.8.89-py3-none-manylinux1_x86_64.whl (23.2 MB)\n",
            "\u001b[2K     \u001b[90m━━━━━━━━━━━━━━━━━━━━━━━━━━━━━━━━━━━━━━━━\u001b[0m \u001b[32m23.2/23.2 MB\u001b[0m \u001b[31m61.8 MB/s\u001b[0m eta \u001b[36m0:00:00\u001b[0m\n",
            "\u001b[?25hCollecting nvidia-cuda-runtime-cu11==11.8.89 (from torch)\n",
            "  Downloading https://download.pytorch.org/whl/cu118/nvidia_cuda_runtime_cu11-11.8.89-py3-none-manylinux1_x86_64.whl (875 kB)\n",
            "\u001b[2K     \u001b[90m━━━━━━━━━━━━━━━━━━━━━━━━━━━━━━━━━━━━━━\u001b[0m \u001b[32m875.6/875.6 kB\u001b[0m \u001b[31m51.1 MB/s\u001b[0m eta \u001b[36m0:00:00\u001b[0m\n",
            "\u001b[?25hCollecting nvidia-cuda-cupti-cu11==11.8.87 (from torch)\n",
            "  Downloading https://download.pytorch.org/whl/cu118/nvidia_cuda_cupti_cu11-11.8.87-py3-none-manylinux1_x86_64.whl (13.1 MB)\n",
            "\u001b[2K     \u001b[90m━━━━━━━━━━━━━━━━━━━━━━━━━━━━━━━━━━━━━━━━\u001b[0m \u001b[32m13.1/13.1 MB\u001b[0m \u001b[31m53.8 MB/s\u001b[0m eta \u001b[36m0:00:00\u001b[0m\n",
            "\u001b[?25hCollecting nvidia-cudnn-cu11==9.1.0.70 (from torch)\n",
            "  Downloading https://download.pytorch.org/whl/cu118/nvidia_cudnn_cu11-9.1.0.70-py3-none-manylinux2014_x86_64.whl (663.9 MB)\n",
            "\u001b[2K     \u001b[90m━━━━━━━━━━━━━━━━━━━━━━━━━━━━━━━━━━━━━━━\u001b[0m \u001b[32m663.9/663.9 MB\u001b[0m \u001b[31m2.8 MB/s\u001b[0m eta \u001b[36m0:00:00\u001b[0m\n",
            "\u001b[?25hCollecting nvidia-cublas-cu11==11.11.3.6 (from torch)\n",
            "  Downloading https://download.pytorch.org/whl/cu118/nvidia_cublas_cu11-11.11.3.6-py3-none-manylinux1_x86_64.whl (417.9 MB)\n",
            "\u001b[2K     \u001b[90m━━━━━━━━━━━━━━━━━━━━━━━━━━━━━━━━━━━━━━━\u001b[0m \u001b[32m417.9/417.9 MB\u001b[0m \u001b[31m3.3 MB/s\u001b[0m eta \u001b[36m0:00:00\u001b[0m\n",
            "\u001b[?25hCollecting nvidia-cufft-cu11==10.9.0.58 (from torch)\n",
            "  Downloading https://download.pytorch.org/whl/cu118/nvidia_cufft_cu11-10.9.0.58-py3-none-manylinux1_x86_64.whl (168.4 MB)\n",
            "\u001b[2K     \u001b[90m━━━━━━━━━━━━━━━━━━━━━━━━━━━━━━━━━━━━━━━\u001b[0m \u001b[32m168.4/168.4 MB\u001b[0m \u001b[31m6.1 MB/s\u001b[0m eta \u001b[36m0:00:00\u001b[0m\n",
            "\u001b[?25hCollecting nvidia-curand-cu11==10.3.0.86 (from torch)\n",
            "  Downloading https://download.pytorch.org/whl/cu118/nvidia_curand_cu11-10.3.0.86-py3-none-manylinux1_x86_64.whl (58.1 MB)\n",
            "\u001b[2K     \u001b[90m━━━━━━━━━━━━━━━━━━━━━━━━━━━━━━━━━━━━━━━━\u001b[0m \u001b[32m58.1/58.1 MB\u001b[0m \u001b[31m11.8 MB/s\u001b[0m eta \u001b[36m0:00:00\u001b[0m\n",
            "\u001b[?25hCollecting nvidia-cusolver-cu11==11.4.1.48 (from torch)\n",
            "  Downloading https://download.pytorch.org/whl/cu118/nvidia_cusolver_cu11-11.4.1.48-py3-none-manylinux1_x86_64.whl (128.2 MB)\n",
            "\u001b[2K     \u001b[90m━━━━━━━━━━━━━━━━━━━━━━━━━━━━━━━━━━━━━━━\u001b[0m \u001b[32m128.2/128.2 MB\u001b[0m \u001b[31m7.4 MB/s\u001b[0m eta \u001b[36m0:00:00\u001b[0m\n",
            "\u001b[?25hCollecting nvidia-cusparse-cu11==11.7.5.86 (from torch)\n",
            "  Downloading https://download.pytorch.org/whl/cu118/nvidia_cusparse_cu11-11.7.5.86-py3-none-manylinux1_x86_64.whl (204.1 MB)\n",
            "\u001b[2K     \u001b[90m━━━━━━━━━━━━━━━━━━━━━━━━━━━━━━━━━━━━━━━\u001b[0m \u001b[32m204.1/204.1 MB\u001b[0m \u001b[31m6.8 MB/s\u001b[0m eta \u001b[36m0:00:00\u001b[0m\n",
            "\u001b[?25hCollecting nvidia-nccl-cu11==2.21.5 (from torch)\n",
            "  Downloading https://download.pytorch.org/whl/cu118/nvidia_nccl_cu11-2.21.5-py3-none-manylinux2014_x86_64.whl (147.8 MB)\n",
            "\u001b[2K     \u001b[90m━━━━━━━━━━━━━━━━━━━━━━━━━━━━━━━━━━━━━━━\u001b[0m \u001b[32m147.8/147.8 MB\u001b[0m \u001b[31m6.7 MB/s\u001b[0m eta \u001b[36m0:00:00\u001b[0m\n",
            "\u001b[?25hCollecting nvidia-nvtx-cu11==11.8.86 (from torch)\n",
            "  Downloading https://download.pytorch.org/whl/cu118/nvidia_nvtx_cu11-11.8.86-py3-none-manylinux1_x86_64.whl (99 kB)\n",
            "\u001b[2K     \u001b[90m━━━━━━━━━━━━━━━━━━━━━━━━━━━━━━━━━━━━━━━━\u001b[0m \u001b[32m99.1/99.1 kB\u001b[0m \u001b[31m8.7 MB/s\u001b[0m eta \u001b[36m0:00:00\u001b[0m\n",
            "\u001b[?25hCollecting triton==3.3.0 (from torch)\n",
            "  Downloading https://download.pytorch.org/whl/triton-3.3.0-cp311-cp311-manylinux_2_27_x86_64.manylinux_2_28_x86_64.whl.metadata (1.5 kB)\n",
            "Requirement already satisfied: setuptools>=40.8.0 in /usr/local/lib/python3.11/dist-packages (from triton==3.3.0->torch) (75.2.0)\n",
            "Requirement already satisfied: mpmath<1.4,>=1.1.0 in /usr/local/lib/python3.11/dist-packages (from sympy>=1.13.3->torch) (1.3.0)\n",
            "Requirement already satisfied: MarkupSafe>=2.0 in /usr/local/lib/python3.11/dist-packages (from jinja2->torch) (3.0.2)\n",
            "Downloading https://download.pytorch.org/whl/cu118/torch-2.7.0%2Bcu118-cp311-cp311-manylinux_2_28_x86_64.whl (955.6 MB)\n",
            "\u001b[2K   \u001b[90m━━━━━━━━━━━━━━━━━━━━━━━━━━━━━━━━━━━━━━━━\u001b[0m \u001b[32m955.6/955.6 MB\u001b[0m \u001b[31m1.6 MB/s\u001b[0m eta \u001b[36m0:00:00\u001b[0m\n",
            "\u001b[?25hDownloading https://download.pytorch.org/whl/triton-3.3.0-cp311-cp311-manylinux_2_27_x86_64.manylinux_2_28_x86_64.whl (156.5 MB)\n",
            "\u001b[2K   \u001b[90m━━━━━━━━━━━━━━━━━━━━━━━━━━━━━━━━━━━━━━━━\u001b[0m \u001b[32m156.5/156.5 MB\u001b[0m \u001b[31m6.5 MB/s\u001b[0m eta \u001b[36m0:00:00\u001b[0m\n",
            "\u001b[?25hDownloading https://download.pytorch.org/whl/sympy-1.13.3-py3-none-any.whl (6.2 MB)\n",
            "\u001b[2K   \u001b[90m━━━━━━━━━━━━━━━━━━━━━━━━━━━━━━━━━━━━━━━━\u001b[0m \u001b[32m6.2/6.2 MB\u001b[0m \u001b[31m63.9 MB/s\u001b[0m eta \u001b[36m0:00:00\u001b[0m\n",
            "\u001b[?25hInstalling collected packages: triton, sympy, nvidia-nvtx-cu11, nvidia-nccl-cu11, nvidia-cusparse-cu11, nvidia-curand-cu11, nvidia-cufft-cu11, nvidia-cuda-runtime-cu11, nvidia-cuda-nvrtc-cu11, nvidia-cuda-cupti-cu11, nvidia-cublas-cu11, nvidia-cusolver-cu11, nvidia-cudnn-cu11, torch\n",
            "  Attempting uninstall: triton\n",
            "    Found existing installation: triton 3.2.0\n",
            "    Uninstalling triton-3.2.0:\n",
            "      Successfully uninstalled triton-3.2.0\n",
            "  Attempting uninstall: sympy\n",
            "    Found existing installation: sympy 1.13.1\n",
            "    Uninstalling sympy-1.13.1:\n",
            "      Successfully uninstalled sympy-1.13.1\n",
            "\u001b[31mERROR: pip's dependency resolver does not currently take into account all the packages that are installed. This behaviour is the source of the following dependency conflicts.\n",
            "timm 1.0.15 requires torchvision, which is not installed.\n",
            "fastai 2.7.19 requires torchvision>=0.11, which is not installed.\n",
            "fastai 2.7.19 requires torch<2.7,>=1.10, but you have torch 2.7.0+cu118 which is incompatible.\u001b[0m\u001b[31m\n",
            "\u001b[0mSuccessfully installed nvidia-cublas-cu11-11.11.3.6 nvidia-cuda-cupti-cu11-11.8.87 nvidia-cuda-nvrtc-cu11-11.8.89 nvidia-cuda-runtime-cu11-11.8.89 nvidia-cudnn-cu11-9.1.0.70 nvidia-cufft-cu11-10.9.0.58 nvidia-curand-cu11-10.3.0.86 nvidia-cusolver-cu11-11.4.1.48 nvidia-cusparse-cu11-11.7.5.86 nvidia-nccl-cu11-2.21.5 nvidia-nvtx-cu11-11.8.86 sympy-1.13.3 torch-2.7.0+cu118 triton-3.3.0\n",
            "Looking in indexes: https://download.pytorch.org/whl/cu118\n",
            "Collecting torchvision\n",
            "  Downloading https://download.pytorch.org/whl/cu118/torchvision-0.22.0%2Bcu118-cp311-cp311-manylinux_2_28_x86_64.whl.metadata (6.1 kB)\n",
            "Requirement already satisfied: numpy in /usr/local/lib/python3.11/dist-packages (from torchvision) (2.0.2)\n",
            "Requirement already satisfied: torch==2.7.0 in /usr/local/lib/python3.11/dist-packages (from torchvision) (2.7.0+cu118)\n",
            "Requirement already satisfied: pillow!=8.3.*,>=5.3.0 in /usr/local/lib/python3.11/dist-packages (from torchvision) (11.2.1)\n",
            "Requirement already satisfied: filelock in /usr/local/lib/python3.11/dist-packages (from torch==2.7.0->torchvision) (3.18.0)\n",
            "Requirement already satisfied: typing-extensions>=4.10.0 in /usr/local/lib/python3.11/dist-packages (from torch==2.7.0->torchvision) (4.13.2)\n",
            "Requirement already satisfied: sympy>=1.13.3 in /usr/local/lib/python3.11/dist-packages (from torch==2.7.0->torchvision) (1.13.3)\n",
            "Requirement already satisfied: networkx in /usr/local/lib/python3.11/dist-packages (from torch==2.7.0->torchvision) (3.4.2)\n",
            "Requirement already satisfied: jinja2 in /usr/local/lib/python3.11/dist-packages (from torch==2.7.0->torchvision) (3.1.6)\n",
            "Requirement already satisfied: fsspec in /usr/local/lib/python3.11/dist-packages (from torch==2.7.0->torchvision) (2025.3.2)\n",
            "Requirement already satisfied: nvidia-cuda-nvrtc-cu11==11.8.89 in /usr/local/lib/python3.11/dist-packages (from torch==2.7.0->torchvision) (11.8.89)\n",
            "Requirement already satisfied: nvidia-cuda-runtime-cu11==11.8.89 in /usr/local/lib/python3.11/dist-packages (from torch==2.7.0->torchvision) (11.8.89)\n",
            "Requirement already satisfied: nvidia-cuda-cupti-cu11==11.8.87 in /usr/local/lib/python3.11/dist-packages (from torch==2.7.0->torchvision) (11.8.87)\n",
            "Requirement already satisfied: nvidia-cudnn-cu11==9.1.0.70 in /usr/local/lib/python3.11/dist-packages (from torch==2.7.0->torchvision) (9.1.0.70)\n",
            "Requirement already satisfied: nvidia-cublas-cu11==11.11.3.6 in /usr/local/lib/python3.11/dist-packages (from torch==2.7.0->torchvision) (11.11.3.6)\n",
            "Requirement already satisfied: nvidia-cufft-cu11==10.9.0.58 in /usr/local/lib/python3.11/dist-packages (from torch==2.7.0->torchvision) (10.9.0.58)\n",
            "Requirement already satisfied: nvidia-curand-cu11==10.3.0.86 in /usr/local/lib/python3.11/dist-packages (from torch==2.7.0->torchvision) (10.3.0.86)\n",
            "Requirement already satisfied: nvidia-cusolver-cu11==11.4.1.48 in /usr/local/lib/python3.11/dist-packages (from torch==2.7.0->torchvision) (11.4.1.48)\n",
            "Requirement already satisfied: nvidia-cusparse-cu11==11.7.5.86 in /usr/local/lib/python3.11/dist-packages (from torch==2.7.0->torchvision) (11.7.5.86)\n",
            "Requirement already satisfied: nvidia-nccl-cu11==2.21.5 in /usr/local/lib/python3.11/dist-packages (from torch==2.7.0->torchvision) (2.21.5)\n",
            "Requirement already satisfied: nvidia-nvtx-cu11==11.8.86 in /usr/local/lib/python3.11/dist-packages (from torch==2.7.0->torchvision) (11.8.86)\n",
            "Requirement already satisfied: triton==3.3.0 in /usr/local/lib/python3.11/dist-packages (from torch==2.7.0->torchvision) (3.3.0)\n",
            "Requirement already satisfied: setuptools>=40.8.0 in /usr/local/lib/python3.11/dist-packages (from triton==3.3.0->torch==2.7.0->torchvision) (75.2.0)\n",
            "Requirement already satisfied: mpmath<1.4,>=1.1.0 in /usr/local/lib/python3.11/dist-packages (from sympy>=1.13.3->torch==2.7.0->torchvision) (1.3.0)\n",
            "Requirement already satisfied: MarkupSafe>=2.0 in /usr/local/lib/python3.11/dist-packages (from jinja2->torch==2.7.0->torchvision) (3.0.2)\n",
            "Downloading https://download.pytorch.org/whl/cu118/torchvision-0.22.0%2Bcu118-cp311-cp311-manylinux_2_28_x86_64.whl (6.7 MB)\n",
            "\u001b[2K   \u001b[90m━━━━━━━━━━━━━━━━━━━━━━━━━━━━━━━━━━━━━━━━\u001b[0m \u001b[32m6.7/6.7 MB\u001b[0m \u001b[31m77.5 MB/s\u001b[0m eta \u001b[36m0:00:00\u001b[0m\n",
            "\u001b[?25hInstalling collected packages: torchvision\n",
            "\u001b[31mERROR: pip's dependency resolver does not currently take into account all the packages that are installed. This behaviour is the source of the following dependency conflicts.\n",
            "fastai 2.7.19 requires torch<2.7,>=1.10, but you have torch 2.7.0+cu118 which is incompatible.\u001b[0m\u001b[31m\n",
            "\u001b[0mSuccessfully installed torchvision-0.22.0+cu118\n",
            "Collecting kornia\n",
            "  Downloading kornia-0.8.0-py2.py3-none-any.whl.metadata (17 kB)\n",
            "Requirement already satisfied: einops in /usr/local/lib/python3.11/dist-packages (0.8.1)\n",
            "Requirement already satisfied: numpy in /usr/local/lib/python3.11/dist-packages (2.0.2)\n",
            "Requirement already satisfied: tqdm in /usr/local/lib/python3.11/dist-packages (4.67.1)\n",
            "Requirement already satisfied: wandb in /usr/local/lib/python3.11/dist-packages (0.19.10)\n",
            "Requirement already satisfied: scipy in /usr/local/lib/python3.11/dist-packages (1.15.2)\n",
            "Collecting kornia_rs>=0.1.0 (from kornia)\n",
            "  Downloading kornia_rs-0.1.8-cp311-cp311-manylinux_2_17_x86_64.manylinux2014_x86_64.whl.metadata (10 kB)\n",
            "Requirement already satisfied: packaging in /usr/local/lib/python3.11/dist-packages (from kornia) (24.2)\n",
            "Requirement already satisfied: torch>=1.9.1 in /usr/local/lib/python3.11/dist-packages (from kornia) (2.7.0+cu118)\n",
            "Requirement already satisfied: click!=8.0.0,>=7.1 in /usr/local/lib/python3.11/dist-packages (from wandb) (8.1.8)\n",
            "Requirement already satisfied: docker-pycreds>=0.4.0 in /usr/local/lib/python3.11/dist-packages (from wandb) (0.4.0)\n",
            "Requirement already satisfied: gitpython!=3.1.29,>=1.0.0 in /usr/local/lib/python3.11/dist-packages (from wandb) (3.1.44)\n",
            "Requirement already satisfied: platformdirs in /usr/local/lib/python3.11/dist-packages (from wandb) (4.3.7)\n",
            "Requirement already satisfied: protobuf!=4.21.0,!=5.28.0,<7,>=3.19.0 in /usr/local/lib/python3.11/dist-packages (from wandb) (5.29.4)\n",
            "Requirement already satisfied: psutil>=5.0.0 in /usr/local/lib/python3.11/dist-packages (from wandb) (5.9.5)\n",
            "Requirement already satisfied: pydantic<3 in /usr/local/lib/python3.11/dist-packages (from wandb) (2.11.4)\n",
            "Requirement already satisfied: pyyaml in /usr/local/lib/python3.11/dist-packages (from wandb) (6.0.2)\n",
            "Requirement already satisfied: requests<3,>=2.0.0 in /usr/local/lib/python3.11/dist-packages (from wandb) (2.32.3)\n",
            "Requirement already satisfied: sentry-sdk>=2.0.0 in /usr/local/lib/python3.11/dist-packages (from wandb) (2.27.0)\n",
            "Requirement already satisfied: setproctitle in /usr/local/lib/python3.11/dist-packages (from wandb) (1.3.6)\n",
            "Requirement already satisfied: setuptools in /usr/local/lib/python3.11/dist-packages (from wandb) (75.2.0)\n",
            "Requirement already satisfied: typing-extensions<5,>=4.4 in /usr/local/lib/python3.11/dist-packages (from wandb) (4.13.2)\n",
            "Requirement already satisfied: six>=1.4.0 in /usr/local/lib/python3.11/dist-packages (from docker-pycreds>=0.4.0->wandb) (1.17.0)\n",
            "Requirement already satisfied: gitdb<5,>=4.0.1 in /usr/local/lib/python3.11/dist-packages (from gitpython!=3.1.29,>=1.0.0->wandb) (4.0.12)\n",
            "Requirement already satisfied: annotated-types>=0.6.0 in /usr/local/lib/python3.11/dist-packages (from pydantic<3->wandb) (0.7.0)\n",
            "Requirement already satisfied: pydantic-core==2.33.2 in /usr/local/lib/python3.11/dist-packages (from pydantic<3->wandb) (2.33.2)\n",
            "Requirement already satisfied: typing-inspection>=0.4.0 in /usr/local/lib/python3.11/dist-packages (from pydantic<3->wandb) (0.4.0)\n",
            "Requirement already satisfied: charset-normalizer<4,>=2 in /usr/local/lib/python3.11/dist-packages (from requests<3,>=2.0.0->wandb) (3.4.1)\n",
            "Requirement already satisfied: idna<4,>=2.5 in /usr/local/lib/python3.11/dist-packages (from requests<3,>=2.0.0->wandb) (3.10)\n",
            "Requirement already satisfied: urllib3<3,>=1.21.1 in /usr/local/lib/python3.11/dist-packages (from requests<3,>=2.0.0->wandb) (2.4.0)\n",
            "Requirement already satisfied: certifi>=2017.4.17 in /usr/local/lib/python3.11/dist-packages (from requests<3,>=2.0.0->wandb) (2025.4.26)\n",
            "Requirement already satisfied: filelock in /usr/local/lib/python3.11/dist-packages (from torch>=1.9.1->kornia) (3.18.0)\n",
            "Requirement already satisfied: sympy>=1.13.3 in /usr/local/lib/python3.11/dist-packages (from torch>=1.9.1->kornia) (1.13.3)\n",
            "Requirement already satisfied: networkx in /usr/local/lib/python3.11/dist-packages (from torch>=1.9.1->kornia) (3.4.2)\n",
            "Requirement already satisfied: jinja2 in /usr/local/lib/python3.11/dist-packages (from torch>=1.9.1->kornia) (3.1.6)\n",
            "Requirement already satisfied: fsspec in /usr/local/lib/python3.11/dist-packages (from torch>=1.9.1->kornia) (2025.3.2)\n",
            "Requirement already satisfied: nvidia-cuda-nvrtc-cu11==11.8.89 in /usr/local/lib/python3.11/dist-packages (from torch>=1.9.1->kornia) (11.8.89)\n",
            "Requirement already satisfied: nvidia-cuda-runtime-cu11==11.8.89 in /usr/local/lib/python3.11/dist-packages (from torch>=1.9.1->kornia) (11.8.89)\n",
            "Requirement already satisfied: nvidia-cuda-cupti-cu11==11.8.87 in /usr/local/lib/python3.11/dist-packages (from torch>=1.9.1->kornia) (11.8.87)\n",
            "Requirement already satisfied: nvidia-cudnn-cu11==9.1.0.70 in /usr/local/lib/python3.11/dist-packages (from torch>=1.9.1->kornia) (9.1.0.70)\n",
            "Requirement already satisfied: nvidia-cublas-cu11==11.11.3.6 in /usr/local/lib/python3.11/dist-packages (from torch>=1.9.1->kornia) (11.11.3.6)\n",
            "Requirement already satisfied: nvidia-cufft-cu11==10.9.0.58 in /usr/local/lib/python3.11/dist-packages (from torch>=1.9.1->kornia) (10.9.0.58)\n",
            "Requirement already satisfied: nvidia-curand-cu11==10.3.0.86 in /usr/local/lib/python3.11/dist-packages (from torch>=1.9.1->kornia) (10.3.0.86)\n",
            "Requirement already satisfied: nvidia-cusolver-cu11==11.4.1.48 in /usr/local/lib/python3.11/dist-packages (from torch>=1.9.1->kornia) (11.4.1.48)\n",
            "Requirement already satisfied: nvidia-cusparse-cu11==11.7.5.86 in /usr/local/lib/python3.11/dist-packages (from torch>=1.9.1->kornia) (11.7.5.86)\n",
            "Requirement already satisfied: nvidia-nccl-cu11==2.21.5 in /usr/local/lib/python3.11/dist-packages (from torch>=1.9.1->kornia) (2.21.5)\n",
            "Requirement already satisfied: nvidia-nvtx-cu11==11.8.86 in /usr/local/lib/python3.11/dist-packages (from torch>=1.9.1->kornia) (11.8.86)\n",
            "Requirement already satisfied: triton==3.3.0 in /usr/local/lib/python3.11/dist-packages (from torch>=1.9.1->kornia) (3.3.0)\n",
            "Requirement already satisfied: smmap<6,>=3.0.1 in /usr/local/lib/python3.11/dist-packages (from gitdb<5,>=4.0.1->gitpython!=3.1.29,>=1.0.0->wandb) (5.0.2)\n",
            "Requirement already satisfied: mpmath<1.4,>=1.1.0 in /usr/local/lib/python3.11/dist-packages (from sympy>=1.13.3->torch>=1.9.1->kornia) (1.3.0)\n",
            "Requirement already satisfied: MarkupSafe>=2.0 in /usr/local/lib/python3.11/dist-packages (from jinja2->torch>=1.9.1->kornia) (3.0.2)\n",
            "Downloading kornia-0.8.0-py2.py3-none-any.whl (1.1 MB)\n",
            "\u001b[2K   \u001b[90m━━━━━━━━━━━━━━━━━━━━━━━━━━━━━━━━━━━━━━━━\u001b[0m \u001b[32m1.1/1.1 MB\u001b[0m \u001b[31m27.4 MB/s\u001b[0m eta \u001b[36m0:00:00\u001b[0m\n",
            "\u001b[?25hDownloading kornia_rs-0.1.8-cp311-cp311-manylinux_2_17_x86_64.manylinux2014_x86_64.whl (2.1 MB)\n",
            "\u001b[2K   \u001b[90m━━━━━━━━━━━━━━━━━━━━━━━━━━━━━━━━━━━━━━━━\u001b[0m \u001b[32m2.1/2.1 MB\u001b[0m \u001b[31m88.0 MB/s\u001b[0m eta \u001b[36m0:00:00\u001b[0m\n",
            "\u001b[?25hInstalling collected packages: kornia_rs, kornia\n",
            "Successfully installed kornia-0.8.0 kornia_rs-0.1.8\n"
          ]
        }
      ]
    },
    {
      "cell_type": "code",
      "source": [
        "!pip3 install kornia einops numpy tqdm wandb scipy"
      ],
      "metadata": {
        "colab": {
          "base_uri": "https://localhost:8080/"
        },
        "id": "letmwwoCCU4-",
        "outputId": "72c65307-d2eb-47e0-d69c-e9b3917f1047"
      },
      "execution_count": null,
      "outputs": [
        {
          "output_type": "stream",
          "name": "stdout",
          "text": [
            "^C\n"
          ]
        }
      ]
    },
    {
      "cell_type": "markdown",
      "source": [
        "# Cifar100"
      ],
      "metadata": {
        "id": "UUrydatHC0Yq"
      }
    },
    {
      "cell_type": "code",
      "source": [
        "from torchvision.datasets.cifar import CIFAR100\n",
        "CIFAR100(root=\"/content/cifar100/\", train=True, download=True)"
      ],
      "metadata": {
        "colab": {
          "base_uri": "https://localhost:8080/"
        },
        "id": "TMG1iDORHW9B",
        "outputId": "d96c4edd-4422-40ca-c623-cb7eabdbca30"
      },
      "execution_count": null,
      "outputs": [
        {
          "output_type": "stream",
          "name": "stdout",
          "text": [
            "Downloading https://www.cs.toronto.edu/~kriz/cifar-100-python.tar.gz to /content/cifar100/cifar-100-python.tar.gz\n"
          ]
        },
        {
          "output_type": "stream",
          "name": "stderr",
          "text": [
            "100%|████████████████████████████████████████████████████████████████████████████████| 169M/169M [03:24<00:00, 828kB/s]\n"
          ]
        },
        {
          "output_type": "stream",
          "name": "stdout",
          "text": [
            "Extracting /content/cifar100/cifar-100-python.tar.gz to /content/cifar100/\n"
          ]
        },
        {
          "output_type": "execute_result",
          "data": {
            "text/plain": [
              "Dataset CIFAR100\n",
              "    Number of datapoints: 50000\n",
              "    Root location: /content/cifar100/\n",
              "    Split: Train"
            ]
          },
          "metadata": {},
          "execution_count": 1
        }
      ]
    },
    {
      "cell_type": "code",
      "source": [
        "# import hard labels from CIFAR100, add random noise to them, and save the new soft labels\n",
        "\n",
        "import torch\n",
        "import torchvision\n",
        "from torchvision import transforms\n",
        "\n",
        "# --- Config ---\n",
        "dataset_path = \"/content/cifar100/\"\n",
        "output_path = \"/content/soft_labels.pt\"\n",
        "num_classes = 100\n",
        "noise_std = 0.1  # adjust as needed\n",
        "\n",
        "# --- Load dataset ---\n",
        "transform = transforms.ToTensor()\n",
        "dataset = CIFAR100(root=dataset_path, train=True, download=False, transform=transforms.ToTensor())\n",
        "hard_labels = torch.tensor(dataset.targets)  # shape: [num_samples]\n",
        "\n",
        "# --- Convert to one-hot ---\n",
        "soft_labels = torch.nn.functional.one_hot(hard_labels, num_classes=num_classes).float()\n",
        "\n",
        "# --- Add Gaussian noise ---\n",
        "noise = torch.normal(mean=0.0, std=noise_std, size=soft_labels.shape)\n",
        "noisy_soft_labels = soft_labels + noise\n",
        "\n",
        "# --- Clamp and renormalize to keep valid probability distributions ---\n",
        "noisy_soft_labels = torch.clamp(noisy_soft_labels, min=1e-6)  # prevent zeros/negatives\n",
        "noisy_soft_labels /= noisy_soft_labels.sum(dim=1, keepdim=True)  # normalize\n",
        "\n",
        "# --- Save as expected by your training script ---\n",
        "torch.save({'soft_labels': noisy_soft_labels}, output_path)\n",
        "\n",
        "print(f\"Saved soft labels to: {output_path}\")\n"
      ],
      "metadata": {
        "colab": {
          "base_uri": "https://localhost:8080/"
        },
        "id": "cICl1qb5KJgi",
        "outputId": "70899ab6-a4b3-4053-ac3f-3ce0eed8aea9"
      },
      "execution_count": null,
      "outputs": [
        {
          "output_type": "stream",
          "name": "stdout",
          "text": [
            "Saved soft labels to: /content/soft_labels.pt\n"
          ]
        }
      ]
    },
    {
      "cell_type": "code",
      "source": [
        "# Visualize the soft labels\n",
        "\n",
        "import matplotlib.pyplot as plt\n",
        "import random\n",
        "\n",
        "num_examples_to_visualize = 5  # Number of examples to visualize\n",
        "\n",
        "# Generate random indices for examples\n",
        "random_indices = random.sample(range(len(noisy_soft_labels)), num_examples_to_visualize)\n",
        "\n",
        "plt.figure(figsize=(12, 6))  # Adjust figure size if needed\n",
        "\n",
        "for i, index in enumerate(random_indices):\n",
        "    plt.subplot(1, num_examples_to_visualize, i + 1)  # Create subplots\n",
        "    plt.bar(range(num_classes), noisy_soft_labels[index].cpu().numpy())  # Plot soft labels\n",
        "    plt.title(f\"Example {i + 1}\")\n",
        "    plt.xlabel(\"Class\")\n",
        "    plt.ylabel(\"Probability\")\n",
        "    plt.xticks([])  # Remove x-axis ticks for clarity\n",
        "\n",
        "plt.tight_layout()  # Adjust spacing between subplots\n",
        "plt.show()"
      ],
      "metadata": {
        "colab": {
          "base_uri": "https://localhost:8080/",
          "height": 334
        },
        "id": "7wJMoDoALiHq",
        "outputId": "b4ca4939-954b-405a-97c8-26b204f29b8a"
      },
      "execution_count": null,
      "outputs": [
        {
          "output_type": "display_data",
          "data": {
            "text/plain": [
              "<Figure size 1200x600 with 5 Axes>"
            ],
            "image/png": "[encoded data removed]"
          },
          "metadata": {}
        }
      ]
    },
    {
      "cell_type": "code",
      "source": [
        "cd /content/no-distillation/train_expert"
      ],
      "metadata": {
        "colab": {
          "base_uri": "https://localhost:8080/"
        },
        "id": "vLPQwkpINsnB",
        "outputId": "d7ec0294-8172-4edd-e307-a58d8e555349"
      },
      "execution_count": null,
      "outputs": [
        {
          "output_type": "stream",
          "name": "stdout",
          "text": [
            "/content/no-distillation/train_expert\n"
          ]
        }
      ]
    },
    {
      "cell_type": "code",
      "source": [
        "import os\n",
        "print(os.getcwd())\n"
      ],
      "metadata": {
        "colab": {
          "base_uri": "https://localhost:8080/"
        },
        "id": "48glvk_UEXJP",
        "outputId": "cfb1412d-3acd-4fc9-e16e-85e09158cac7"
      },
      "execution_count": null,
      "outputs": [
        {
          "output_type": "stream",
          "name": "stdout",
          "text": [
            "C:\\Users\\nv1n24\\OneDrive - University of Southampton\\PhD\\Taught Modules\\COMP6258\\GroupWork\\no-distillation\n"
          ]
        }
      ]
    },
    {
      "cell_type": "code",
      "source": [
        "os.chdir(r\"C:\\Users\\nv1n24\\OneDrive - University of Southampton\\PhD\\Taught Modules\\COMP6258\\GroupWork\\no-distillation\\train_expert\")"
      ],
      "metadata": {
        "id": "8MDnDfRnEmm4"
      },
      "execution_count": null,
      "outputs": []
    },
    {
      "cell_type": "code",
      "source": [
        "import os\n",
        "print(os.getcwd())\n"
      ],
      "metadata": {
        "colab": {
          "base_uri": "https://localhost:8080/"
        },
        "id": "vADJRZ2SEtl0",
        "outputId": "9a5acde9-fbba-462e-9735-c4fcf2d4ab29"
      },
      "execution_count": null,
      "outputs": [
        {
          "output_type": "stream",
          "name": "stdout",
          "text": [
            "C:\\Users\\nv1n24\\OneDrive - University of Southampton\\PhD\\Taught Modules\\COMP6258\\GroupWork\\no-distillation\\train_expert\n"
          ]
        }
      ]
    },
    {
      "cell_type": "code",
      "source": [
        "# %cd no-distillation/train_expert\n",
        "!python buffer.py --dataset=CIFAR100 --model=ConvNet --train_epochs=30 --num_experts=1  \\\n",
        "  --buffer_path=.  --data_path=/content/cifar100 --save_interval 1"
      ],
      "metadata": {
        "colab": {
          "base_uri": "https://localhost:8080/"
        },
        "id": "ef4PP3keEbPb",
        "outputId": "a70f2ba5-3e04-4a39-f0b2-1c98134b5396"
      },
      "execution_count": null,
      "outputs": [
        {
          "output_type": "stream",
          "name": "stdout",
          "text": [
            "Files already downloaded and verified\n",
            "Files already downloaded and verified\n",
            "Hyper-parameters: \n",
            " {'dataset': 'CIFAR100', 'subset': 'imagenette', 'model': 'ConvNet', 'num_experts': 1, 'lr_teacher': 0.01, 'teacher_label': False, 'selection_strategy': 'random', 'batch_train': 256, 'batch_real': 256, 'dsa': True, 'dsa_strategy': 'color_crop_cutout_flip_scale_rotate', 'data_path': '/content/cifar100', 'buffer_path': '.', 'train_epochs': 30, 'zca': False, 'decay': False, 'mom': 0, 'l2': 0, 'save_interval': 1, 'device': device(type='cuda'), 'dsa_param': <softlabel.utils.ParamDiffAug object at 0x00000170F1358290>, 'decoder': None}\n",
            "BUILDING DATASET\n",
            "BUILDING DATASET\n",
            "class c = 0: 500 real images\n",
            "class c = 1: 500 real images\n",
            "class c = 2: 500 real images\n",
            "class c = 3: 500 real images\n",
            "class c = 4: 500 real images\n",
            "class c = 5: 500 real images\n",
            "class c = 6: 500 real images\n",
            "class c = 7: 500 real images\n",
            "class c = 8: 500 real images\n",
            "class c = 9: 500 real images\n",
            "class c = 10: 500 real images\n",
            "class c = 11: 500 real images\n",
            "class c = 12: 500 real images\n",
            "class c = 13: 500 real images\n",
            "class c = 14: 500 real images\n",
            "class c = 15: 500 real images\n",
            "class c = 16: 500 real images\n",
            "class c = 17: 500 real images\n",
            "class c = 18: 500 real images\n",
            "class c = 19: 500 real images\n",
            "class c = 20: 500 real images\n",
            "class c = 21: 500 real images\n",
            "class c = 22: 500 real images\n",
            "class c = 23: 500 real images\n",
            "class c = 24: 500 real images\n",
            "class c = 25: 500 real images\n",
            "class c = 26: 500 real images\n",
            "class c = 27: 500 real images\n",
            "class c = 28: 500 real images\n",
            "class c = 29: 500 real images\n",
            "class c = 30: 500 real images\n",
            "class c = 31: 500 real images\n",
            "class c = 32: 500 real images\n",
            "class c = 33: 500 real images\n",
            "class c = 34: 500 real images\n",
            "class c = 35: 500 real images\n",
            "class c = 36: 500 real images\n",
            "class c = 37: 500 real images\n",
            "class c = 38: 500 real images\n",
            "class c = 39: 500 real images\n",
            "class c = 40: 500 real images\n",
            "class c = 41: 500 real images\n",
            "class c = 42: 500 real images\n",
            "class c = 43: 500 real images\n",
            "class c = 44: 500 real images\n",
            "class c = 45: 500 real images\n",
            "class c = 46: 500 real images\n",
            "class c = 47: 500 real images\n",
            "class c = 48: 500 real images\n",
            "class c = 49: 500 real images\n",
            "class c = 50: 500 real images\n",
            "class c = 51: 500 real images\n",
            "class c = 52: 500 real images\n",
            "class c = 53: 500 real images\n",
            "class c = 54: 500 real images\n",
            "class c = 55: 500 real images\n",
            "class c = 56: 500 real images\n",
            "class c = 57: 500 real images\n",
            "class c = 58: 500 real images\n",
            "class c = 59: 500 real images\n",
            "class c = 60: 500 real images\n",
            "class c = 61: 500 real images\n",
            "class c = 62: 500 real images\n",
            "class c = 63: 500 real images\n",
            "class c = 64: 500 real images\n",
            "class c = 65: 500 real images\n",
            "class c = 66: 500 real images\n",
            "class c = 67: 500 real images\n",
            "class c = 68: 500 real images\n",
            "class c = 69: 500 real images\n",
            "class c = 70: 500 real images\n",
            "class c = 71: 500 real images\n",
            "class c = 72: 500 real images\n",
            "class c = 73: 500 real images\n",
            "class c = 74: 500 real images\n",
            "class c = 75: 500 real images\n",
            "class c = 76: 500 real images\n",
            "class c = 77: 500 real images\n",
            "class c = 78: 500 real images\n",
            "class c = 79: 500 real images\n",
            "class c = 80: 500 real images\n",
            "class c = 81: 500 real images\n",
            "class c = 82: 500 real images\n",
            "class c = 83: 500 real images\n",
            "class c = 84: 500 real images\n",
            "class c = 85: 500 real images\n",
            "class c = 86: 500 real images\n",
            "class c = 87: 500 real images\n",
            "class c = 88: 500 real images\n",
            "class c = 89: 500 real images\n",
            "class c = 90: 500 real images\n",
            "class c = 91: 500 real images\n",
            "class c = 92: 500 real images\n",
            "class c = 93: 500 real images\n",
            "class c = 94: 500 real images\n",
            "class c = 95: 500 real images\n",
            "class c = 96: 500 real images\n",
            "class c = 97: 500 real images\n",
            "class c = 98: 500 real images\n",
            "class c = 99: 500 real images\n",
            "real images channel 0, mean = 0.0775, std = 1.3215\n",
            "real images channel 1, mean = 0.0218, std = 1.2861\n",
            "real images channel 2, mean = -0.0278, std = 1.3739\n",
            "DC augmentation parameters: \n",
            " {'crop': 4, 'scale': 0.2, 'rotate': 45, 'noise': 0.001, 'strategy': 'crop_scale_rotate'}\n",
            "Itr: 0\tEpoch: 0\tTrain Acc: 0.05638\tTest Acc: 0.094\n",
            "2025-05-07 15:40:44.869888 Itr: 0\tEpoch: 0\tTrain Acc: 0.05638\n",
            "Itr: 0\tEpoch: 1\tTrain Acc: 0.1095\tTest Acc: 0.1294\n",
            "2025-05-07 15:41:18.989222 Itr: 0\tEpoch: 1\tTrain Acc: 0.1095\n",
            "Itr: 0\tEpoch: 2\tTrain Acc: 0.14056\tTest Acc: 0.1564\n",
            "2025-05-07 15:41:52.094508 Itr: 0\tEpoch: 2\tTrain Acc: 0.14056\n",
            "Itr: 0\tEpoch: 3\tTrain Acc: 0.16544\tTest Acc: 0.1835\n",
            "2025-05-07 15:42:26.155410 Itr: 0\tEpoch: 3\tTrain Acc: 0.16544\n",
            "Itr: 0\tEpoch: 4\tTrain Acc: 0.18508\tTest Acc: 0.2086\n",
            "2025-05-07 15:43:00.721703 Itr: 0\tEpoch: 4\tTrain Acc: 0.18508\n",
            "Itr: 0\tEpoch: 5\tTrain Acc: 0.20814\tTest Acc: 0.2315\n",
            "2025-05-07 15:43:33.060980 Itr: 0\tEpoch: 5\tTrain Acc: 0.20814\n",
            "Itr: 0\tEpoch: 6\tTrain Acc: 0.22852\tTest Acc: 0.2487\n",
            "2025-05-07 15:43:59.519096 Itr: 0\tEpoch: 6\tTrain Acc: 0.22852\n",
            "Itr: 0\tEpoch: 7\tTrain Acc: 0.24208\tTest Acc: 0.2608\n",
            "2025-05-07 15:44:28.884041 Itr: 0\tEpoch: 7\tTrain Acc: 0.24208\n",
            "Itr: 0\tEpoch: 8\tTrain Acc: 0.25932\tTest Acc: 0.2756\n",
            "2025-05-07 15:44:53.298320 Itr: 0\tEpoch: 8\tTrain Acc: 0.25932\n",
            "Itr: 0\tEpoch: 9\tTrain Acc: 0.27168\tTest Acc: 0.286\n",
            "2025-05-07 15:45:19.484505 Itr: 0\tEpoch: 9\tTrain Acc: 0.27168\n",
            "Itr: 0\tEpoch: 10\tTrain Acc: 0.2853\tTest Acc: 0.2847\n",
            "2025-05-07 15:45:45.397893 Itr: 0\tEpoch: 10\tTrain Acc: 0.2853\n",
            "Itr: 0\tEpoch: 11\tTrain Acc: 0.2977\tTest Acc: 0.3118\n",
            "2025-05-07 15:46:12.809571 Itr: 0\tEpoch: 11\tTrain Acc: 0.2977\n",
            "Itr: 0\tEpoch: 12\tTrain Acc: 0.30958\tTest Acc: 0.305\n",
            "2025-05-07 15:46:38.901969 Itr: 0\tEpoch: 12\tTrain Acc: 0.30958\n",
            "Itr: 0\tEpoch: 13\tTrain Acc: 0.31898\tTest Acc: 0.33\n",
            "2025-05-07 15:47:04.704576 Itr: 0\tEpoch: 13\tTrain Acc: 0.31898\n",
            "Itr: 0\tEpoch: 14\tTrain Acc: 0.32058\tTest Acc: 0.3292\n",
            "2025-05-07 15:47:31.945874 Itr: 0\tEpoch: 14\tTrain Acc: 0.32058\n",
            "Itr: 0\tEpoch: 15\tTrain Acc: 0.33284\tTest Acc: 0.3362\n",
            "2025-05-07 15:47:58.700233 Itr: 0\tEpoch: 15\tTrain Acc: 0.33284\n",
            "Itr: 0\tEpoch: 16\tTrain Acc: 0.34332\tTest Acc: 0.3525\n",
            "2025-05-07 15:48:39.856807 Itr: 0\tEpoch: 16\tTrain Acc: 0.34332\n",
            "Itr: 0\tEpoch: 17\tTrain Acc: 0.34696\tTest Acc: 0.3604\n",
            "2025-05-07 15:49:05.825962 Itr: 0\tEpoch: 17\tTrain Acc: 0.34696\n",
            "Itr: 0\tEpoch: 18\tTrain Acc: 0.36296\tTest Acc: 0.3539\n",
            "2025-05-07 15:49:34.168380 Itr: 0\tEpoch: 18\tTrain Acc: 0.36296\n",
            "Itr: 0\tEpoch: 19\tTrain Acc: 0.3694\tTest Acc: 0.3636\n",
            "2025-05-07 15:50:00.249408 Itr: 0\tEpoch: 19\tTrain Acc: 0.3694\n",
            "Itr: 0\tEpoch: 20\tTrain Acc: 0.37612\tTest Acc: 0.379\n",
            "2025-05-07 15:50:27.147490 Itr: 0\tEpoch: 20\tTrain Acc: 0.37612\n",
            "Itr: 0\tEpoch: 21\tTrain Acc: 0.3797\tTest Acc: 0.3755\n",
            "2025-05-07 15:50:52.631290 Itr: 0\tEpoch: 21\tTrain Acc: 0.3797\n",
            "Itr: 0\tEpoch: 22\tTrain Acc: 0.38966\tTest Acc: 0.3869\n",
            "2025-05-07 15:51:18.759668 Itr: 0\tEpoch: 22\tTrain Acc: 0.38966\n",
            "Itr: 0\tEpoch: 23\tTrain Acc: 0.39344\tTest Acc: 0.3948\n",
            "2025-05-07 15:51:44.709820 Itr: 0\tEpoch: 23\tTrain Acc: 0.39344\n",
            "Itr: 0\tEpoch: 24\tTrain Acc: 0.40318\tTest Acc: 0.3888\n",
            "2025-05-07 15:52:10.250207 Itr: 0\tEpoch: 24\tTrain Acc: 0.40318\n",
            "Itr: 0\tEpoch: 25\tTrain Acc: 0.4102\tTest Acc: 0.4022\n",
            "2025-05-07 15:52:37.468670 Itr: 0\tEpoch: 25\tTrain Acc: 0.4102\n",
            "Itr: 0\tEpoch: 26\tTrain Acc: 0.41372\tTest Acc: 0.4001\n",
            "2025-05-07 15:53:04.074401 Itr: 0\tEpoch: 26\tTrain Acc: 0.41372\n",
            "Itr: 0\tEpoch: 27\tTrain Acc: 0.42314\tTest Acc: 0.4098\n",
            "2025-05-07 15:53:33.374564 Itr: 0\tEpoch: 27\tTrain Acc: 0.42314\n",
            "Itr: 0\tEpoch: 28\tTrain Acc: 0.4202\tTest Acc: 0.3964\n",
            "2025-05-07 15:54:00.118332 Itr: 0\tEpoch: 28\tTrain Acc: 0.4202\n",
            "Itr: 0\tEpoch: 29\tTrain Acc: 0.42864\tTest Acc: 0.4154\n",
            "2025-05-07 15:54:26.271251 Itr: 0\tEpoch: 29\tTrain Acc: 0.42864\n",
            "Saving .\\CIFAR100_NO_ZCA\\ConvNet\\replay_buffer_0.pt\n"
          ]
        },
        {
          "output_type": "stream",
          "name": "stderr",
          "text": [
            "\n",
            "  0%|          | 0/50000 [00:00<?, ?it/s]\n",
            "  1%|          | 370/50000 [00:00<00:14, 3525.29it/s]\n",
            "  1%|1         | 723/50000 [00:00<00:23, 2106.86it/s]\n",
            "  2%|1         | 964/50000 [00:00<00:25, 1919.12it/s]\n",
            "  2%|2         | 1171/50000 [00:00<00:26, 1875.29it/s]\n",
            "  3%|2         | 1367/50000 [00:00<00:26, 1811.82it/s]\n",
            "  3%|3         | 1553/50000 [00:00<00:28, 1727.93it/s]\n",
            "  3%|3         | 1728/50000 [00:00<00:28, 1687.75it/s]\n",
            "  4%|3         | 1898/50000 [00:01<00:29, 1613.53it/s]\n",
            "  4%|4         | 2060/50000 [00:01<00:30, 1589.04it/s]\n",
            "  4%|4         | 2227/50000 [00:01<00:30, 1583.09it/s]\n",
            "  5%|4         | 2397/50000 [00:01<00:29, 1588.85it/s]\n",
            "  5%|5         | 2566/50000 [00:01<00:29, 1600.40it/s]\n",
            "  5%|5         | 2733/50000 [00:01<00:29, 1619.35it/s]\n",
            "  6%|5         | 2899/50000 [00:01<00:28, 1628.81it/s]\n",
            "  6%|6         | 3063/50000 [00:01<00:29, 1588.52it/s]\n",
            "  6%|6         | 3232/50000 [00:01<00:29, 1572.05it/s]\n",
            "  7%|6         | 3390/50000 [00:01<00:29, 1574.28it/s]\n",
            "  7%|7         | 3548/50000 [00:02<00:29, 1550.62it/s]\n",
            "  7%|7         | 3711/50000 [00:02<00:29, 1553.92it/s]\n",
            "  8%|7         | 3868/50000 [00:02<00:29, 1558.10it/s]\n",
            "  8%|8         | 4024/50000 [00:02<00:29, 1556.83it/s]\n",
            "  8%|8         | 4187/50000 [00:02<00:29, 1571.66it/s]\n",
            "  9%|8         | 4345/50000 [00:02<00:30, 1517.71it/s]\n",
            "  9%|8         | 4498/50000 [00:02<00:30, 1514.66it/s]\n",
            "  9%|9         | 4650/50000 [00:02<00:30, 1507.87it/s]\n",
            " 10%|9         | 4814/50000 [00:02<00:29, 1536.17it/s]\n",
            " 10%|9         | 4970/50000 [00:03<00:29, 1534.26it/s]\n",
            " 10%|#         | 5124/50000 [00:03<00:29, 1533.24it/s]\n",
            " 11%|#         | 5288/50000 [00:03<00:28, 1556.05it/s]\n",
            " 11%|#         | 5444/50000 [00:03<00:28, 1550.24it/s]\n",
            " 11%|#1        | 5600/50000 [00:03<00:29, 1502.75it/s]\n",
            " 12%|#1        | 5751/50000 [00:03<00:29, 1490.53it/s]\n",
            " 12%|#1        | 5908/50000 [00:03<00:29, 1504.50it/s]\n",
            " 12%|#2        | 6059/50000 [00:03<00:29, 1501.07it/s]\n",
            " 12%|#2        | 6219/50000 [00:03<00:28, 1522.94it/s]\n",
            " 13%|#2        | 6384/50000 [00:03<00:28, 1534.63it/s]\n",
            " 13%|#3        | 6556/50000 [00:04<00:27, 1578.09it/s]\n",
            " 13%|#3        | 6714/50000 [00:04<00:27, 1566.93it/s]\n",
            " 14%|#3        | 6871/50000 [00:04<00:27, 1567.37it/s]\n",
            " 14%|#4        | 7028/50000 [00:04<00:27, 1562.68it/s]\n",
            " 14%|#4        | 7185/50000 [00:04<00:27, 1556.55it/s]\n",
            " 15%|#4        | 7341/50000 [00:04<00:27, 1545.92it/s]\n",
            " 15%|#4        | 7496/50000 [00:04<00:27, 1545.22it/s]\n",
            " 15%|#5        | 7651/50000 [00:04<00:27, 1542.71it/s]\n",
            " 16%|#5        | 7809/50000 [00:04<00:27, 1548.40it/s]\n",
            " 16%|#5        | 7975/50000 [00:04<00:26, 1570.95it/s]\n",
            " 16%|#6        | 8133/50000 [00:05<00:26, 1567.18it/s]\n",
            " 17%|#6        | 8295/50000 [00:05<00:26, 1576.02it/s]\n",
            " 17%|#6        | 8463/50000 [00:05<00:25, 1601.53it/s]\n",
            " 17%|#7        | 8634/50000 [00:05<00:25, 1627.64it/s]\n",
            " 18%|#7        | 8801/50000 [00:05<00:25, 1629.43it/s]\n",
            " 18%|#7        | 8970/50000 [00:05<00:25, 1620.48it/s]\n",
            " 18%|#8        | 9133/50000 [00:05<00:25, 1591.76it/s]\n",
            " 19%|#8        | 9300/50000 [00:05<00:25, 1592.94it/s]\n",
            " 19%|#8        | 9495/50000 [00:05<00:24, 1677.50it/s]\n",
            " 19%|#9        | 9666/50000 [00:05<00:24, 1676.85it/s]\n",
            " 20%|#9        | 9834/50000 [00:06<00:24, 1657.06it/s]\n",
            " 20%|##        | 10000/50000 [00:06<00:24, 1648.81it/s]\n",
            " 20%|##        | 10165/50000 [00:06<00:24, 1625.28it/s]\n",
            " 21%|##        | 10328/50000 [00:06<00:24, 1594.06it/s]\n",
            " 21%|##        | 10488/50000 [00:06<00:25, 1553.49it/s]\n",
            " 21%|##1       | 10644/50000 [00:06<00:25, 1519.17it/s]\n",
            " 22%|##1       | 10804/50000 [00:06<00:25, 1512.27it/s]\n",
            " 22%|##1       | 10964/50000 [00:06<00:25, 1534.70it/s]\n",
            " 22%|##2       | 11130/50000 [00:06<00:24, 1560.98it/s]\n",
            " 23%|##2       | 11289/50000 [00:07<00:24, 1566.86it/s]\n",
            " 23%|##2       | 11446/50000 [00:07<00:24, 1545.41it/s]\n",
            " 23%|##3       | 11615/50000 [00:07<00:24, 1580.12it/s]\n",
            " 24%|##3       | 11774/50000 [00:07<00:24, 1551.63it/s]\n",
            " 24%|##3       | 11930/50000 [00:07<00:24, 1541.68it/s]\n",
            " 24%|##4       | 12091/50000 [00:07<00:24, 1544.43it/s]\n",
            " 24%|##4       | 12250/50000 [00:07<00:24, 1554.65it/s]\n",
            " 25%|##4       | 12410/50000 [00:07<00:24, 1558.58it/s]\n",
            " 25%|##5       | 12570/50000 [00:07<00:23, 1565.14it/s]\n",
            " 26%|##5       | 12755/50000 [00:07<00:22, 1646.66it/s]\n",
            " 26%|##5       | 12927/50000 [00:08<00:22, 1658.42it/s]\n",
            " 26%|##6       | 13093/50000 [00:08<00:22, 1642.80it/s]\n",
            " 27%|##6       | 13258/50000 [00:08<00:22, 1620.31it/s]\n",
            " 27%|##6       | 13421/50000 [00:08<00:23, 1581.88it/s]\n",
            " 27%|##7       | 13582/50000 [00:08<00:22, 1587.52it/s]\n",
            " 27%|##7       | 13741/50000 [00:08<00:23, 1575.97it/s]\n",
            " 28%|##7       | 13899/50000 [00:08<00:23, 1550.54it/s]\n",
            " 28%|##8       | 14055/50000 [00:08<00:23, 1528.50it/s]\n",
            " 28%|##8       | 14210/50000 [00:08<00:23, 1526.18it/s]\n",
            " 29%|##8       | 14364/50000 [00:09<00:23, 1528.51it/s]\n",
            " 29%|##9       | 14520/50000 [00:09<00:23, 1536.72it/s]\n",
            " 29%|##9       | 14674/50000 [00:09<00:23, 1527.55it/s]\n",
            " 30%|##9       | 14834/50000 [00:09<00:22, 1545.61it/s]\n",
            " 30%|##9       | 14989/50000 [00:09<00:22, 1539.21it/s]\n",
            " 30%|###       | 15158/50000 [00:09<00:22, 1537.27it/s]\n",
            " 31%|###       | 15328/50000 [00:09<00:22, 1548.33it/s]\n",
            " 31%|###       | 15483/50000 [00:09<00:22, 1544.00it/s]\n",
            " 31%|###1      | 15643/50000 [00:09<00:22, 1535.46it/s]\n",
            " 32%|###1      | 15797/50000 [00:09<00:22, 1505.00it/s]\n",
            " 32%|###1      | 15948/50000 [00:10<00:22, 1504.45it/s]\n",
            " 32%|###2      | 16099/50000 [00:10<00:22, 1498.72it/s]\n",
            " 33%|###2      | 16261/50000 [00:10<00:21, 1533.78it/s]\n",
            " 33%|###2      | 16435/50000 [00:10<00:21, 1589.18it/s]\n",
            " 33%|###3      | 16598/50000 [00:10<00:20, 1599.03it/s]\n",
            " 34%|###3      | 16772/50000 [00:10<00:20, 1598.37it/s]\n",
            " 34%|###3      | 16943/50000 [00:10<00:20, 1593.80it/s]\n",
            " 34%|###4      | 17103/50000 [00:10<00:20, 1566.73it/s]\n",
            " 35%|###4      | 17264/50000 [00:10<00:20, 1567.38it/s]\n",
            " 35%|###4      | 17425/50000 [00:10<00:20, 1579.23it/s]\n",
            " 35%|###5      | 17596/50000 [00:11<00:20, 1610.01it/s]\n",
            " 36%|###5      | 17758/50000 [00:11<00:21, 1525.27it/s]\n",
            " 36%|###5      | 17912/50000 [00:11<00:21, 1520.05it/s]\n",
            " 36%|###6      | 18065/50000 [00:11<00:21, 1519.28it/s]\n",
            " 36%|###6      | 18218/50000 [00:11<00:20, 1520.93it/s]\n",
            " 37%|###6      | 18375/50000 [00:11<00:21, 1503.97it/s]\n",
            " 37%|###7      | 18526/50000 [00:11<00:21, 1470.81it/s]\n",
            " 37%|###7      | 18699/50000 [00:11<00:20, 1508.82it/s]\n",
            " 38%|###7      | 18858/50000 [00:11<00:20, 1530.80it/s]\n",
            " 38%|###8      | 19012/50000 [00:12<00:20, 1482.19it/s]\n",
            " 38%|###8      | 19165/50000 [00:12<00:20, 1495.44it/s]\n",
            " 39%|###8      | 19328/50000 [00:12<00:19, 1533.62it/s]\n",
            " 39%|###8      | 19490/50000 [00:12<00:19, 1558.67it/s]\n",
            " 39%|###9      | 19649/50000 [00:12<00:19, 1567.67it/s]\n",
            " 40%|###9      | 19806/50000 [00:12<00:19, 1566.85it/s]\n",
            " 40%|###9      | 19963/50000 [00:12<00:19, 1566.30it/s]\n",
            " 40%|####      | 20120/50000 [00:12<00:19, 1557.65it/s]\n",
            " 41%|####      | 20276/50000 [00:12<00:19, 1555.48it/s]\n",
            " 41%|####      | 20432/50000 [00:12<00:19, 1504.06it/s]\n",
            " 41%|####1     | 20583/50000 [00:13<00:19, 1500.57it/s]\n",
            " 41%|####1     | 20737/50000 [00:13<00:19, 1511.68it/s]\n",
            " 42%|####1     | 20894/50000 [00:13<00:19, 1526.27it/s]\n",
            " 42%|####2     | 21054/50000 [00:13<00:19, 1516.84it/s]\n",
            " 42%|####2     | 21206/50000 [00:13<00:18, 1517.18it/s]\n",
            " 43%|####2     | 21375/50000 [00:13<00:18, 1526.48it/s]\n",
            " 43%|####3     | 21541/50000 [00:13<00:18, 1561.94it/s]\n",
            " 43%|####3     | 21698/50000 [00:13<00:18, 1547.42it/s]\n",
            " 44%|####3     | 21857/50000 [00:13<00:18, 1556.34it/s]\n",
            " 44%|####4     | 22013/50000 [00:13<00:18, 1541.45it/s]\n",
            " 44%|####4     | 22169/50000 [00:14<00:18, 1542.72it/s]\n",
            " 45%|####4     | 22324/50000 [00:14<00:18, 1537.03it/s]\n",
            " 45%|####4     | 22483/50000 [00:14<00:17, 1535.47it/s]\n",
            " 45%|####5     | 22647/50000 [00:14<00:17, 1564.45it/s]\n",
            " 46%|####5     | 22806/50000 [00:14<00:17, 1571.43it/s]\n",
            " 46%|####5     | 22975/50000 [00:14<00:17, 1578.38it/s]\n",
            " 46%|####6     | 23134/50000 [00:14<00:17, 1578.71it/s]\n",
            " 47%|####6     | 23292/50000 [00:14<00:17, 1564.49it/s]\n",
            " 47%|####6     | 23449/50000 [00:14<00:17, 1551.02it/s]\n",
            " 47%|####7     | 23605/50000 [00:15<00:17, 1503.12it/s]\n",
            " 48%|####7     | 23769/50000 [00:15<00:17, 1515.49it/s]\n",
            " 48%|####7     | 23922/50000 [00:15<00:17, 1514.74it/s]\n",
            " 48%|####8     | 24076/50000 [00:15<00:17, 1517.85it/s]\n",
            " 48%|####8     | 24228/50000 [00:15<00:17, 1508.40it/s]\n",
            " 49%|####8     | 24381/50000 [00:15<00:16, 1514.29it/s]\n",
            " 49%|####9     | 24533/50000 [00:15<00:16, 1499.77it/s]\n",
            " 49%|####9     | 24689/50000 [00:15<00:16, 1516.64it/s]\n",
            " 50%|####9     | 24844/50000 [00:15<00:16, 1526.44it/s]\n",
            " 50%|####9     | 24997/50000 [00:15<00:16, 1509.29it/s]\n",
            " 50%|#####     | 25158/50000 [00:16<00:16, 1526.44it/s]\n",
            " 51%|#####     | 25320/50000 [00:16<00:15, 1549.05it/s]\n",
            " 51%|#####     | 25475/50000 [00:16<00:16, 1531.29it/s]\n",
            " 51%|#####1    | 25633/50000 [00:16<00:15, 1544.04it/s]\n",
            " 52%|#####1    | 25792/50000 [00:16<00:15, 1534.49it/s]\n",
            " 52%|#####1    | 25946/50000 [00:16<00:15, 1514.43it/s]\n",
            " 52%|#####2    | 26110/50000 [00:16<00:15, 1541.21it/s]\n",
            " 53%|#####2    | 26265/50000 [00:16<00:15, 1490.16it/s]\n",
            " 53%|#####2    | 26425/50000 [00:16<00:15, 1515.47it/s]\n",
            " 53%|#####3    | 26577/50000 [00:17<00:24, 955.07it/s] \n",
            " 53%|#####3    | 26737/50000 [00:17<00:21, 1083.75it/s]\n",
            " 54%|#####3    | 26886/50000 [00:17<00:19, 1169.56it/s]\n",
            " 54%|#####4    | 27044/50000 [00:17<00:18, 1269.43it/s]\n",
            " 54%|#####4    | 27198/50000 [00:17<00:17, 1335.11it/s]\n",
            " 55%|#####4    | 27357/50000 [00:17<00:16, 1392.67it/s]\n",
            " 55%|#####5    | 27522/50000 [00:17<00:15, 1458.64it/s]\n",
            " 55%|#####5    | 27687/50000 [00:17<00:14, 1498.86it/s]\n",
            " 56%|#####5    | 27845/50000 [00:17<00:14, 1508.73it/s]\n",
            " 56%|#####6    | 28000/50000 [00:18<00:14, 1491.69it/s]\n",
            " 56%|#####6    | 28155/50000 [00:18<00:14, 1496.80it/s]\n",
            " 57%|#####6    | 28307/50000 [00:18<00:14, 1493.80it/s]\n",
            " 57%|#####6    | 28458/50000 [00:18<00:14, 1488.35it/s]\n",
            " 57%|#####7    | 28608/50000 [00:18<00:14, 1468.11it/s]\n",
            " 58%|#####7    | 28764/50000 [00:18<00:14, 1494.68it/s]\n",
            " 58%|#####7    | 28918/50000 [00:18<00:14, 1497.70it/s]\n",
            " 58%|#####8    | 29105/50000 [00:18<00:13, 1604.67it/s]\n",
            " 59%|#####8    | 29272/50000 [00:18<00:12, 1601.40it/s]\n",
            " 59%|#####8    | 29433/50000 [00:19<00:12, 1599.94it/s]\n",
            " 59%|#####9    | 29594/50000 [00:19<00:12, 1597.47it/s]\n",
            " 60%|#####9    | 29779/50000 [00:19<00:12, 1669.14it/s]\n",
            " 60%|#####9    | 29947/50000 [00:19<00:12, 1610.54it/s]\n",
            " 60%|######    | 30109/50000 [00:19<00:12, 1593.35it/s]\n",
            " 61%|######    | 30269/50000 [00:19<00:12, 1575.85it/s]\n",
            " 61%|######    | 30439/50000 [00:19<00:12, 1607.09it/s]\n",
            " 61%|######1   | 30608/50000 [00:19<00:11, 1629.85it/s]\n",
            " 62%|######1   | 30774/50000 [00:19<00:11, 1634.66it/s]\n",
            " 62%|######1   | 30938/50000 [00:19<00:11, 1631.86it/s]\n",
            " 62%|######2   | 31102/50000 [00:20<00:12, 1562.92it/s]\n",
            " 63%|######2   | 31281/50000 [00:20<00:11, 1607.61it/s]\n",
            " 63%|######2   | 31448/50000 [00:20<00:11, 1618.89it/s]\n",
            " 63%|######3   | 31611/50000 [00:20<00:11, 1586.36it/s]\n",
            " 64%|######3   | 31770/50000 [00:20<00:11, 1551.90it/s]\n",
            " 64%|######3   | 31926/50000 [00:20<00:11, 1548.93it/s]\n",
            " 64%|######4   | 32082/50000 [00:20<00:11, 1525.61it/s]\n",
            " 64%|######4   | 32246/50000 [00:20<00:11, 1549.75it/s]\n",
            " 65%|######4   | 32402/50000 [00:20<00:11, 1519.10it/s]\n",
            " 65%|######5   | 32562/50000 [00:20<00:11, 1540.69it/s]\n",
            " 65%|######5   | 32742/50000 [00:21<00:10, 1613.75it/s]\n",
            " 66%|######5   | 32908/50000 [00:21<00:10, 1626.64it/s]\n",
            " 66%|######6   | 33071/50000 [00:21<00:10, 1626.55it/s]\n",
            " 66%|######6   | 33234/50000 [00:21<00:10, 1606.92it/s]\n",
            " 67%|######6   | 33396/50000 [00:21<00:10, 1609.70it/s]\n",
            " 67%|######7   | 33561/50000 [00:21<00:10, 1610.75it/s]\n",
            " 67%|######7   | 33728/50000 [00:21<00:10, 1611.37it/s]\n",
            " 68%|######7   | 33890/50000 [00:21<00:09, 1613.62it/s]\n",
            " 68%|######8   | 34052/50000 [00:21<00:10, 1574.15it/s]\n",
            " 68%|######8   | 34226/50000 [00:22<00:09, 1585.64it/s]\n",
            " 69%|######8   | 34391/50000 [00:22<00:09, 1575.41it/s]\n",
            " 69%|######9   | 34549/50000 [00:22<00:10, 1435.52it/s]\n",
            " 69%|######9   | 34695/50000 [00:22<00:11, 1341.60it/s]\n",
            " 70%|######9   | 34848/50000 [00:22<00:11, 1373.87it/s]\n",
            " 70%|#######   | 35012/50000 [00:22<00:10, 1443.55it/s]\n",
            " 70%|#######   | 35175/50000 [00:22<00:10, 1466.54it/s]\n",
            " 71%|#######   | 35340/50000 [00:22<00:09, 1509.00it/s]\n",
            " 71%|#######   | 35493/50000 [00:22<00:10, 1420.48it/s]\n",
            " 71%|#######1  | 35637/50000 [00:23<00:10, 1425.07it/s]\n",
            " 72%|#######1  | 35781/50000 [00:23<00:09, 1428.52it/s]\n",
            " 72%|#######1  | 35939/50000 [00:23<00:09, 1443.11it/s]\n",
            " 72%|#######2  | 36105/50000 [00:23<00:09, 1493.77it/s]\n",
            " 73%|#######2  | 36277/50000 [00:23<00:08, 1533.23it/s]\n",
            " 73%|#######2  | 36431/50000 [00:23<00:09, 1481.17it/s]\n",
            " 73%|#######3  | 36580/50000 [00:23<00:09, 1404.43it/s]\n",
            " 73%|#######3  | 36748/50000 [00:23<00:08, 1473.69it/s]\n",
            " 74%|#######3  | 36913/50000 [00:23<00:08, 1520.36it/s]\n",
            " 74%|#######4  | 37078/50000 [00:23<00:08, 1549.79it/s]\n",
            " 74%|#######4  | 37234/50000 [00:24<00:08, 1551.05it/s]\n",
            " 75%|#######4  | 37394/50000 [00:24<00:08, 1534.32it/s]\n",
            " 75%|#######5  | 37548/50000 [00:24<00:08, 1416.85it/s]\n",
            " 75%|#######5  | 37692/50000 [00:24<00:08, 1421.00it/s]\n",
            " 76%|#######5  | 37836/50000 [00:24<00:08, 1421.23it/s]\n",
            " 76%|#######6  | 38009/50000 [00:24<00:08, 1498.35it/s]\n",
            " 76%|#######6  | 38170/50000 [00:24<00:07, 1505.69it/s]\n",
            " 77%|#######6  | 38334/50000 [00:24<00:07, 1541.41it/s]\n",
            " 77%|#######6  | 38489/50000 [00:24<00:08, 1420.92it/s]\n",
            " 77%|#######7  | 38634/50000 [00:25<00:08, 1411.68it/s]\n",
            " 78%|#######7  | 38792/50000 [00:25<00:07, 1457.28it/s]\n",
            " 78%|#######7  | 38944/50000 [00:25<00:07, 1467.49it/s]\n",
            " 78%|#######8  | 39114/50000 [00:25<00:07, 1504.71it/s]\n",
            " 79%|#######8  | 39266/50000 [00:25<00:07, 1505.74it/s]\n",
            " 79%|#######8  | 39422/50000 [00:25<00:07, 1494.71it/s]\n",
            " 79%|#######9  | 39572/50000 [00:25<00:07, 1452.99it/s]\n",
            " 79%|#######9  | 39720/50000 [00:25<00:07, 1455.38it/s]\n",
            " 80%|#######9  | 39879/50000 [00:25<00:06, 1489.70it/s]\n",
            " 80%|########  | 40036/50000 [00:25<00:06, 1496.60it/s]\n",
            " 80%|########  | 40199/50000 [00:26<00:06, 1535.24it/s]\n",
            " 81%|########  | 40362/50000 [00:26<00:06, 1562.97it/s]\n",
            " 81%|########1 | 40519/50000 [00:26<00:06, 1561.94it/s]\n",
            " 81%|########1 | 40676/50000 [00:26<00:06, 1450.61it/s]\n",
            " 82%|########1 | 40823/50000 [00:26<00:06, 1451.05it/s]\n",
            " 82%|########1 | 40974/50000 [00:26<00:06, 1463.69it/s]\n",
            " 82%|########2 | 41132/50000 [00:26<00:05, 1496.96it/s]\n",
            " 83%|########2 | 41289/50000 [00:26<00:05, 1501.37it/s]\n",
            " 83%|########2 | 41440/50000 [00:26<00:05, 1457.95it/s]\n",
            " 83%|########3 | 41587/50000 [00:27<00:06, 1379.01it/s]\n",
            " 83%|########3 | 41736/50000 [00:27<00:05, 1409.99it/s]\n",
            " 84%|########3 | 41889/50000 [00:27<00:05, 1436.50it/s]\n",
            " 84%|########4 | 42040/50000 [00:27<00:05, 1457.71it/s]\n",
            " 84%|########4 | 42198/50000 [00:27<00:05, 1493.35it/s]\n",
            " 85%|########4 | 42355/50000 [00:27<00:05, 1514.60it/s]\n",
            " 85%|########5 | 42507/50000 [00:27<00:05, 1402.79it/s]\n",
            " 85%|########5 | 42650/50000 [00:27<00:05, 1385.12it/s]\n",
            " 86%|########5 | 42822/50000 [00:27<00:04, 1445.60it/s]\n",
            " 86%|########5 | 42982/50000 [00:27<00:04, 1485.50it/s]\n",
            " 86%|########6 | 43144/50000 [00:28<00:04, 1524.10it/s]\n",
            " 87%|########6 | 43298/50000 [00:28<00:04, 1526.86it/s]\n",
            " 87%|########6 | 43452/50000 [00:28<00:04, 1419.02it/s]\n",
            " 87%|########7 | 43600/50000 [00:28<00:04, 1417.17it/s]\n",
            " 88%|########7 | 43758/50000 [00:28<00:04, 1457.88it/s]\n",
            " 88%|########7 | 43911/50000 [00:28<00:04, 1478.43it/s]\n",
            " 88%|########8 | 44080/50000 [00:28<00:03, 1536.56it/s]\n",
            " 88%|########8 | 44243/50000 [00:28<00:03, 1561.25it/s]\n",
            " 89%|########8 | 44400/50000 [00:28<00:03, 1467.87it/s]\n",
            " 89%|########9 | 44549/50000 [00:29<00:03, 1370.54it/s]\n",
            " 89%|########9 | 44691/50000 [00:29<00:03, 1382.33it/s]\n",
            " 90%|########9 | 44854/50000 [00:29<00:03, 1424.82it/s]\n",
            " 90%|######### | 45022/50000 [00:29<00:03, 1488.22it/s]\n",
            " 90%|######### | 45179/50000 [00:29<00:03, 1480.80it/s]\n",
            " 91%|######### | 45328/50000 [00:29<00:03, 1440.16it/s]\n",
            " 91%|######### | 45473/50000 [00:29<00:03, 1355.48it/s]\n",
            " 91%|#########1| 45630/50000 [00:29<00:03, 1390.06it/s]\n",
            " 92%|#########1| 45791/50000 [00:29<00:02, 1448.87it/s]\n",
            " 92%|#########1| 45956/50000 [00:30<00:02, 1504.55it/s]\n",
            " 92%|#########2| 46108/50000 [00:30<00:02, 1496.92it/s]\n",
            " 93%|#########2| 46270/50000 [00:30<00:02, 1529.30it/s]\n",
            " 93%|#########2| 46424/50000 [00:30<00:02, 1506.79it/s]\n",
            " 93%|#########3| 46576/50000 [00:30<00:02, 1354.01it/s]\n",
            " 93%|#########3| 46727/50000 [00:30<00:02, 1395.28it/s]\n",
            " 94%|#########3| 46888/50000 [00:30<00:02, 1452.88it/s]\n",
            " 94%|#########4| 47039/50000 [00:30<00:02, 1466.35it/s]\n",
            " 94%|#########4| 47207/50000 [00:30<00:01, 1486.83it/s]\n",
            " 95%|#########4| 47363/50000 [00:31<00:01, 1496.94it/s]\n",
            " 95%|#########5| 47514/50000 [00:31<00:01, 1382.38it/s]\n",
            " 95%|#########5| 47655/50000 [00:31<00:01, 1306.31it/s]\n",
            " 96%|#########5| 47826/50000 [00:31<00:01, 1407.41it/s]\n",
            " 96%|#########5| 47975/50000 [00:31<00:01, 1429.14it/s]\n",
            " 96%|#########6| 48136/50000 [00:31<00:01, 1479.34it/s]\n",
            " 97%|#########6| 48300/50000 [00:31<00:01, 1511.98it/s]\n",
            " 97%|#########6| 48453/50000 [00:31<00:01, 1467.24it/s]\n",
            " 97%|#########7| 48601/50000 [00:31<00:01, 1343.26it/s]\n",
            " 98%|#########7| 48758/50000 [00:32<00:00, 1403.34it/s]\n",
            " 98%|#########7| 48924/50000 [00:32<00:00, 1435.05it/s]\n",
            " 98%|#########8| 49097/50000 [00:32<00:00, 1493.39it/s]\n",
            " 98%|#########8| 49250/50000 [00:32<00:00, 1503.44it/s]\n",
            " 99%|#########8| 49402/50000 [00:32<00:00, 1505.15it/s]\n",
            " 99%|#########9| 49554/50000 [00:32<00:00, 1402.90it/s]\n",
            " 99%|#########9| 49696/50000 [00:32<00:00, 1359.07it/s]\n",
            "100%|#########9| 49854/50000 [00:32<00:00, 1409.80it/s]\n",
            "100%|##########| 50000/50000 [00:32<00:00, 1521.89it/s]\n",
            "\n",
            "0it [00:00, ?it/s]\n",
            "50000it [00:00, 1671650.17it/s]\n",
            "C:\\Users\\nv1n24\\AppData\\Local\\Programs\\Python\\Python311\\Lib\\site-packages\\torch\\functional.py:534: UserWarning: torch.meshgrid: in an upcoming release, it will be required to pass the indexing argument. (Triggered internally at C:\\actions-runner\\_work\\pytorch\\pytorch\\builder\\windows\\pytorch\\aten\\src\\ATen\\native\\TensorShape.cpp:3596.)\n",
            "  return _VF.meshgrid(tensors, **kwargs)  # type: ignore[attr-defined]\n"
          ]
        }
      ]
    },
    {
      "cell_type": "code",
      "source": [
        "cd /content/no-distillation/softlabel"
      ],
      "metadata": {
        "colab": {
          "base_uri": "https://localhost:8080/"
        },
        "id": "DFajjVaYNsYG",
        "outputId": "a6b0db44-2739-4893-fd6d-71243d982e65"
      },
      "execution_count": null,
      "outputs": [
        {
          "output_type": "stream",
          "name": "stdout",
          "text": [
            "/content/no-distillation/softlabel\n"
          ]
        }
      ]
    },
    {
      "cell_type": "code",
      "source": [
        "!pwd"
      ],
      "metadata": {
        "colab": {
          "base_uri": "https://localhost:8080/"
        },
        "id": "lwkUDzE1Ta3_",
        "outputId": "791cb60c-6c01-4d95-86b1-130529cb967f"
      },
      "execution_count": null,
      "outputs": [
        {
          "output_type": "stream",
          "name": "stdout",
          "text": [
            "/content/no-distillation/softlabel\n"
          ]
        }
      ]
    },
    {
      "cell_type": "code",
      "source": [
        "os.chdir(r\"C:\\Users\\nv1n24\\OneDrive - University of Southampton\\PhD\\Taught Modules\\COMP6258\\GroupWork\\no-distillation\\softlabel\")"
      ],
      "metadata": {
        "id": "G9x-N3ldPxgq"
      },
      "execution_count": null,
      "outputs": []
    },
    {
      "cell_type": "code",
      "source": [
        "import os\n",
        "print(os.getcwd())"
      ],
      "metadata": {
        "colab": {
          "base_uri": "https://localhost:8080/"
        },
        "id": "BBkcmftjPw-X",
        "outputId": "96005841-6b70-4320-a2d3-f3c4805482db"
      },
      "execution_count": null,
      "outputs": [
        {
          "output_type": "stream",
          "name": "stdout",
          "text": [
            "C:\\Users\\nv1n24\\OneDrive - University of Southampton\\PhD\\Taught Modules\\COMP6258\\GroupWork\\no-distillation\\softlabel\n"
          ]
        }
      ]
    },
    {
      "cell_type": "code",
      "source": [],
      "metadata": {
        "id": "BZHYgNTyQA3g"
      },
      "execution_count": null,
      "outputs": []
    },
    {
      "cell_type": "code",
      "source": [
        "# Train Student\n",
        "\n",
        "!python nodistill.py --dataset=CIFAR100 --ipc=50 --expt_type=add_noise  --teacher_label  \\\n",
        "--max_expert_epoch=30 --lr_net=1.e-02  \\\n",
        "--expert_path=../train_expert \\\n",
        "--data_path=/content/cifar100 --student_model=ConvNet \\\n",
        "--teacher_model=ConvNet --epoch_eval_train=3 --num_eval=1\n",
        "\n"
      ],
      "metadata": {
        "colab": {
          "base_uri": "https://localhost:8080/"
        },
        "id": "CU-YG3QZHa1d",
        "outputId": "48482b4a-fc6e-4def-b474-22c376c7dda1"
      },
      "execution_count": null,
      "outputs": [
        {
          "output_type": "stream",
          "name": "stdout",
          "text": [
            "CUDNN STATUS: True\n",
            "Files already downloaded and verified\n",
            "Files already downloaded and verified\n",
            "Hyper-parameters: \n",
            " {'dataset': 'CIFAR100', 'data_path': '/content/cifar100', 'expert_path': '../train_expert', 'ipc': 50, 'teacher_model': 'ConvNet', 'student_model': 'ConvNet', 'epoch_eval_train': 3, 'optimizer': 'SGD', 'lr_net': 0.01, 'expt_type': 'add_noise', 'num_eval': 1, 'batch_train': 256, 'batch_real': 256, 'zca': False, 'load_checkpoint': None, 'selection_strategy': 'random', 'dsa': True, 'dsa_strategy': 'color_crop_cutout_flip_scale_rotate', 'teacher_label': True, 'max_expert_epoch': 30, 'min_expert_epoch': 1, 'ensemble': False, 'temp': 1.0, 'wandb': False, 'run_name': None, 'notes': 'No description', 'device': 'cuda', 'im_size': [32, 32], 'dc_aug_param': None, 'dsa_param': <utils.ParamDiffAug object at 0x000002AA79A99E10>, '_wandb': {}, 'zca_trans': None, 'distributed': False}\n",
            "Evaluation model:  ConvNet\n",
            "---------------Build label to index map--------------\n",
            "initialize synthetic data from random real images\n",
            "Expert Dir: ../train_expert\\CIFAR100_NO_ZCA\\ConvNet 2 buffers detected\n",
            "[2025-05-07 21:05:47] training begins\n",
            "-------------------------\n",
            "Experiment ID = 0\n",
            "loading file ../train_expert\\CIFAR100_NO_ZCA\\ConvNet\\replay_buffer_1.pt\n",
            "[INFO] Noisy labels saved to ../noisy_labels_std0.05.pt\n",
            "-------------------------\n",
            "Evaluation\n",
            "Experiment ID = 0, model_train = ConvNet, model_eval = ConvNet\n",
            "DSA augmentation strategy: \n",
            " color_crop_cutout_flip_scale_rotate\n",
            "DSA augmentation parameters: \n",
            " {'aug_mode': 'S', 'prob_flip': 0.5, 'ratio_scale': 1.2, 'ratio_rotate': 15.0, 'ratio_crop_pad': 0.125, 'ratio_cutout': 0.5, 'ratio_noise': 0.05, 'brightness': 1.0, 'saturation': 2.0, 'contrast': 0.5}\n"
          ]
        },
        {
          "output_type": "stream",
          "name": "stderr",
          "text": [
            "\n",
            "0it [00:00, ?it/s]\n",
            "192it [00:00, 1865.72it/s]\n",
            "397it [00:00, 1972.25it/s]\n",
            "595it [00:00, 1925.13it/s]\n",
            "788it [00:00, 1894.69it/s]\n",
            "992it [00:00, 1900.68it/s]\n",
            "1189it [00:00, 1910.38it/s]\n",
            "1391it [00:00, 1925.50it/s]\n",
            "1584it [00:00, 1919.73it/s]\n",
            "1776it [00:00, 1911.59it/s]\n",
            "1972it [00:01, 1923.45it/s]\n",
            "2165it [00:01, 1897.27it/s]\n",
            "2377it [00:01, 1937.51it/s]\n",
            "2571it [00:01, 1929.49it/s]\n",
            "2772it [00:01, 1952.90it/s]\n",
            "2984it [00:01, 1953.90it/s]\n",
            "3198it [00:01, 1961.87it/s]\n",
            "3399it [00:01, 1964.90it/s]\n",
            "3601it [00:01, 1977.32it/s]\n",
            "3804it [00:01, 1990.23it/s]\n",
            "4010it [00:02, 1994.67it/s]\n",
            "4211it [00:02, 1982.10it/s]\n",
            "4421it [00:02, 1989.94it/s]\n",
            "4626it [00:02, 2004.16it/s]\n",
            "4829it [00:02, 2008.41it/s]\n",
            "5034it [00:02, 2019.51it/s]\n",
            "5236it [00:02, 1997.84it/s]\n",
            "5436it [00:02, 1988.75it/s]\n",
            "5710it [00:02, 2185.34it/s]\n",
            "6030it [00:02, 2479.10it/s]\n",
            "6340it [00:03, 2660.36it/s]\n",
            "6607it [00:03, 2472.93it/s]\n",
            "6858it [00:03, 2264.54it/s]\n",
            "7090it [00:03, 2196.10it/s]\n",
            "7313it [00:03, 2144.19it/s]\n",
            "7530it [00:03, 2115.08it/s]\n",
            "7743it [00:03, 2045.20it/s]\n",
            "7949it [00:03, 2026.57it/s]\n",
            "8159it [00:03, 2027.52it/s]\n",
            "8369it [00:04, 2016.23it/s]\n",
            "8571it [00:04, 2000.30it/s]\n",
            "8777it [00:04, 1997.99it/s]\n",
            "8990it [00:04, 2002.88it/s]\n",
            "9204it [00:04, 2000.09it/s]\n",
            "9405it [00:04, 1977.27it/s]\n",
            "9603it [00:04, 1853.15it/s]\n",
            "9790it [00:04, 1836.87it/s]\n",
            "9975it [00:04, 1833.31it/s]\n",
            "10159it [00:05, 1830.81it/s]\n",
            "10356it [00:05, 1859.93it/s]\n",
            "10543it [00:05, 1802.82it/s]\n",
            "10729it [00:05, 1792.09it/s]\n",
            "10915it [00:05, 1809.51it/s]\n",
            "11106it [00:05, 1835.16it/s]\n",
            "11312it [00:05, 1864.95it/s]\n",
            "11513it [00:05, 1905.92it/s]\n",
            "11727it [00:05, 1925.27it/s]\n",
            "11931it [00:05, 1953.77it/s]\n",
            "12132it [00:06, 1968.89it/s]\n",
            "12337it [00:06, 1982.59it/s]\n",
            "12548it [00:06, 1996.08it/s]\n",
            "12749it [00:06, 1999.46it/s]\n",
            "12961it [00:06, 1999.48it/s]\n",
            "13161it [00:06, 1999.39it/s]\n",
            "13367it [00:06, 2003.35it/s]\n",
            "13568it [00:06, 1995.26it/s]\n",
            "13768it [00:06, 1971.09it/s]\n",
            "13986it [00:07, 1983.04it/s]\n",
            "14188it [00:07, 1986.11it/s]\n",
            "14394it [00:07, 1996.08it/s]\n",
            "14594it [00:07, 1987.87it/s]\n",
            "14793it [00:07, 1921.65it/s]\n",
            "14986it [00:07, 1896.16it/s]\n",
            "15176it [00:07, 1858.06it/s]\n",
            "15374it [00:07, 1861.06it/s]\n",
            "15561it [00:07, 1849.59it/s]\n",
            "15747it [00:07, 1851.39it/s]\n",
            "15948it [00:08, 1897.47it/s]\n",
            "16138it [00:08, 1897.16it/s]\n",
            "16328it [00:08, 1888.75it/s]\n",
            "16519it [00:08, 1882.12it/s]\n",
            "16718it [00:08, 1905.99it/s]\n",
            "16918it [00:08, 1924.69it/s]\n",
            "17127it [00:08, 1949.26it/s]\n",
            "17338it [00:08, 1974.37it/s]\n",
            "17536it [00:08, 1934.01it/s]\n",
            "17730it [00:08, 1880.68it/s]\n",
            "17924it [00:09, 1893.64it/s]\n",
            "18120it [00:09, 1905.81it/s]\n",
            "18317it [00:09, 1921.83it/s]\n",
            "18516it [00:09, 1936.84it/s]\n",
            "18724it [00:09, 1956.66it/s]\n",
            "18921it [00:09, 1952.57it/s]\n",
            "19127it [00:09, 1969.46it/s]\n",
            "19329it [00:09, 1978.95it/s]\n",
            "19533it [00:09, 1976.56it/s]\n",
            "19731it [00:10, 1952.82it/s]\n",
            "19927it [00:10, 1874.76it/s]\n",
            "20116it [00:10, 1876.88it/s]\n",
            "20311it [00:10, 1894.97it/s]\n",
            "20501it [00:10, 1895.18it/s]\n",
            "20702it [00:10, 1925.47it/s]\n",
            "20917it [00:10, 1932.77it/s]\n",
            "21116it [00:10, 1947.10it/s]\n",
            "21318it [00:10, 1965.23it/s]\n",
            "21515it [00:10, 1965.69it/s]\n",
            "21713it [00:11, 1938.95it/s]\n",
            "21908it [00:11, 1760.16it/s]\n",
            "22088it [00:11, 1687.64it/s]\n",
            "22280it [00:11, 1746.74it/s]\n",
            "22479it [00:11, 1811.58it/s]\n",
            "22690it [00:11, 1853.17it/s]\n",
            "22900it [00:11, 1917.87it/s]\n",
            "23110it [00:11, 1966.50it/s]\n",
            "23316it [00:11, 1982.57it/s]\n",
            "23522it [00:12, 1985.60it/s]\n",
            "23738it [00:12, 1982.86it/s]\n",
            "23938it [00:12, 1983.53it/s]\n",
            "24138it [00:12, 1985.76it/s]\n",
            "24341it [00:12, 1996.04it/s]\n",
            "24541it [00:12, 1995.01it/s]\n",
            "24741it [00:12, 1988.70it/s]\n",
            "24942it [00:12, 1993.38it/s]\n",
            "25142it [00:12, 1975.16it/s]\n",
            "25343it [00:12, 1983.65it/s]\n",
            "25542it [00:13, 1972.70it/s]\n",
            "25759it [00:13, 1998.95it/s]\n",
            "25959it [00:13, 1984.96it/s]\n",
            "26160it [00:13, 1990.30it/s]\n",
            "26360it [00:13, 1924.24it/s]\n",
            "26553it [00:13, 1829.91it/s]\n",
            "26738it [00:13, 1835.16it/s]\n",
            "26940it [00:13, 1886.61it/s]\n",
            "27140it [00:13, 1918.24it/s]\n",
            "27338it [00:13, 1935.41it/s]\n",
            "27533it [00:14, 1855.37it/s]\n",
            "27720it [00:14, 1788.82it/s]\n",
            "27900it [00:14, 1749.05it/s]\n",
            "28089it [00:14, 1758.38it/s]\n",
            "28266it [00:14, 1750.70it/s]\n",
            "28455it [00:14, 1786.94it/s]\n",
            "28635it [00:14, 1785.31it/s]\n",
            "28814it [00:14, 1735.55it/s]\n",
            "29000it [00:14, 1765.09it/s]\n",
            "29209it [00:15, 1832.24it/s]\n",
            "29393it [00:15, 1784.24it/s]\n",
            "29572it [00:15, 1776.29it/s]\n",
            "29750it [00:15, 1737.49it/s]\n",
            "29941it [00:15, 1780.96it/s]\n",
            "30128it [00:15, 1805.26it/s]\n",
            "30309it [00:15, 1770.80it/s]\n",
            "30509it [00:15, 1836.69it/s]\n",
            "30710it [00:15, 1885.48it/s]\n",
            "30899it [00:15, 1875.90it/s]\n",
            "31087it [00:16, 1850.72it/s]\n",
            "31273it [00:16, 1828.22it/s]\n",
            "31474it [00:16, 1880.45it/s]\n",
            "31664it [00:16, 1883.66it/s]\n",
            "31853it [00:16, 1842.45it/s]\n",
            "32048it [00:16, 1868.63it/s]\n",
            "32248it [00:16, 1903.44it/s]\n",
            "32448it [00:16, 1922.84it/s]\n",
            "32655it [00:16, 1944.91it/s]\n",
            "32854it [00:16, 1947.05it/s]\n",
            "33049it [00:17, 1871.36it/s]\n",
            "33237it [00:17, 1828.82it/s]\n",
            "33421it [00:17, 1804.56it/s]\n",
            "33620it [00:17, 1854.88it/s]\n",
            "33806it [00:17, 1826.54it/s]\n",
            "33990it [00:17, 1826.00it/s]\n",
            "34193it [00:17, 1877.42it/s]\n",
            "34381it [00:17, 1833.48it/s]\n",
            "34567it [00:17, 1835.40it/s]\n",
            "34769it [00:18, 1874.82it/s]\n",
            "34971it [00:18, 1916.65it/s]\n",
            "35168it [00:18, 1931.26it/s]\n",
            "35362it [00:18, 1922.65it/s]\n",
            "35555it [00:18, 1859.98it/s]\n",
            "35742it [00:18, 1823.95it/s]\n",
            "35942it [00:18, 1870.16it/s]\n",
            "36152it [00:18, 1912.78it/s]\n",
            "36353it [00:18, 1934.71it/s]\n",
            "36547it [00:18, 1927.79it/s]\n",
            "36740it [00:19, 1915.15it/s]\n",
            "36932it [00:19, 1870.64it/s]\n",
            "37120it [00:19, 1807.32it/s]\n",
            "37302it [00:19, 1710.07it/s]\n",
            "37487it [00:19, 1733.58it/s]\n",
            "37685it [00:19, 1795.86it/s]\n",
            "37881it [00:19, 1841.08it/s]\n",
            "38079it [00:19, 1875.30it/s]\n",
            "38281it [00:19, 1881.22it/s]\n",
            "38476it [00:20, 1883.42it/s]\n",
            "38665it [00:20, 1843.98it/s]\n",
            "38850it [00:20, 1824.66it/s]\n",
            "39041it [00:20, 1845.44it/s]\n",
            "39233it [00:20, 1862.08it/s]\n",
            "39427it [00:20, 1884.61it/s]\n",
            "39619it [00:20, 1890.17it/s]\n",
            "39832it [00:20, 1929.67it/s]\n",
            "40036it [00:20, 1961.78it/s]\n",
            "40233it [00:20, 1928.55it/s]\n",
            "40426it [00:21, 1919.59it/s]\n",
            "40619it [00:21, 1802.76it/s]\n",
            "40803it [00:21, 1785.28it/s]\n",
            "40997it [00:21, 1818.24it/s]\n",
            "41192it [00:21, 1854.37it/s]\n",
            "41393it [00:21, 1897.01it/s]\n",
            "41594it [00:21, 1928.58it/s]\n",
            "41797it [00:21, 1955.86it/s]\n",
            "41993it [00:21, 1952.27it/s]\n",
            "42192it [00:21, 1946.88it/s]\n",
            "42387it [00:22, 1928.63it/s]\n",
            "42585it [00:22, 1933.98it/s]\n",
            "42789it [00:22, 1943.24it/s]\n",
            "43003it [00:22, 1971.71it/s]\n",
            "43201it [00:22, 1932.50it/s]\n",
            "43408it [00:22, 1937.70it/s]\n",
            "43626it [00:22, 1964.43it/s]\n",
            "43845it [00:22, 1976.12it/s]\n",
            "44050it [00:22, 1985.20it/s]\n",
            "44249it [00:23, 1980.32it/s]\n",
            "44458it [00:23, 1983.47it/s]\n",
            "44668it [00:23, 1994.70it/s]\n",
            "44868it [00:23, 1949.89it/s]\n",
            "45081it [00:23, 1973.81it/s]\n",
            "45279it [00:23, 1918.97it/s]\n",
            "45483it [00:23, 1929.06it/s]\n",
            "45687it [00:23, 1943.27it/s]\n",
            "45907it [00:23, 1972.87it/s]\n",
            "46108it [00:23, 1978.46it/s]\n",
            "46306it [00:24, 1972.05it/s]\n",
            "46504it [00:24, 1928.26it/s]\n",
            "46700it [00:24, 1923.60it/s]\n",
            "46893it [00:24, 1925.35it/s]\n",
            "47111it [00:24, 1998.74it/s]\n",
            "47374it [00:24, 2180.91it/s]\n",
            "47594it [00:24, 2125.53it/s]\n",
            "47808it [00:24, 2081.78it/s]\n",
            "48017it [00:24, 2078.91it/s]\n",
            "48226it [00:25, 1989.01it/s]\n",
            "48426it [00:25, 1968.25it/s]\n",
            "48624it [00:25, 1938.00it/s]\n",
            "48819it [00:25, 1924.13it/s]\n",
            "49012it [00:25, 1922.14it/s]\n",
            "49205it [00:25, 1888.34it/s]\n",
            "49395it [00:25, 1870.32it/s]\n",
            "49583it [00:25, 1861.43it/s]\n",
            "49777it [00:25, 1880.39it/s]\n",
            "49991it [00:25, 1906.31it/s]\n",
            "50000it [00:25, 1924.75it/s]\n",
            "C:\\Users\\nv1n24\\OneDrive - University of Southampton\\PhD\\Taught Modules\\COMP6258\\GroupWork\\no-distillation\\softlabel\\nodistill.py:222: FutureWarning: You are using `torch.load` with `weights_only=False` (the current default value), which uses the default pickle module implicitly. It is possible to construct malicious pickle data which will execute arbitrary code during unpickling (See https://github.com/pytorch/pytorch/blob/main/SECURITY.md#untrusted-models for more details). In a future release, the default value for `weights_only` will be flipped to `True`. This limits the functions that could be executed during unpickling. Arbitrary objects will no longer be allowed to be loaded via this mode unless they are explicitly allowlisted by the user via `torch.serialization.add_safe_globals`. We recommend you start setting `weights_only=True` for any use case where you don't have full control of the loaded file. Please open an issue on GitHub for any issues related to this experimental feature.\n",
            "  buffer = torch.load(expert_files[file_idx])\n",
            "\n",
            "  0%|          | 0/4 [00:00<?, ?it/s]C:\\Users\\nv1n24\\AppData\\Local\\Programs\\Python\\Python311\\Lib\\site-packages\\torch\\functional.py:534: UserWarning: torch.meshgrid: in an upcoming release, it will be required to pass the indexing argument. (Triggered internally at C:\\actions-runner\\_work\\pytorch\\pytorch\\builder\\windows\\pytorch\\aten\\src\\ATen\\native\\TensorShape.cpp:3596.)\n",
            "  return _VF.meshgrid(tensors, **kwargs)  # type: ignore[attr-defined]\n",
            "\n",
            "  0%|          | 0/4 [00:00<?, ?it/s]\n",
            "Traceback (most recent call last):\n",
            "  File \"C:\\Users\\nv1n24\\OneDrive - University of Southampton\\PhD\\Taught Modules\\COMP6258\\GroupWork\\no-distillation\\softlabel\\nodistill.py\", line 586, in <module>\n",
            "    main(args)\n",
            "  File \"C:\\Users\\nv1n24\\OneDrive - University of Southampton\\PhD\\Taught Modules\\COMP6258\\GroupWork\\no-distillation\\softlabel\\nodistill.py\", line 506, in main\n",
            "    _, acc_train, acc_test = evaluate_synset(it_eval, net_eval, image_syn, label_syn, testloader, args)\n",
            "                             ^^^^^^^^^^^^^^^^^^^^^^^^^^^^^^^^^^^^^^^^^^^^^^^^^^^^^^^^^^^^^^^^^^^^^^^^^^\n",
            "  File \"C:\\Users\\nv1n24\\OneDrive - University of Southampton\\PhD\\Taught Modules\\COMP6258\\GroupWork\\no-distillation\\softlabel\\utils.py\", line 418, in evaluate_synset\n",
            "    scheduler.step()\n",
            "  File \"C:\\Users\\nv1n24\\AppData\\Local\\Programs\\Python\\Python311\\Lib\\site-packages\\torch\\optim\\lr_scheduler.py\", line 238, in step\n",
            "    values = self.get_lr()\n",
            "             ^^^^^^^^^^^^^\n",
            "  File \"C:\\Users\\nv1n24\\AppData\\Local\\Programs\\Python\\Python311\\Lib\\site-packages\\torch\\optim\\lr_scheduler.py\", line 538, in get_lr\n",
            "    if (self.last_epoch == 0) or (self.last_epoch % self.step_size != 0):\n",
            "                                  ~~~~~~~~~~~~~~~~^~~~~~~~~~~~~~~~\n",
            "ZeroDivisionError: integer modulo by zero\n"
          ]
        }
      ]
    },
    {
      "cell_type": "code",
      "source": [
        "import torch\n",
        "import matplotlib.pyplot as plt\n",
        "import random\n",
        "\n",
        "# Load soft labels from file\n",
        "labels = torch.load(\"../noisy_labels_std0.05.pt\")  # Adjust path if needed\n",
        "\n",
        "num_classes = labels.shape[1]\n",
        "num_examples_to_visualize = 5\n",
        "\n",
        "# Pick random samples\n",
        "#example_indices = random.sample(range(len(labels)), num_examples_to_visualize)\n",
        "\n",
        "\n",
        "# Pick non random sample\n",
        "example_indices = list(range(num_examples_to_visualize))\n",
        "\n",
        "\n",
        "plt.figure(figsize=(15, 4))\n",
        "\n",
        "for i, idx in enumerate(example_indices):\n",
        "    plt.subplot(1, num_examples_to_visualize, i + 1)\n",
        "    plt.bar(range(num_classes), labels[idx].cpu().numpy())\n",
        "    plt.title(f\"Example {i + 1}\")\n",
        "    plt.xlabel(\"Class\")\n",
        "    plt.ylabel(\"Probability\")\n",
        "    plt.xticks([])  # Hide class labels for cleaner look\n",
        "\n",
        "plt.tight_layout()\n",
        "plt.show()\n"
      ],
      "metadata": {
        "colab": {
          "base_uri": "https://localhost:8080/",
          "height": 247
        },
        "id": "D3TcL3MbUCn6",
        "outputId": "640e40f7-15c7-402a-a4e8-30d9a3a9e518"
      },
      "execution_count": null,
      "outputs": [
        {
          "output_type": "stream",
          "name": "stderr",
          "text": [
            "C:\\Users\\nv1n24\\AppData\\Local\\Temp\\ipykernel_26800\\3783141935.py:6: FutureWarning: You are using `torch.load` with `weights_only=False` (the current default value), which uses the default pickle module implicitly. It is possible to construct malicious pickle data which will execute arbitrary code during unpickling (See https://github.com/pytorch/pytorch/blob/main/SECURITY.md#untrusted-models for more details). In a future release, the default value for `weights_only` will be flipped to `True`. This limits the functions that could be executed during unpickling. Arbitrary objects will no longer be allowed to be loaded via this mode unless they are explicitly allowlisted by the user via `torch.serialization.add_safe_globals`. We recommend you start setting `weights_only=True` for any use case where you don't have full control of the loaded file. Please open an issue on GitHub for any issues related to this experimental feature.\n",
            "  labels = torch.load(\"../noisy_labels_std0.05.pt\")  # Adjust path if needed\n"
          ]
        },
        {
          "output_type": "display_data",
          "data": {
            "text/plain": [
              "<Figure size 1500x400 with 5 Axes>"
            ],
            "image/png": "[encoded data removed]"
          },
          "metadata": {}
        }
      ]
    },
    {
      "cell_type": "code",
      "source": [
        "import torch\n",
        "import matplotlib.pyplot as plt\n",
        "import random\n",
        "\n",
        "# Load soft labels from file\n",
        "labels = torch.load(\"../original_soft_labels.pt\")  # Adjust path if needed\n",
        "\n",
        "num_classes = labels.shape[1]\n",
        "num_examples_to_visualize = 5\n",
        "\n",
        "# Pick random samples\n",
        "#example_indices = random.sample(range(len(labels)), num_examples_to_visualize)\n",
        "\n",
        "\n",
        "# Pick non random sample\n",
        "example_indices = list(range(num_examples_to_visualize))\n",
        "\n",
        "\n",
        "plt.figure(figsize=(15, 4))\n",
        "\n",
        "for i, idx in enumerate(example_indices):\n",
        "    plt.subplot(1, num_examples_to_visualize, i + 1)\n",
        "    plt.bar(range(num_classes), labels[idx].cpu().numpy())\n",
        "    plt.title(f\"Example {i + 1}\")\n",
        "    plt.xlabel(\"Class\")\n",
        "    plt.ylabel(\"Probability\")\n",
        "    plt.xticks([])  # Hide class labels for cleaner look\n",
        "\n",
        "plt.tight_layout()\n",
        "plt.show()\n"
      ],
      "metadata": {
        "colab": {
          "base_uri": "https://localhost:8080/",
          "height": 247
        },
        "id": "8TQijCB_XGdx",
        "outputId": "06f33067-63e6-480e-ad15-618dfb66209f"
      },
      "execution_count": null,
      "outputs": [
        {
          "output_type": "stream",
          "name": "stderr",
          "text": [
            "C:\\Users\\nv1n24\\AppData\\Local\\Temp\\ipykernel_26800\\2471582710.py:6: FutureWarning: You are using `torch.load` with `weights_only=False` (the current default value), which uses the default pickle module implicitly. It is possible to construct malicious pickle data which will execute arbitrary code during unpickling (See https://github.com/pytorch/pytorch/blob/main/SECURITY.md#untrusted-models for more details). In a future release, the default value for `weights_only` will be flipped to `True`. This limits the functions that could be executed during unpickling. Arbitrary objects will no longer be allowed to be loaded via this mode unless they are explicitly allowlisted by the user via `torch.serialization.add_safe_globals`. We recommend you start setting `weights_only=True` for any use case where you don't have full control of the loaded file. Please open an issue on GitHub for any issues related to this experimental feature.\n",
            "  labels = torch.load(\"../original_soft_labels.pt\")  # Adjust path if needed\n"
          ]
        },
        {
          "output_type": "display_data",
          "data": {
            "text/plain": [
              "<Figure size 1500x400 with 5 Axes>"
            ],
            "image/png": "[encoded data removed]"
          },
          "metadata": {}
        }
      ]
    }
  ]
}